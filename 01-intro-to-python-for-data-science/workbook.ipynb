{
 "cells": [
  {
   "cell_type": "markdown",
   "id": "d46d1da5",
   "metadata": {},
   "source": [
    "# 📘 Introduction to Python for Data Science\n",
    "\n",
    "This workbook is part of the \"Introduction to Python for Data Science\" course. In this notebook, we will cover Python basics, list operations, and essential tools used in data science.\n"
   ]
  },
  {
   "cell_type": "markdown",
   "id": "740996fa",
   "metadata": {},
   "source": [
    "### 🐍 Python Basics\n",
    "\n",
    "In this section, you will learn about basic Python operations, including how to perform arithmetic, create variables, and understand fundamental data types like integers, floats, strings, and booleans.\n"
   ]
  },
  {
   "cell_type": "code",
   "execution_count": 1,
   "id": "3c844f58",
   "metadata": {},
   "outputs": [
    {
     "name": "stdout",
     "output_type": "stream",
     "text": [
      "Addition: 7\n",
      "Division: 3.3333333333333335\n",
      "Multiplication: 20\n",
      "Exponentiation: 8\n"
     ]
    }
   ],
   "source": [
    "# Example: Basic arithmetic operations\n",
    "addition = 5 + 2\n",
    "division = 10 / 3\n",
    "multiplication = 4 * 5\n",
    "exponent = 2 ** 3\n",
    "\n",
    "print(\"Addition:\", addition)\n",
    "print(\"Division:\", division)\n",
    "print(\"Multiplication:\", multiplication)\n",
    "print(\"Exponentiation:\", exponent)\n"
   ]
  },
  {
   "cell_type": "markdown",
   "id": "d91da066",
   "metadata": {},
   "source": [
    "### 📌 Notes\n",
    "- Python supports basic arithmetic operations: addition, subtraction, multiplication, and division.\n",
    "- You can use variables to store data and perform calculations.\n",
    "- Common data types in Python: `int`, `float`, `str`, `bool`.\n"
   ]
  },
  {
   "cell_type": "markdown",
   "id": "f2de9d7b",
   "metadata": {},
   "source": [
    "### 📋 Python Lists\n",
    "\n",
    "In this section, you will learn how to create and manipulate Python lists. Lists are ordered collections that can store multiple types of data, and they are essential for handling data in real-world projects.\n"
   ]
  },
  {
   "cell_type": "code",
   "execution_count": 2,
   "id": "abbd8dc1",
   "metadata": {},
   "outputs": [
    {
     "name": "stdout",
     "output_type": "stream",
     "text": [
      "hallway 12.5\n"
     ]
    }
   ],
   "source": [
    "# Example: Creating a list and accessing elements\n",
    "rooms = [\"hallway\", \"kitchen\", \"bedroom\"]\n",
    "areas = [12.5, 24.5, 9.5]\n",
    "\n",
    "# Accessing elements\n",
    "print(rooms[0], areas[0])  # hallway, 12.5\n"
   ]
  },
  {
   "cell_type": "code",
   "execution_count": 3,
   "id": "9ca11bdd",
   "metadata": {},
   "outputs": [
    {
     "name": "stdout",
     "output_type": "stream",
     "text": [
      "Updated rooms: ['hallway', 'kitchen', 'bedroom', 'bathroom']\n",
      "Updated areas: [12.5, 24.5, 9.5, 9.5]\n"
     ]
    }
   ],
   "source": [
    "# Example: List Operations\n",
    "rooms.append(\"bathroom\")\n",
    "areas.append(9.5)\n",
    "\n",
    "print(\"Updated rooms:\", rooms)\n",
    "print(\"Updated areas:\", areas)\n"
   ]
  },
  {
   "cell_type": "code",
   "execution_count": 4,
   "id": "b3cd38b3",
   "metadata": {},
   "outputs": [
    {
     "name": "stdout",
     "output_type": "stream",
     "text": [
      "First two rooms: ['hallway', 'kitchen']\n"
     ]
    }
   ],
   "source": [
    "# Example: Slicing a list\n",
    "print(\"First two rooms:\", rooms[:2])\n"
   ]
  },
  {
   "cell_type": "code",
   "execution_count": 5,
   "id": "a3ef1b32",
   "metadata": {},
   "outputs": [
    {
     "name": "stdout",
     "output_type": "stream",
     "text": [
      "House details: kitchen 24.5\n"
     ]
    }
   ],
   "source": [
    "# Example: Nested lists (lists of lists)\n",
    "house = [[\"hallway\", 12.5], [\"kitchen\", 24.5], [\"bathroom\", 9.5]]\n",
    "print(\"House details:\", house[1][0], house[1][1])  # kitchen, 24.5\n"
   ]
  },
  {
   "cell_type": "markdown",
   "id": "9cac8d6b",
   "metadata": {},
   "source": [
    "### 📌 Notes\n",
    "- Lists in Python are created using `[]`.\n",
    "- Use indexing (`[]`) to access elements in a list.\n",
    "- Use `.append()`, `.remove()`, `.pop()`, and slicing to manipulate lists.\n",
    "- Nested lists can be accessed by using multiple indexes (e.g., `house[1][0]`).\n"
   ]
  },
  {
   "cell_type": "markdown",
   "id": "8c464005",
   "metadata": {},
   "source": [
    "### 🔧 Functions and Packages\n",
    "\n",
    "In this section, you will learn about Python functions, how to define your own functions, and how to use built-in functions. You will also be introduced to the concept of Python packages, which are reusable pieces of code that you can use to extend the functionality of Python.\n"
   ]
  },
  {
   "cell_type": "code",
   "execution_count": 6,
   "id": "78bf1aeb",
   "metadata": {},
   "outputs": [
    {
     "name": "stdout",
     "output_type": "stream",
     "text": [
      "Hello, Alice!\n",
      "Hello, Bob!\n",
      "Length of the list: 3\n",
      "Square root of 16: 4.0\n"
     ]
    }
   ],
   "source": [
    "# Example: Function definition\n",
    "def greet(name):\n",
    "    \"\"\"This function greets the person passed in as a parameter.\"\"\"\n",
    "    print(\"Hello, \" + name + \"!\")\n",
    "\n",
    "# Calling the function\n",
    "greet(\"Alice\")\n",
    "greet(\"Bob\")\n",
    "\n",
    "# Example: Using a built-in function\n",
    "result = len([\"apple\", \"banana\", \"cherry\"])  # len() is a built-in function\n",
    "print(\"Length of the list:\", result)\n",
    "\n",
    "# Example: Using a package (math)\n",
    "import math\n",
    "print(\"Square root of 16:\", math.sqrt(16))\n"
   ]
  },
  {
   "cell_type": "markdown",
   "id": "20993f4e",
   "metadata": {},
   "source": [
    "### 📌 Notes\n",
    "- Functions allow you to define reusable blocks of code. Use `def` to create a function.\n",
    "- You can pass arguments to functions, and functions can return values.\n",
    "- Python has many built-in functions (e.g., `len()`, `print()`).\n",
    "- You can import external packages using the `import` keyword (e.g., `import math`).\n"
   ]
  },
  {
   "cell_type": "markdown",
   "id": "08ececa0",
   "metadata": {},
   "source": [
    "### 📊 NumPy\n",
    "\n",
    "NumPy is one of the most important packages for scientific computing in Python. In this section, you will learn how to create and manipulate arrays with NumPy. You will also explore some basic data exploration techniques using NumPy arrays.\n"
   ]
  },
  {
   "cell_type": "code",
   "execution_count": 7,
   "id": "cfc888db",
   "metadata": {},
   "outputs": [
    {
     "name": "stdout",
     "output_type": "stream",
     "text": [
      "NumPy Array: [1 2 3 4 5]\n",
      "Sum of arrays: [6 6 6 6 6]\n",
      "Mean of array1: 3.0\n",
      "Reshaped array: [[1 2 3 4 5]]\n"
     ]
    }
   ],
   "source": [
    "# Example: Importing NumPy\n",
    "import numpy as np\n",
    "\n",
    "# Example: Creating NumPy arrays\n",
    "array1 = np.array([1, 2, 3, 4, 5])\n",
    "print(\"NumPy Array:\", array1)\n",
    "\n",
    "# Example: Array operations\n",
    "array2 = np.array([5, 4, 3, 2, 1])\n",
    "sum_array = array1 + array2  # Element-wise addition\n",
    "print(\"Sum of arrays:\", sum_array)\n",
    "\n",
    "# Example: Array statistics\n",
    "mean_value = np.mean(array1)\n",
    "print(\"Mean of array1:\", mean_value)\n",
    "\n",
    "# Example: Reshaping an array\n",
    "reshaped_array = array1.reshape(1, 5)  # Reshape to 1x5 matrix\n",
    "print(\"Reshaped array:\", reshaped_array)\n"
   ]
  },
  {
   "cell_type": "markdown",
   "id": "881b3e20",
   "metadata": {},
   "source": [
    "### 📌 Notes\n",
    "- NumPy arrays are more efficient than regular Python lists for numerical operations.\n",
    "- You can perform element-wise operations on arrays (e.g., addition, subtraction).\n",
    "- NumPy provides built-in functions for statistics, such as `mean()`, `sum()`, etc.\n",
    "- You can reshape NumPy arrays to change their dimensions.\n"
   ]
  }
 ],
 "metadata": {
  "kernelspec": {
   "display_name": "Python 3",
   "language": "python",
   "name": "python3"
  },
  "language_info": {
   "codemirror_mode": {
    "name": "ipython",
    "version": 3
   },
   "file_extension": ".py",
   "mimetype": "text/x-python",
   "name": "python",
   "nbconvert_exporter": "python",
   "pygments_lexer": "ipython3",
   "version": "3.12.5"
  }
 },
 "nbformat": 4,
 "nbformat_minor": 5
}

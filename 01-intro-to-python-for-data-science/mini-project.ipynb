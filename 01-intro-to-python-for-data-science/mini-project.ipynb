{
 "cells": [
  {
   "cell_type": "code",
   "execution_count": 1,
   "id": "2db76a4f",
   "metadata": {},
   "outputs": [
    {
     "name": "stdout",
     "output_type": "stream",
     "text": [
      "BMIs: [22.49134948 26.44628099 25.66115203 20.81165453 24.93074792]\n",
      "Categories: ['Normal', 'Overweight', 'Overweight', 'Normal', 'Normal']\n",
      "Average BMI: 24.07\n",
      "Max BMI: 26.45\n",
      "Min BMI: 20.81\n"
     ]
    }
   ],
   "source": [
    "# BMI Calculator for a Group of People\n",
    "\n",
    "import numpy as np\n",
    "\n",
    "# Heights in meters\n",
    "heights = [1.70, 1.65, 1.82, 1.55, 1.90]\n",
    "# Weights in kilograms\n",
    "weights = [65, 72, 85, 50, 90]\n",
    "\n",
    "# Convert to NumPy arrays\n",
    "np_heights = np.array(heights)\n",
    "np_weights = np.array(weights)\n",
    "\n",
    "# Calculate BMI = weight / height^2\n",
    "bmi = np_weights / np_heights ** 2\n",
    "print(\"BMIs:\", bmi)\n",
    "\n",
    "# Categorize BMI\n",
    "def bmi_category(value):\n",
    "    if value < 18.5:\n",
    "        return \"Underweight\"\n",
    "    elif value < 25:\n",
    "        return \"Normal\"\n",
    "    elif value < 30:\n",
    "        return \"Overweight\"\n",
    "    else:\n",
    "        return \"Obese\"\n",
    "\n",
    "categories = [bmi_category(b) for b in bmi]\n",
    "print(\"Categories:\", categories)\n",
    "\n",
    "# Some statistics\n",
    "print(\"Average BMI:\", round(np.mean(bmi), 2))\n",
    "print(\"Max BMI:\", round(np.max(bmi), 2))\n",
    "print(\"Min BMI:\", round(np.min(bmi), 2))\n"
   ]
  }
 ],
 "metadata": {
  "kernelspec": {
   "display_name": "Python 3",
   "language": "python",
   "name": "python3"
  },
  "language_info": {
   "codemirror_mode": {
    "name": "ipython",
    "version": 3
   },
   "file_extension": ".py",
   "mimetype": "text/x-python",
   "name": "python",
   "nbconvert_exporter": "python",
   "pygments_lexer": "ipython3",
   "version": "3.12.5"
  }
 },
 "nbformat": 4,
 "nbformat_minor": 5
}

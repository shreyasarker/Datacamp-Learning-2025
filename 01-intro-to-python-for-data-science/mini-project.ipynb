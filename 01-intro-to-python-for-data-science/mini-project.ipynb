{
 "cells": [
  {
   "cell_type": "code",
   "execution_count": null,
   "id": "2db76a4f",
   "metadata": {},
   "outputs": [
    {
     "ename": "",
     "evalue": "",
     "output_type": "error",
     "traceback": [
      "\u001b[1;31mRunning cells with 'Python 3.12.5' requires the ipykernel package.\n",
      "\u001b[1;31m<a href='command:jupyter.createPythonEnvAndSelectController'>Create a Python Environment</a> with the required packages.\n",
      "\u001b[1;31mOr install 'ipykernel' using the command: 'c:/Users/Asus/AppData/Local/Programs/Python/Python312/python.exe -m pip install ipykernel -U --user --force-reinstall'"
     ]
    }
   ],
   "source": [
    "# BMI Calculator for a Group of People\n",
    "\n",
    "import numpy as np\n",
    "\n",
    "# Heights in meters\n",
    "heights = [1.70, 1.65, 1.82, 1.55, 1.90]\n",
    "# Weights in kilograms\n",
    "weights = [65, 72, 85, 50, 90]\n",
    "\n",
    "# Convert to NumPy arrays\n",
    "np_heights = np.array(heights)\n",
    "np_weights = np.array(weights)\n",
    "\n",
    "# Calculate BMI = weight / height^2\n",
    "bmi = np_weights / np_heights ** 2\n",
    "print(\"BMIs:\", bmi)\n",
    "\n",
    "# Categorize BMI\n",
    "def bmi_category(value):\n",
    "    if value < 18.5:\n",
    "        return \"Underweight\"\n",
    "    elif value < 25:\n",
    "        return \"Normal\"\n",
    "    elif value < 30:\n",
    "        return \"Overweight\"\n",
    "    else:\n",
    "        return \"Obese\"\n",
    "\n",
    "categories = [bmi_category(b) for b in bmi]\n",
    "print(\"Categories:\", categories)\n",
    "\n",
    "# Some statistics\n",
    "print(\"Average BMI:\", round(np.mean(bmi), 2))\n",
    "print(\"Max BMI:\", round(np.max(bmi), 2))\n",
    "print(\"Min BMI:\", round(np.min(bmi), 2))\n"
   ]
  }
 ],
 "metadata": {
  "kernelspec": {
   "display_name": ".venv",
   "language": "python",
   "name": "python3"
  },
  "language_info": {
   "name": "python",
   "version": "3.12.5"
  }
 },
 "nbformat": 4,
 "nbformat_minor": 5
}

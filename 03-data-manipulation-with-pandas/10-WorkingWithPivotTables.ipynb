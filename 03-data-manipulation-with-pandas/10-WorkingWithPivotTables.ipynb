{
 "cells": [
  {
   "cell_type": "markdown",
   "id": "4c11fb73",
   "metadata": {},
   "source": [
    "# Working with pivot tables"
   ]
  },
  {
   "cell_type": "markdown",
   "id": "7c052443",
   "metadata": {},
   "source": [
    "In this lesson, the focus is on **performing calculations and subsetting pivot tables** efficiently.\n",
    "\n",
    "### Creating Pivot Tables\n",
    "\n",
    "To make a pivot table, use the `.pivot_table()` method:\n",
    "\n",
    "* **Values argument** → the column to aggregate.\n",
    "* **Index argument** → columns to group by and display as rows.\n",
    "* **Columns argument** → columns to group by and display as columns.\n",
    "* By default, the aggregation function is `mean`.\n",
    "\n",
    "### Using `.loc[]` with Slicing\n",
    "\n",
    "Pivot tables are essentially DataFrames with sorted indexes. This means you can use **all the techniques learned earlier**, including **`.loc[]` with slicing**, to subset rows and columns efficiently.\n",
    "\n",
    "### The `axis` Argument\n",
    "\n",
    "Many DataFrame summary methods (like `.mean()`) have an **axis** parameter:\n",
    "\n",
    "* `axis=\"index\"` (default) → compute statistics **across rows**, for each column.\n",
    "* Example: calculating the mean for each color across different dog breeds.\n",
    "\n",
    "### Calculating Statistics Across Columns\n",
    "\n",
    "To calculate a statistic **across columns**, set `axis=\"columns\"`:\n",
    "\n",
    "* Example: computing the mean height for each breed **across all colors**.\n",
    "* This is mostly applicable to pivot tables, since all columns usually contain the same data type. For general DataFrames with mixed data types, using `axis=\"columns\"` may not make sense."
   ]
  },
  {
   "cell_type": "markdown",
   "id": "312adbb6",
   "metadata": {},
   "source": [
    "## Preparing Data"
   ]
  },
  {
   "cell_type": "code",
   "execution_count": 3,
   "id": "58ad4cb8",
   "metadata": {},
   "outputs": [],
   "source": [
    "import pandas as pd\n",
    "temperatures = pd.read_csv(\"datasets/temperatures.csv\")"
   ]
  },
  {
   "cell_type": "markdown",
   "id": "d6cbf43e",
   "metadata": {},
   "source": [
    "## Exercise: Pivot temperature by city and year\n",
    "\n",
    "Tracking temperature changes by **year** can be easier than looking at every month. By aggregating data by **city and year**, we can create a more digestible summary.\n",
    "\n",
    "You can extract components of a date using the `.dt` accessor:\n",
    "\n",
    "* `dataframe[\"column\"].dt.year` → year\n",
    "* `dataframe[\"column\"].dt.month` → month\n",
    "* `dataframe[\"column\"].dt.day` → day\n",
    "\n",
    "Once we have the year column, a **pivot table** can summarize temperatures by city and year.\n",
    "\n",
    "### Instructions\n",
    "\n",
    "1. Create a new `year` column from the `date` column.\n",
    "2. Pivot the `avg_temp_c` column, using `country` and `city` as row indexes and `year` as columns.\n",
    "3. Store the pivot table in `temp_by_country_city_vs_year` and inspect it.\n"
   ]
  },
  {
   "cell_type": "code",
   "execution_count": 5,
   "id": "1ef7bbe0",
   "metadata": {},
   "outputs": [
    {
     "name": "stdout",
     "output_type": "stream",
     "text": [
      "year                                 2000       2001       2002       2003  \\\n",
      "country       city                                                           \n",
      "Afghanistan   Kabul             15.822667  15.847917  15.714583  15.132583   \n",
      "Angola        Luanda            24.410333  24.427083  24.790917  24.867167   \n",
      "Australia     Melbourne         14.320083  14.180000  14.075833  13.985583   \n",
      "              Sydney            17.567417  17.854500  17.733833  17.592333   \n",
      "Bangladesh    Dhaka             25.905250  25.931250  26.095000  25.927417   \n",
      "...                                   ...        ...        ...        ...   \n",
      "United States Chicago           11.089667  11.703083  11.532083  10.481583   \n",
      "              Los Angeles       16.643333  16.466250  16.430250  16.944667   \n",
      "              New York           9.969083  10.931000  11.252167   9.836000   \n",
      "Vietnam       Ho Chi Minh City  27.588917  27.831750  28.064750  27.827667   \n",
      "Zimbabwe      Harare            20.283667  20.861000  21.079333  20.889167   \n",
      "\n",
      "year                                 2004       2005       2006       2007  \\\n",
      "country       city                                                           \n",
      "Afghanistan   Kabul             16.128417  14.847500  15.798500  15.518000   \n",
      "Angola        Luanda            24.216167  24.414583  24.138417  24.241583   \n",
      "Australia     Melbourne         13.742083  14.378500  13.991083  14.991833   \n",
      "              Sydney            17.869667  18.028083  17.749500  18.020833   \n",
      "Bangladesh    Dhaka             26.136083  26.193333  26.440417  25.951333   \n",
      "...                                   ...        ...        ...        ...   \n",
      "United States Chicago           10.943417  11.583833  11.870500  11.448333   \n",
      "              Los Angeles       16.552833  16.431417  16.623083  16.699917   \n",
      "              New York          10.389500  10.681417  11.519250  10.627333   \n",
      "Vietnam       Ho Chi Minh City  27.686583  27.884000  28.044000  27.866667   \n",
      "Zimbabwe      Harare            20.307667  21.487417  20.699750  20.746250   \n",
      "\n",
      "year                                 2008       2009       2010       2011  \\\n",
      "country       city                                                           \n",
      "Afghanistan   Kabul             15.479250  15.093333  15.676000  15.812167   \n",
      "Angola        Luanda            24.266333  24.325083  24.440250  24.150750   \n",
      "Australia     Melbourne         14.110583  14.647417  14.231667  14.190917   \n",
      "              Sydney            17.321083  18.175833  17.999000  17.713333   \n",
      "Bangladesh    Dhaka             26.004500  26.535583  26.648167  25.803250   \n",
      "...                                   ...        ...        ...        ...   \n",
      "United States Chicago           10.242417  10.298333  11.815917  11.214250   \n",
      "              Los Angeles       17.014750  16.677000  15.887000  15.874833   \n",
      "              New York          10.641667  10.141833  11.357583  11.272250   \n",
      "Vietnam       Ho Chi Minh City  27.611417  27.853333  28.281750  27.675417   \n",
      "Zimbabwe      Harare            20.680500  20.523833  21.165833  20.781750   \n",
      "\n",
      "year                                 2012       2013  \n",
      "country       city                                    \n",
      "Afghanistan   Kabul             14.510333  16.206125  \n",
      "Angola        Luanda            24.240083  24.553875  \n",
      "Australia     Melbourne         14.268667  14.741500  \n",
      "              Sydney            17.474333  18.089750  \n",
      "Bangladesh    Dhaka             26.283583  26.587000  \n",
      "...                                   ...        ...  \n",
      "United States Chicago           12.821250  11.586889  \n",
      "              Los Angeles       17.089583  18.120667  \n",
      "              New York          11.971500  12.163889  \n",
      "Vietnam       Ho Chi Minh City  28.248750  28.455000  \n",
      "Zimbabwe      Harare            20.523333  19.756500  \n",
      "\n",
      "[100 rows x 14 columns]\n"
     ]
    }
   ],
   "source": [
    "# Convert the 'date' column to datetime\n",
    "temperatures[\"date\"] = pd.to_datetime(temperatures[\"date\"])\n",
    "\n",
    "# Step 1: Extract the year from the date column\n",
    "temperatures[\"year\"] = temperatures[\"date\"].dt.year\n",
    "\n",
    "# Step 2: Pivot avg_temp_c by country and city vs year\n",
    "temp_by_country_city_vs_year = temperatures.pivot_table(\n",
    "    values=\"avg_temp_c\",\n",
    "    index=[\"country\", \"city\"],\n",
    "    columns=\"year\"\n",
    ")\n",
    "\n",
    "# Step 3: View the pivot table\n",
    "print(temp_by_country_city_vs_year)"
   ]
  },
  {
   "cell_type": "markdown",
   "id": "81501674",
   "metadata": {},
   "source": [
    "## Exercise: Subsetting Pivot Tables\n",
    "\n",
    "Pivot tables are essentially DataFrames with sorted indexes, so all the familiar subsetting techniques apply. In particular, combining **`.loc[]` with slicing** is very powerful for selecting ranges of rows and columns.\n",
    "\n",
    "The pivot table `temp_by_country_city_vs_year` is available.\n",
    "\n",
    "### Instructions\n",
    "\n",
    "1. Subset the pivot table for countries **from Egypt to India**.\n",
    "2. Subset for the range **from Egypt, Cairo to India, Delhi**.\n",
    "3. Subset for the same range of countries and cities **for the years 2005 to 2010**."
   ]
  },
  {
   "cell_type": "code",
   "execution_count": 6,
   "id": "0b1f04e9",
   "metadata": {},
   "outputs": [
    {
     "name": "stdout",
     "output_type": "stream",
     "text": [
      "year                       2000       2001       2002       2003       2004  \\\n",
      "country  city                                                                 \n",
      "Egypt    Alexandria   20.744500  21.454583  21.456167  21.221417  21.064167   \n",
      "         Cairo        21.486167  22.330833  22.414083  22.170500  22.081917   \n",
      "         Gizeh        21.486167  22.330833  22.414083  22.170500  22.081917   \n",
      "Ethiopia Addis Abeba  18.241250  18.296417  18.469750  18.320917  18.292750   \n",
      "France   Paris        11.739667  11.371250  11.871333  11.909500  11.338833   \n",
      "Germany  Berlin       10.963667   9.690250  10.264417  10.065750   9.822583   \n",
      "India    Ahmadabad    27.436000  27.198083  27.719083  27.403833  27.628333   \n",
      "         Bangalore    25.337917  25.528167  25.755333  25.924750  25.252083   \n",
      "         Bombay       27.203667  27.243667  27.628667  27.578417  27.318750   \n",
      "         Calcutta     26.491333  26.515167  26.703917  26.561333  26.634333   \n",
      "         Delhi        26.048333  25.862917  26.634333  25.721083  26.239917   \n",
      "         Hyderabad    27.231833  27.555167  27.665167  27.844583  27.228500   \n",
      "         Jaipur       26.430250  26.023000  27.031667  26.027417  26.642167   \n",
      "         Kanpur       25.353917  25.326500  26.116833  25.409083  25.586500   \n",
      "         Lakhnau      25.353917  25.326500  26.116833  25.409083  25.586500   \n",
      "         Madras       28.811667  29.162917  29.246500  29.273083  28.810917   \n",
      "         Nagpur       26.181417  26.321667  26.753000  26.503833  26.406333   \n",
      "         New Delhi    26.048333  25.862917  26.634333  25.721083  26.239917   \n",
      "         Pune         25.110917  25.337833  25.583000  25.748417  25.316167   \n",
      "         Surat        27.029000  26.897250  27.347750  27.230917  27.290583   \n",
      "\n",
      "year                       2005       2006       2007       2008       2009  \\\n",
      "country  city                                                                 \n",
      "Egypt    Alexandria   21.082333  21.148167  21.507750  21.739000  21.670500   \n",
      "         Cairo        22.006500  22.050000  22.361000  22.644500  22.625000   \n",
      "         Gizeh        22.006500  22.050000  22.361000  22.644500  22.625000   \n",
      "Ethiopia Addis Abeba  18.312833  18.427083  18.142583  18.165000  18.765333   \n",
      "France   Paris        11.552917  11.788500  11.750833  11.278250  11.464083   \n",
      "Germany  Berlin        9.919083  10.545333  10.883167  10.657750  10.062500   \n",
      "India    Ahmadabad    26.828083  27.282833  27.511167  27.048500  28.095833   \n",
      "         Bangalore    25.476500  25.418250  25.464333  25.352583  25.725750   \n",
      "         Bombay       27.035750  27.381500  27.634667  27.177750  27.844500   \n",
      "         Calcutta     26.729167  26.986250  26.584583  26.522333  27.153250   \n",
      "         Delhi        25.716083  26.365917  26.145667  25.675000  26.554250   \n",
      "         Hyderabad    27.488833  27.471000  27.545333  27.446667  28.026500   \n",
      "         Jaipur       25.772250  26.429833  26.267000  25.877583  26.919500   \n",
      "         Kanpur       25.621500  25.848833  25.436083  25.109750  25.987083   \n",
      "         Lakhnau      25.621500  25.848833  25.436083  25.109750  25.987083   \n",
      "         Madras       29.099417  29.073250  28.970167  29.024083  29.417417   \n",
      "         Nagpur       26.229167  26.374833  26.393667  26.188000  27.138917   \n",
      "         New Delhi    25.716083  26.365917  26.145667  25.675000  26.554250   \n",
      "         Pune         25.085583  25.310167  25.584833  25.230250  25.868250   \n",
      "         Surat        26.724500  27.149417  27.311750  26.828750  27.819833   \n",
      "\n",
      "year                       2010       2011       2012       2013  \n",
      "country  city                                                     \n",
      "Egypt    Alexandria   22.459583  21.181500  21.552583  21.438500  \n",
      "         Cairo        23.718250  21.986917  22.484250  22.907000  \n",
      "         Gizeh        23.718250  21.986917  22.484250  22.907000  \n",
      "Ethiopia Addis Abeba  18.298250  18.606750  18.448583  19.539000  \n",
      "France   Paris        10.409833  12.325750  11.219917  11.011625  \n",
      "Germany  Berlin        8.606833  10.556417   9.964333  10.121500  \n",
      "India    Ahmadabad    28.017833  27.290417  27.027250  27.608625  \n",
      "         Bangalore    25.705250  25.362083  26.042333  26.610500  \n",
      "         Bombay       27.765417  27.384917  27.192500  26.713000  \n",
      "         Calcutta     27.288833  26.406917  26.935083  27.369250  \n",
      "         Delhi        26.520250  25.629500  25.889417  26.709250  \n",
      "         Hyderabad    27.693417  27.408833  28.018583  28.851250  \n",
      "         Jaipur       26.818417  25.916500  25.884500  26.844125  \n",
      "         Kanpur       26.021750  25.062083  25.445417  26.121250  \n",
      "         Lakhnau      26.021750  25.062083  25.445417  26.121250  \n",
      "         Madras       29.047333  29.063167  29.778417  30.411750  \n",
      "         Nagpur       26.927000  26.004667  26.327917  27.112375  \n",
      "         New Delhi    26.520250  25.629500  25.889417  26.709250  \n",
      "         Pune         25.749167  25.161417  25.296833  25.847625  \n",
      "         Surat        27.681667  27.016583  26.889250  27.437750  \n"
     ]
    }
   ],
   "source": [
    "# Step 1: Select countries from Egypt to India\n",
    "print(temp_by_country_city_vs_year.loc[\"Egypt\":\"India\"])"
   ]
  },
  {
   "cell_type": "code",
   "execution_count": 7,
   "id": "a18f30c4",
   "metadata": {},
   "outputs": [
    {
     "name": "stdout",
     "output_type": "stream",
     "text": [
      "year                       2000       2001       2002       2003       2004  \\\n",
      "country  city                                                                 \n",
      "Egypt    Cairo        21.486167  22.330833  22.414083  22.170500  22.081917   \n",
      "         Gizeh        21.486167  22.330833  22.414083  22.170500  22.081917   \n",
      "Ethiopia Addis Abeba  18.241250  18.296417  18.469750  18.320917  18.292750   \n",
      "France   Paris        11.739667  11.371250  11.871333  11.909500  11.338833   \n",
      "Germany  Berlin       10.963667   9.690250  10.264417  10.065750   9.822583   \n",
      "India    Ahmadabad    27.436000  27.198083  27.719083  27.403833  27.628333   \n",
      "         Bangalore    25.337917  25.528167  25.755333  25.924750  25.252083   \n",
      "         Bombay       27.203667  27.243667  27.628667  27.578417  27.318750   \n",
      "         Calcutta     26.491333  26.515167  26.703917  26.561333  26.634333   \n",
      "         Delhi        26.048333  25.862917  26.634333  25.721083  26.239917   \n",
      "\n",
      "year                       2005       2006       2007       2008       2009  \\\n",
      "country  city                                                                 \n",
      "Egypt    Cairo        22.006500  22.050000  22.361000  22.644500  22.625000   \n",
      "         Gizeh        22.006500  22.050000  22.361000  22.644500  22.625000   \n",
      "Ethiopia Addis Abeba  18.312833  18.427083  18.142583  18.165000  18.765333   \n",
      "France   Paris        11.552917  11.788500  11.750833  11.278250  11.464083   \n",
      "Germany  Berlin        9.919083  10.545333  10.883167  10.657750  10.062500   \n",
      "India    Ahmadabad    26.828083  27.282833  27.511167  27.048500  28.095833   \n",
      "         Bangalore    25.476500  25.418250  25.464333  25.352583  25.725750   \n",
      "         Bombay       27.035750  27.381500  27.634667  27.177750  27.844500   \n",
      "         Calcutta     26.729167  26.986250  26.584583  26.522333  27.153250   \n",
      "         Delhi        25.716083  26.365917  26.145667  25.675000  26.554250   \n",
      "\n",
      "year                       2010       2011       2012       2013  \n",
      "country  city                                                     \n",
      "Egypt    Cairo        23.718250  21.986917  22.484250  22.907000  \n",
      "         Gizeh        23.718250  21.986917  22.484250  22.907000  \n",
      "Ethiopia Addis Abeba  18.298250  18.606750  18.448583  19.539000  \n",
      "France   Paris        10.409833  12.325750  11.219917  11.011625  \n",
      "Germany  Berlin        8.606833  10.556417   9.964333  10.121500  \n",
      "India    Ahmadabad    28.017833  27.290417  27.027250  27.608625  \n",
      "         Bangalore    25.705250  25.362083  26.042333  26.610500  \n",
      "         Bombay       27.765417  27.384917  27.192500  26.713000  \n",
      "         Calcutta     27.288833  26.406917  26.935083  27.369250  \n",
      "         Delhi        26.520250  25.629500  25.889417  26.709250  \n"
     ]
    }
   ],
   "source": [
    "# Step 2: Select from Egypt, Cairo to India, Delhi\n",
    "print(temp_by_country_city_vs_year.loc[(\"Egypt\", \"Cairo\"):(\"India\", \"Delhi\")])"
   ]
  },
  {
   "cell_type": "code",
   "execution_count": 8,
   "id": "a2a2d07a",
   "metadata": {},
   "outputs": [
    {
     "name": "stdout",
     "output_type": "stream",
     "text": [
      "year                       2005       2006       2007       2008       2009  \\\n",
      "country  city                                                                 \n",
      "Egypt    Cairo        22.006500  22.050000  22.361000  22.644500  22.625000   \n",
      "         Gizeh        22.006500  22.050000  22.361000  22.644500  22.625000   \n",
      "Ethiopia Addis Abeba  18.312833  18.427083  18.142583  18.165000  18.765333   \n",
      "France   Paris        11.552917  11.788500  11.750833  11.278250  11.464083   \n",
      "Germany  Berlin        9.919083  10.545333  10.883167  10.657750  10.062500   \n",
      "India    Ahmadabad    26.828083  27.282833  27.511167  27.048500  28.095833   \n",
      "         Bangalore    25.476500  25.418250  25.464333  25.352583  25.725750   \n",
      "         Bombay       27.035750  27.381500  27.634667  27.177750  27.844500   \n",
      "         Calcutta     26.729167  26.986250  26.584583  26.522333  27.153250   \n",
      "         Delhi        25.716083  26.365917  26.145667  25.675000  26.554250   \n",
      "\n",
      "year                       2010  \n",
      "country  city                    \n",
      "Egypt    Cairo        23.718250  \n",
      "         Gizeh        23.718250  \n",
      "Ethiopia Addis Abeba  18.298250  \n",
      "France   Paris        10.409833  \n",
      "Germany  Berlin        8.606833  \n",
      "India    Ahmadabad    28.017833  \n",
      "         Bangalore    25.705250  \n",
      "         Bombay       27.765417  \n",
      "         Calcutta     27.288833  \n",
      "         Delhi        26.520250  \n"
     ]
    }
   ],
   "source": [
    "# Step 3: Select from Egypt, Cairo to India, Delhi, and years 2005 to 2010\n",
    "print(temp_by_country_city_vs_year.loc[(\"Egypt\", \"Cairo\"):(\"India\", \"Delhi\"), 2005:2010])"
   ]
  },
  {
   "cell_type": "markdown",
   "id": "b05bf952",
   "metadata": {},
   "source": [
    "## Exercise: Calculating on a pivot table\n",
    "\n",
    "Pivot tables often show summarized values, but that’s usually just the starting point. To get real insights, we might need to calculate more from those summaries. A common task is to figure out which row or column contains the maximum or minimum values.\n",
    "\n",
    "Remember from Chapter 1 that you can filter a Series or DataFrame by using conditions inside square brackets. For example: `series[series > value]`.\n",
    "\n",
    "You have a DataFrame called **`temp_by_country_city_vs_year`** that shows average temperatures by country, city, and year. A preview looks like this (only some years shown):\n",
    "\n",
    "| country     | city      | 2000   | 2001   | 2002   | … | 2013   |\n",
    "| ----------- | --------- | ------ | ------ | ------ | - | ------ |\n",
    "| Afghanistan | Kabul     | 15.823 | 15.848 | 15.715 | … | 16.206 |\n",
    "| Angola      | Luanda    | 24.410 | 24.427 | 24.791 | … | 24.554 |\n",
    "| Australia   | Melbourne | 14.320 | 14.180 | 14.076 | … | 14.742 |\n",
    "|             | Sydney    | 17.567 | 17.854 | 17.734 | … | 18.090 |\n",
    "| Bangladesh  | Dhaka     | 25.905 | 25.931 | 26.095 | … | 26.587 |\n",
    "\n",
    "### Instructions\n",
    "\n",
    "1. Find the average temperature for each year and store it in `avg_temp_by_year`.\n",
    "2. From that, identify which year was the warmest.\n",
    "3. Find the average temperature for each city (across all years) and save it in `avg_temp_by_city`.\n",
    "4. From that, identify which city was the coldest."
   ]
  },
  {
   "cell_type": "code",
   "execution_count": 11,
   "id": "ab6d7e24",
   "metadata": {},
   "outputs": [
    {
     "name": "stdout",
     "output_type": "stream",
     "text": [
      "year\n",
      "2000    19.506243\n",
      "2001    19.679352\n",
      "2002    19.855685\n",
      "2003    19.630197\n",
      "2004    19.672204\n",
      "2005    19.607239\n",
      "2006    19.793993\n",
      "2007    19.854270\n",
      "2008    19.608778\n",
      "2009    19.833752\n",
      "2010    19.911734\n",
      "2011    19.549197\n",
      "2012    19.668239\n",
      "2013    20.312285\n",
      "dtype: float64\n"
     ]
    }
   ],
   "source": [
    "# Step 1: Average temp for each year (columns = years)\n",
    "avg_temp_by_year = temp_by_country_city_vs_year.mean(axis=\"index\")\n",
    "print(avg_temp_by_year)"
   ]
  },
  {
   "cell_type": "code",
   "execution_count": 12,
   "id": "85541f96",
   "metadata": {},
   "outputs": [
    {
     "name": "stdout",
     "output_type": "stream",
     "text": [
      "year\n",
      "2013    20.312285\n",
      "dtype: float64\n"
     ]
    }
   ],
   "source": [
    "# Step 2: Year with maximum average temp\n",
    "warmest_year = avg_temp_by_year.loc[avg_temp_by_year == avg_temp_by_year.max()]\n",
    "print(warmest_year)"
   ]
  },
  {
   "cell_type": "code",
   "execution_count": 14,
   "id": "d5fee29f",
   "metadata": {},
   "outputs": [
    {
     "name": "stdout",
     "output_type": "stream",
     "text": [
      "country        city            \n",
      "Afghanistan    Kabul               15.541955\n",
      "Angola         Luanda              24.391616\n",
      "Australia      Melbourne           14.275411\n",
      "               Sydney              17.799250\n",
      "Bangladesh     Dhaka               26.174440\n",
      "                                     ...    \n",
      "United States  Chicago             11.330825\n",
      "               Los Angeles         16.675399\n",
      "               New York            10.911034\n",
      "Vietnam        Ho Chi Minh City    27.922857\n",
      "Zimbabwe       Harare              20.699000\n",
      "Length: 100, dtype: float64\n"
     ]
    }
   ],
   "source": [
    "# Step 3: Average temp for each city (rows = cities)\n",
    "avg_temp_by_city = temp_by_country_city_vs_year.mean(axis=\"columns\")\n",
    "print(avg_temp_by_city)"
   ]
  },
  {
   "cell_type": "code",
   "execution_count": 15,
   "id": "b961d44d",
   "metadata": {},
   "outputs": [
    {
     "name": "stdout",
     "output_type": "stream",
     "text": [
      "country  city  \n",
      "China    Harbin    4.876551\n",
      "dtype: float64\n"
     ]
    }
   ],
   "source": [
    "# Step 4: City with minimum average temp\n",
    "coldest_city = avg_temp_by_city.loc[avg_temp_by_city == avg_temp_by_city.min()]\n",
    "print(coldest_city)"
   ]
  }
 ],
 "metadata": {
  "kernelspec": {
   "display_name": "Python 3",
   "language": "python",
   "name": "python3"
  },
  "language_info": {
   "codemirror_mode": {
    "name": "ipython",
    "version": 3
   },
   "file_extension": ".py",
   "mimetype": "text/x-python",
   "name": "python",
   "nbconvert_exporter": "python",
   "pygments_lexer": "ipython3",
   "version": "3.12.5"
  }
 },
 "nbformat": 4,
 "nbformat_minor": 5
}

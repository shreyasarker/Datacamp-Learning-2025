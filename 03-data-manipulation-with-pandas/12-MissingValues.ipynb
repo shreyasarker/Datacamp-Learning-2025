{
 "cells": [
  {
   "cell_type": "markdown",
   "id": "c5102911",
   "metadata": {},
   "source": [
    "# Missing values\n",
    "\n",
    "When working with datasets, it’s common to encounter missing values, so knowing how to identify and manage them is important.\n",
    "\n",
    "###  What missing values mean\n",
    "\n",
    "Real-world data is rarely complete — some pieces of information may be absent for various reasons.\n",
    "\n",
    "### Representing missing values in pandas\n",
    "\n",
    "In pandas, missing entries are represented as `NaN`, which stands for “Not a Number.”\n",
    "\n",
    "### Detecting missing data\n",
    "\n",
    "The `.isna()` method can be used to check for missing values, returning a Boolean indicator for each entry.\n",
    "\n",
    "### Checking for missing values by column\n",
    "\n",
    "By combining `.isna()` with `.any()`, you can quickly see if any variable contains missing values.\n",
    "\n",
    "### Counting missing values\n",
    "\n",
    "Since Booleans can be summed, `.isna().sum()` provides the total number of missing entries in each column.\n",
    "\n",
    "### Visualizing missing data\n",
    "\n",
    "Bar plots can be used to show how many missing values exist per column, making it easier to identify problem areas in larger datasets.\n",
    "\n",
    "### Removing missing values\n",
    "\n",
    "One approach is to delete rows containing missing data with `.dropna()`. This is simple, but it can reduce the dataset significantly if many values are missing.\n",
    "\n",
    "### Replacing missing values\n",
    "\n",
    "Alternatively, missing data can be replaced using `.fillna()`, where you specify a substitute value. More advanced imputation techniques can also be applied depending on the situation.\n"
   ]
  },
  {
   "cell_type": "markdown",
   "id": "16b1bf26",
   "metadata": {},
   "source": [
    "## Preparing Data"
   ]
  },
  {
   "cell_type": "code",
   "execution_count": 15,
   "id": "6e622dcd",
   "metadata": {},
   "outputs": [
    {
     "data": {
      "text/html": [
       "<div>\n",
       "<style scoped>\n",
       "    .dataframe tbody tr th:only-of-type {\n",
       "        vertical-align: middle;\n",
       "    }\n",
       "\n",
       "    .dataframe tbody tr th {\n",
       "        vertical-align: top;\n",
       "    }\n",
       "\n",
       "    .dataframe thead th {\n",
       "        text-align: right;\n",
       "    }\n",
       "</style>\n",
       "<table border=\"1\" class=\"dataframe\">\n",
       "  <thead>\n",
       "    <tr style=\"text-align: right;\">\n",
       "      <th></th>\n",
       "      <th>date</th>\n",
       "      <th>avg_price</th>\n",
       "      <th>total_sold</th>\n",
       "      <th>small_sold</th>\n",
       "      <th>large_sold</th>\n",
       "      <th>xl_sold</th>\n",
       "      <th>total_bags_sold</th>\n",
       "      <th>small_bags_sold</th>\n",
       "      <th>large_bags_sold</th>\n",
       "      <th>xl_bags_sold</th>\n",
       "    </tr>\n",
       "  </thead>\n",
       "  <tbody>\n",
       "    <tr>\n",
       "      <th>0</th>\n",
       "      <td>2016-12-25</td>\n",
       "      <td>1.00</td>\n",
       "      <td>30287853.70</td>\n",
       "      <td>9255125.20</td>\n",
       "      <td>10282925.61</td>\n",
       "      <td>541972.42</td>\n",
       "      <td>10207830.47</td>\n",
       "      <td>7709584.33</td>\n",
       "      <td>2417144.92</td>\n",
       "      <td>81101.22</td>\n",
       "    </tr>\n",
       "    <tr>\n",
       "      <th>1</th>\n",
       "      <td>2016-12-18</td>\n",
       "      <td>0.96</td>\n",
       "      <td>29583882.61</td>\n",
       "      <td>9394065.91</td>\n",
       "      <td>10339168.20</td>\n",
       "      <td>427872.42</td>\n",
       "      <td>9422776.08</td>\n",
       "      <td>6970320.34</td>\n",
       "      <td>2358443.96</td>\n",
       "      <td>94011.78</td>\n",
       "    </tr>\n",
       "    <tr>\n",
       "      <th>2</th>\n",
       "      <td>2016-12-11</td>\n",
       "      <td>0.98</td>\n",
       "      <td>30093540.70</td>\n",
       "      <td>9009996.11</td>\n",
       "      <td>NaN</td>\n",
       "      <td>403047.93</td>\n",
       "      <td>10713276.64</td>\n",
       "      <td>8149438.75</td>\n",
       "      <td>2490495.07</td>\n",
       "      <td>73342.82</td>\n",
       "    </tr>\n",
       "    <tr>\n",
       "      <th>3</th>\n",
       "      <td>2016-12-04</td>\n",
       "      <td>1.00</td>\n",
       "      <td>31621221.90</td>\n",
       "      <td>11043350.90</td>\n",
       "      <td>9908982.97</td>\n",
       "      <td>428009.84</td>\n",
       "      <td>10240878.19</td>\n",
       "      <td>7187022.58</td>\n",
       "      <td>2988504.98</td>\n",
       "      <td>65350.63</td>\n",
       "    </tr>\n",
       "    <tr>\n",
       "      <th>4</th>\n",
       "      <td>2016-11-27</td>\n",
       "      <td>1.21</td>\n",
       "      <td>22923062.65</td>\n",
       "      <td>7891487.94</td>\n",
       "      <td>7337341.77</td>\n",
       "      <td>NaN</td>\n",
       "      <td>7349757.04</td>\n",
       "      <td>5691266.56</td>\n",
       "      <td>1609867.20</td>\n",
       "      <td>48623.28</td>\n",
       "    </tr>\n",
       "  </tbody>\n",
       "</table>\n",
       "</div>"
      ],
      "text/plain": [
       "         date  avg_price   total_sold   small_sold   large_sold    xl_sold  \\\n",
       "0  2016-12-25       1.00  30287853.70   9255125.20  10282925.61  541972.42   \n",
       "1  2016-12-18       0.96  29583882.61   9394065.91  10339168.20  427872.42   \n",
       "2  2016-12-11       0.98  30093540.70   9009996.11          NaN  403047.93   \n",
       "3  2016-12-04       1.00  31621221.90  11043350.90   9908982.97  428009.84   \n",
       "4  2016-11-27       1.21  22923062.65   7891487.94   7337341.77        NaN   \n",
       "\n",
       "   total_bags_sold  small_bags_sold  large_bags_sold  xl_bags_sold  \n",
       "0      10207830.47       7709584.33       2417144.92      81101.22  \n",
       "1       9422776.08       6970320.34       2358443.96      94011.78  \n",
       "2      10713276.64       8149438.75       2490495.07      73342.82  \n",
       "3      10240878.19       7187022.58       2988504.98      65350.63  \n",
       "4       7349757.04       5691266.56       1609867.20      48623.28  "
      ]
     },
     "execution_count": 15,
     "metadata": {},
     "output_type": "execute_result"
    }
   ],
   "source": [
    "import pandas as pd\n",
    "avocados_2016 = pd.read_csv(\"datasets/avocados_2016.csv\")\n",
    "avocados_2016.head()"
   ]
  },
  {
   "cell_type": "markdown",
   "id": "5ec58886",
   "metadata": {},
   "source": [
    "## Exercise: Finding missing values\n",
    "\n",
    "Missing entries are common in datasets, and they can cause problems in your analysis. While some functions automatically skip over them, others might fail completely if missing values are present. That’s why it’s important to detect and handle them before moving forward. In this task, you’ll explore whether the dataset contains any missing values and how many.\n",
    "\n",
    "You have:\n",
    "\n",
    "* `pandas` already imported as `pd`\n",
    "* `avocados_2016`, a DataFrame with avocado sales from 2016\n",
    "\n",
    "### Instructions\n",
    "\n",
    "1. Display a DataFrame showing `True` or `False` for whether each cell in `avocados_2016` is missing.\n",
    "2. Print a quick check that tells if each column contains any missing values.\n",
    "3. Make a bar chart showing how many missing values exist in each column.\n"
   ]
  },
  {
   "cell_type": "code",
   "execution_count": 16,
   "id": "b961fa90",
   "metadata": {},
   "outputs": [
    {
     "name": "stdout",
     "output_type": "stream",
     "text": [
      "     date  avg_price  total_sold  small_sold  large_sold  xl_sold  \\\n",
      "0   False      False       False       False       False    False   \n",
      "1   False      False       False       False       False    False   \n",
      "2   False      False       False       False        True    False   \n",
      "3   False      False       False       False       False    False   \n",
      "4   False      False       False       False       False     True   \n",
      "5   False      False       False        True       False    False   \n",
      "6   False      False       False       False       False    False   \n",
      "7   False      False       False       False        True    False   \n",
      "8   False      False       False       False       False    False   \n",
      "9   False      False       False       False       False    False   \n",
      "10  False      False       False       False        True    False   \n",
      "11  False      False       False       False       False    False   \n",
      "12  False      False       False       False       False    False   \n",
      "13  False      False       False       False       False    False   \n",
      "14  False      False       False       False       False    False   \n",
      "15  False      False       False       False        True    False   \n",
      "16  False      False       False       False       False     True   \n",
      "17  False      False       False       False       False    False   \n",
      "18  False      False       False       False       False    False   \n",
      "19  False      False       False       False        True    False   \n",
      "20  False      False       False       False       False    False   \n",
      "21  False      False       False       False       False    False   \n",
      "22  False      False       False       False       False    False   \n",
      "23  False      False       False       False       False    False   \n",
      "24  False      False       False       False       False    False   \n",
      "25  False      False       False       False       False    False   \n",
      "26  False      False       False       False       False    False   \n",
      "27  False      False       False       False       False    False   \n",
      "28  False      False       False       False       False    False   \n",
      "29  False      False       False       False       False    False   \n",
      "30  False      False       False       False       False     True   \n",
      "31  False      False       False       False       False    False   \n",
      "32  False      False       False       False       False     True   \n",
      "33  False      False       False       False       False    False   \n",
      "34  False      False       False       False       False    False   \n",
      "35  False      False       False       False       False    False   \n",
      "36  False      False       False        True       False    False   \n",
      "37  False      False       False       False        True    False   \n",
      "38  False      False       False       False       False    False   \n",
      "39  False      False       False       False       False    False   \n",
      "40  False      False       False        True       False    False   \n",
      "41  False      False       False       False       False    False   \n",
      "42  False      False       False       False       False    False   \n",
      "43  False      False       False       False       False    False   \n",
      "44  False      False       False        True       False    False   \n",
      "45  False      False       False       False       False    False   \n",
      "46  False      False       False       False       False    False   \n",
      "47  False      False       False       False       False    False   \n",
      "48  False      False       False       False       False    False   \n",
      "49  False      False       False       False       False    False   \n",
      "50  False      False       False        True       False    False   \n",
      "51  False      False       False        True       False    False   \n",
      "\n",
      "    total_bags_sold  small_bags_sold  large_bags_sold  xl_bags_sold  \n",
      "0             False            False            False         False  \n",
      "1             False            False            False         False  \n",
      "2             False            False            False         False  \n",
      "3             False            False            False         False  \n",
      "4             False            False            False         False  \n",
      "5             False            False            False         False  \n",
      "6             False            False            False         False  \n",
      "7             False            False            False         False  \n",
      "8             False            False            False         False  \n",
      "9             False            False            False         False  \n",
      "10            False            False            False         False  \n",
      "11            False            False            False         False  \n",
      "12            False            False            False         False  \n",
      "13            False            False            False         False  \n",
      "14            False            False            False         False  \n",
      "15            False            False            False         False  \n",
      "16            False            False            False         False  \n",
      "17            False            False            False         False  \n",
      "18            False            False            False         False  \n",
      "19            False            False            False         False  \n",
      "20            False            False            False         False  \n",
      "21            False            False            False         False  \n",
      "22            False            False            False         False  \n",
      "23            False            False            False         False  \n",
      "24            False            False            False         False  \n",
      "25            False            False            False         False  \n",
      "26            False            False            False         False  \n",
      "27            False            False            False         False  \n",
      "28            False            False            False         False  \n",
      "29            False            False            False         False  \n",
      "30            False            False            False         False  \n",
      "31            False            False            False         False  \n",
      "32            False            False            False         False  \n",
      "33            False            False            False         False  \n",
      "34            False            False            False         False  \n",
      "35            False            False            False         False  \n",
      "36            False            False            False         False  \n",
      "37            False            False            False         False  \n",
      "38            False            False            False         False  \n",
      "39            False            False            False         False  \n",
      "40            False            False            False         False  \n",
      "41            False            False            False         False  \n",
      "42            False            False            False         False  \n",
      "43            False            False            False         False  \n",
      "44            False            False            False         False  \n",
      "45            False            False            False         False  \n",
      "46            False            False            False         False  \n",
      "47            False            False            False         False  \n",
      "48            False            False            False         False  \n",
      "49            False            False            False         False  \n",
      "50            False            False            False         False  \n",
      "51            False            False            False         False  \n"
     ]
    }
   ],
   "source": [
    "# Import plotting library\n",
    "import matplotlib.pyplot as plt\n",
    "\n",
    "# 1. Identify missing values in each cell\n",
    "print(avocados_2016.isnull())"
   ]
  },
  {
   "cell_type": "code",
   "execution_count": 17,
   "id": "7ed2d758",
   "metadata": {},
   "outputs": [
    {
     "name": "stdout",
     "output_type": "stream",
     "text": [
      "date               False\n",
      "avg_price          False\n",
      "total_sold         False\n",
      "small_sold          True\n",
      "large_sold          True\n",
      "xl_sold             True\n",
      "total_bags_sold    False\n",
      "small_bags_sold    False\n",
      "large_bags_sold    False\n",
      "xl_bags_sold       False\n",
      "dtype: bool\n"
     ]
    }
   ],
   "source": [
    "# 2. Check if any missing values exist per column\n",
    "print(avocados_2016.isnull().any())"
   ]
  },
  {
   "cell_type": "code",
   "execution_count": 18,
   "id": "cc6297e9",
   "metadata": {},
   "outputs": [
    {
     "data": {
      "image/png": "[encoded data removed]",
      "text/plain": [
       "<Figure size 640x480 with 1 Axes>"
      ]
     },
     "metadata": {},
     "output_type": "display_data"
    }
   ],
   "source": [
    "# 3. Visualize number of missing values by column\n",
    "missing_counts = avocados_2016.isnull().sum()\n",
    "missing_counts.plot.bar()\n",
    "\n",
    "# 4. Display the plot\n",
    "plt.show()"
   ]
  },
  {
   "cell_type": "markdown",
   "id": "38bb2fec",
   "metadata": {},
   "source": [
    "## Exercise: Removing missing values\n",
    "\n",
    "Once you've identified missing values in your dataset, one straightforward approach is to eliminate them entirely. This ensures that your analysis is based only on complete data. In this task, you’ll remove any rows that contain missing values from the `avocados_2016` DataFrame.\n",
    "\n",
    "### Instructions\n",
    "\n",
    "1. Eliminate all rows in `avocados_2016` that contain at least one missing value and save the cleaned DataFrame as `avocados_complete`.\n",
    "2. Confirm that no missing values remain in `avocados_complete` by checking each column."
   ]
  },
  {
   "cell_type": "code",
   "execution_count": 19,
   "id": "afb66c90",
   "metadata": {},
   "outputs": [
    {
     "name": "stdout",
     "output_type": "stream",
     "text": [
      "date               False\n",
      "avg_price          False\n",
      "total_sold         False\n",
      "small_sold         False\n",
      "large_sold         False\n",
      "xl_sold            False\n",
      "total_bags_sold    False\n",
      "small_bags_sold    False\n",
      "large_bags_sold    False\n",
      "xl_bags_sold       False\n",
      "dtype: bool\n"
     ]
    }
   ],
   "source": [
    "# Remove any rows that include missing values\n",
    "avocados_complete = avocados_2016.dropna()\n",
    "\n",
    "# Confirm that there are no missing values left\n",
    "print(avocados_complete.isna().any())"
   ]
  },
  {
   "cell_type": "markdown",
   "id": "f0be931d",
   "metadata": {},
   "source": [
    "## Exercise: Replacing missing values\n",
    "\n",
    "Instead of dropping rows with missing data, another strategy is to **replace** them with a value. For numeric data, a common choice is `0`. In this case, you’ll assume that if the number of avocados sold is missing, it means **no sales happened** for that size.\n",
    "\n",
    "You’ll explore how replacing missing values changes the distribution of sales by plotting histograms before and after the replacement.\n",
    "\n",
    "### Instructions\n",
    "\n",
    "**Step 1**\n",
    "\n",
    "* A list named `cols_with_missing` has been created, containing `\"small_sold\"`, `\"large_sold\"`, and `\"xl_sold\"`.\n",
    "* Create histograms for these columns to see the distribution with missing values.\n",
    "* Display the plot.\n",
    "\n",
    "**Step 2**\n",
    "\n",
    "* Replace missing values in the DataFrame with `0` and save the result as `avocados_filled`.\n",
    "* Plot histograms for the same columns in `avocados_filled` and compare the distributions."
   ]
  },
  {
   "cell_type": "code",
   "execution_count": 20,
   "id": "d2355e48",
   "metadata": {},
   "outputs": [
    {
     "data": {
      "image/png": "[encoded data removed]",
      "text/plain": [
       "<Figure size 640x480 with 4 Axes>"
      ]
     },
     "metadata": {},
     "output_type": "display_data"
    },
    {
     "data": {
      "image/png": "[encoded data removed]",
      "text/plain": [
       "<Figure size 640x480 with 4 Axes>"
      ]
     },
     "metadata": {},
     "output_type": "display_data"
    }
   ],
   "source": [
    "# Step 1: Columns with missing values\n",
    "cols_with_missing = [\"small_sold\", \"large_sold\", \"xl_sold\"]\n",
    "\n",
    "# Plot histograms of the original columns (with NaNs)\n",
    "avocados_2016[cols_with_missing].hist()\n",
    "plt.show()\n",
    "\n",
    "# Step 2: Replace missing values with 0\n",
    "avocados_filled = avocados_2016.fillna(0)\n",
    "\n",
    "# Plot histograms of the columns after filling NaNs\n",
    "avocados_filled[cols_with_missing].hist()\n",
    "plt.show()"
   ]
  }
 ],
 "metadata": {
  "kernelspec": {
   "display_name": "Python 3",
   "language": "python",
   "name": "python3"
  },
  "language_info": {
   "codemirror_mode": {
    "name": "ipython",
    "version": 3
   },
   "file_extension": ".py",
   "mimetype": "text/x-python",
   "name": "python",
   "nbconvert_exporter": "python",
   "pygments_lexer": "ipython3",
   "version": "3.12.5"
  }
 },
 "nbformat": 4,
 "nbformat_minor": 5
}

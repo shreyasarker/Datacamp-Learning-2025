{
 "cells": [
  {
   "cell_type": "markdown",
   "id": "15687c16",
   "metadata": {},
   "source": [
    "## Preparing Dataset"
   ]
  },
  {
   "cell_type": "code",
   "execution_count": 1,
   "id": "99848722",
   "metadata": {},
   "outputs": [],
   "source": [
    "import pandas as pd\n",
    "\n",
    "data = {\n",
    "    \"region\": [\n",
    "        \"East South Central\", \"Pacific\", \"Mountain\", \"West South Central\", \"Pacific\", \"Mountain\", \"New England\",\n",
    "        \"South Atlantic\", \"South Atlantic\", \"South Atlantic\", \"South Atlantic\", \"Pacific\", \"Mountain\",\n",
    "        \"East North Central\", \"East North Central\", \"West North Central\", \"West North Central\", \"East South Central\",\n",
    "        \"West South Central\", \"New England\", \"South Atlantic\", \"New England\", \"East North Central\",\n",
    "        \"West North Central\", \"East South Central\", \"West North Central\", \"Mountain\", \"West North Central\",\n",
    "        \"Mountain\", \"New England\", \"Mid-Atlantic\", \"Mountain\", \"Mid-Atlantic\", \"South Atlantic\",\n",
    "        \"West North Central\", \"East North Central\", \"West South Central\", \"Pacific\", \"Mid-Atlantic\",\n",
    "        \"New England\", \"South Atlantic\", \"West North Central\", \"East South Central\", \"West South Central\",\n",
    "        \"Mountain\", \"New England\", \"South Atlantic\", \"Pacific\", \"South Atlantic\", \"East North Central\", \"Mountain\"\n",
    "    ],\n",
    "    \"state\": [\n",
    "        \"Alabama\", \"Alaska\", \"Arizona\", \"Arkansas\", \"California\", \"Colorado\", \"Connecticut\",\n",
    "        \"Delaware\", \"District of Columbia\", \"Florida\", \"Georgia\", \"Hawaii\", \"Idaho\",\n",
    "        \"Illinois\", \"Indiana\", \"Iowa\", \"Kansas\", \"Kentucky\",\n",
    "        \"Louisiana\", \"Maine\", \"Maryland\", \"Massachusetts\", \"Michigan\",\n",
    "        \"Minnesota\", \"Mississippi\", \"Missouri\", \"Montana\", \"Nebraska\",\n",
    "        \"Nevada\", \"New Hampshire\", \"New Jersey\", \"New Mexico\", \"New York\",\n",
    "        \"North Carolina\", \"North Dakota\", \"Ohio\", \"Oklahoma\", \"Oregon\",\n",
    "        \"Pennsylvania\", \"Rhode Island\", \"South Carolina\", \"South Dakota\", \"Tennessee\",\n",
    "        \"Texas\", \"Utah\", \"Vermont\", \"Virginia\", \"Washington\", \"West Virginia\", \"Wisconsin\", \"Wyoming\"\n",
    "    ],\n",
    "    \"individuals\": [\n",
    "        2570.0, 1434.0, 7259.0, 2280.0, 109008.0, 7607.0, 2280.0,\n",
    "        708.0, 3770.0, 21443.0, 6943.0, 4131.0, 1297.0,\n",
    "        6752.0, 3776.0, 1711.0, 1443.0, 2735.0,\n",
    "        2540.0, 1450.0, 4914.0, 6811.0, 5209.0,\n",
    "        3993.0, 1024.0, 3776.0, 983.0, 1745.0,\n",
    "        7058.0, 835.0, 6048.0, 1949.0, 39827.0,\n",
    "        6451.0, 467.0, 6929.0, 2823.0, 11139.0,\n",
    "        8163.0, 747.0, 3082.0, 836.0, 6139.0,\n",
    "        19199.0, 1904.0, 780.0, 3928.0, 16424.0, 1021.0, 2740.0, 434.0\n",
    "    ],\n",
    "    \"family_members\": [\n",
    "        864.0, 582.0, 2606.0, 432.0, 20964.0, 3250.0, 1696.0,\n",
    "        374.0, 3134.0, 9587.0, 2556.0, 2399.0, 715.0,\n",
    "        3891.0, 1482.0, 1038.0, 773.0, 953.0,\n",
    "        519.0, 1066.0, 2230.0, 13257.0, 3142.0,\n",
    "        3250.0, 328.0, 2107.0, 422.0, 676.0,\n",
    "        486.0, 615.0, 3350.0, 602.0, 52070.0,\n",
    "        2817.0, 75.0, 3320.0, 1048.0, 3337.0,\n",
    "        5349.0, 354.0, 851.0, 323.0, 1744.0,\n",
    "        6111.0, 972.0, 511.0, 2047.0, 5880.0, 222.0, 2167.0, 205.0\n",
    "    ],\n",
    "    \"state_pop\": [\n",
    "        4887681, 735139, 7158024, 3009733, 39461588, 5691287, 3571520,\n",
    "        965479, 701547, 21244317, 10511131, 1420593, 1750536,\n",
    "        12723071, 6695497, 3148618, 2911359, 4461153,\n",
    "        4659690, 1339057, 6035802, 6882635, 9984072,\n",
    "        5606249, 2981020, 6121623, 1060665, 1925614,\n",
    "        3027341, 1353465, 8886025, 2092741, 19530351,\n",
    "        10381615, 758080, 11676341, 3940235, 4181886,\n",
    "        12800922, 1058287, 5084156, 878698, 6771631,\n",
    "        28628666, 3153550, 624358, 8501286, 7523869, 1804291, 5807406, 577601\n",
    "    ]\n",
    "}\n",
    "\n",
    "homelessness = pd.DataFrame(data)"
   ]
  },
  {
   "cell_type": "markdown",
   "id": "bdce0f57",
   "metadata": {},
   "source": [
    "## Exercise: Sorting rows\n",
    "\n",
    "When working with a DataFrame, reorganizing the rows can help you discover patterns or highlight specific data points. The `.sort_values()` method lets you sort the DataFrame based on one or more columns.\n",
    "\n",
    "### Syntax Overview\n",
    "- **Sort by a single column**:\n",
    "  ```python\n",
    "  df.sort_values(\"column_name\")\n",
    "   ````\n",
    "\n",
    "- **Sort by multiple columns** (helps break ties):\n",
    "\n",
    "  ```python\n",
    "  df.sort_values([\"col1\", \"col2\"])\n",
    "  ```\n",
    "\n",
    "By combining `.sort_values()` with `.head()`, you can answer questions like “What are the top entries where...?”\n",
    "\n",
    "### Instructions:\n",
    "\n",
    "1. **Sort by Individual Homeless Counts (Ascending)**\n",
    "   Arrange the `homelessness` DataFrame based on the `individuals` column from lowest to highest.\n",
    "   Store the result in a new variable called `homelessness_ind` and display the first few rows.\n",
    "\n",
    "2. **Sort by Family Member Counts (Descending)**\n",
    "   Reorder the DataFrame by the `family_members` column in descending order.\n",
    "   Save the result as `homelessness_fam`.\n",
    "\n",
    "3. **Sort by Region and Family Members**\n",
    "   First sort by `region` (A–Z), and then within each region, sort by `family_members` in descending order.\n",
    "   Store the final DataFrame in `homelessness_reg_fam`."
   ]
  },
  {
   "cell_type": "code",
   "execution_count": 37,
   "id": "953329e3",
   "metadata": {},
   "outputs": [
    {
     "name": "stdout",
     "output_type": "stream",
     "text": [
      "                region         state  individuals  family_members  state_pop\n",
      "50            Mountain       Wyoming        434.0           205.0     577601\n",
      "34  West North Central  North Dakota        467.0            75.0     758080\n",
      "7       South Atlantic      Delaware        708.0           374.0     965479\n",
      "39         New England  Rhode Island        747.0           354.0    1058287\n",
      "45         New England       Vermont        780.0           511.0     624358\n"
     ]
    }
   ],
   "source": [
    "# 1. Sort by 'individuals' in ascending order\n",
    "homelessness_ind = homelessness.sort_values('individuals')\n",
    "\n",
    "# Print the top few rows\n",
    "print(homelessness_ind.head())"
   ]
  },
  {
   "cell_type": "code",
   "execution_count": 36,
   "id": "e1186ae4",
   "metadata": {},
   "outputs": [
    {
     "name": "stdout",
     "output_type": "stream",
     "text": [
      "                region          state  individuals  family_members  state_pop\n",
      "32        Mid-Atlantic       New York      39827.0         52070.0   19530351\n",
      "4              Pacific     California     109008.0         20964.0   39461588\n",
      "21         New England  Massachusetts       6811.0         13257.0    6882635\n",
      "9       South Atlantic        Florida      21443.0          9587.0   21244317\n",
      "43  West South Central          Texas      19199.0          6111.0   28628666\n"
     ]
    }
   ],
   "source": [
    "# 2. Sort by 'family_members' in descending order\n",
    "homelessness_fam = homelessness.sort_values('family_members', ascending=False)\n",
    "\n",
    "print(homelessness_fam.head())"
   ]
  },
  {
   "cell_type": "code",
   "execution_count": 35,
   "id": "739566e6",
   "metadata": {},
   "outputs": [
    {
     "name": "stdout",
     "output_type": "stream",
     "text": [
      "                region      state  individuals  family_members  state_pop\n",
      "13  East North Central   Illinois       6752.0          3891.0   12723071\n",
      "35  East North Central       Ohio       6929.0          3320.0   11676341\n",
      "22  East North Central   Michigan       5209.0          3142.0    9984072\n",
      "49  East North Central  Wisconsin       2740.0          2167.0    5807406\n",
      "14  East North Central    Indiana       3776.0          1482.0    6695497\n"
     ]
    }
   ],
   "source": [
    "# 3. Sort by 'region' (asc), then by 'family_members' (desc)\n",
    "homelessness_reg_fam = homelessness.sort_values(['region', 'family_members'], ascending=[True, False])\n",
    "\n",
    "# Print the top few rows\n",
    "print(homelessness_reg_fam.head())"
   ]
  },
  {
   "cell_type": "markdown",
   "id": "3251920c",
   "metadata": {},
   "source": [
    "## Exercise: Subsetting columns\n",
    "\n",
    "Often, you won’t need all the columns from a dataset. Instead, you can focus on just the ones that are relevant to your analysis. In pandas, square brackets `[]` let you extract specific columns from a DataFrame.\n",
    "\n",
    "### Column Selection Syntax\n",
    "- **Select a single column** (returns a Series):\n",
    "   ```python\n",
    "  df[\"col_a\"]\n",
    "   ````\n",
    "\n",
    "- **Select multiple columns** (returns a DataFrame):\n",
    "\n",
    "  ```python\n",
    "  df[[\"col_a\", \"col_b\"]]\n",
    "  ```\n",
    "\n",
    "### Instructions:\n",
    "\n",
    "1. **Select One Column as a Series**\n",
    "   Create a variable called `individuals` that stores just the `individuals` column from `homelessness`.\n",
    "\n",
    "2. **Select Two Columns as a DataFrame**\n",
    "   Extract the `state` and `family_members` columns (in that order), and save the result in a DataFrame named `state_fam`.\n",
    "\n",
    "3. **Reorder and Select Columns**\n",
    "   Create a new DataFrame called `ind_state` that includes the `individuals` and `state` columns from `homelessness`, in that order."
   ]
  },
  {
   "cell_type": "code",
   "execution_count": 34,
   "id": "ff24f682",
   "metadata": {},
   "outputs": [
    {
     "name": "stdout",
     "output_type": "stream",
     "text": [
      "0      2570.0\n",
      "1      1434.0\n",
      "2      7259.0\n",
      "3      2280.0\n",
      "4    109008.0\n",
      "Name: individuals, dtype: float64\n"
     ]
    }
   ],
   "source": [
    "# 1. Select the 'individuals' column\n",
    "individuals = homelessness['individuals']\n",
    "\n",
    "print(individuals.head())"
   ]
  },
  {
   "cell_type": "code",
   "execution_count": 33,
   "id": "f00ce9c4",
   "metadata": {},
   "outputs": [
    {
     "name": "stdout",
     "output_type": "stream",
     "text": [
      "        state  family_members\n",
      "0     Alabama           864.0\n",
      "1      Alaska           582.0\n",
      "2     Arizona          2606.0\n",
      "3    Arkansas           432.0\n",
      "4  California         20964.0\n"
     ]
    }
   ],
   "source": [
    "# 2. Select 'state' and 'family_members' columns\n",
    "state_fam = homelessness[['state', 'family_members']]\n",
    "\n",
    "print(state_fam.head())"
   ]
  },
  {
   "cell_type": "code",
   "execution_count": 32,
   "id": "15111b88",
   "metadata": {},
   "outputs": [
    {
     "name": "stdout",
     "output_type": "stream",
     "text": [
      "   individuals       state\n",
      "0       2570.0     Alabama\n",
      "1       1434.0      Alaska\n",
      "2       7259.0     Arizona\n",
      "3       2280.0    Arkansas\n",
      "4     109008.0  California\n"
     ]
    }
   ],
   "source": [
    "# 3. Select 'individuals' and 'state' columns in custom order\n",
    "ind_state = homelessness[['individuals', 'state']]\n",
    "\n",
    "print(ind_state.head())"
   ]
  },
  {
   "cell_type": "markdown",
   "id": "bd51340f",
   "metadata": {},
   "source": [
    "## Exercise: Subsetting rows\n",
    "\n",
    "One of the most powerful tools in data analysis is identifying specific rows that match certain criteria. This process is often called *filtering* or *subsetting* rows.\n",
    "\n",
    "### Basic Row Filtering\n",
    "\n",
    "You can use **relational operators** (like `>`, `<`, `==`) to filter rows. These expressions return a Series of `True` or `False`, which you can then use to extract just the rows you care about.\n",
    "\n",
    "Examples:\n",
    "```python\n",
    "# Dogs taller than 60 cm\n",
    "dogs[dogs[\"height_cm\"] > 60]\n",
    "\n",
    "# Dogs that are tan in color\n",
    "dogs[dogs[\"color\"] == \"tan\"]\n",
    "```\n",
    "\n",
    "### Combining Conditions\n",
    "\n",
    "To filter using more than one condition, use the **bitwise AND** operator `&` inside parentheses:\n",
    "\n",
    "```python\n",
    "# Tall, tan dogs\n",
    "dogs[(dogs[\"height_cm\"] > 60) & (dogs[\"color\"] == \"tan\")]\n",
    "```\n",
    "\n",
    "### Instructions:\n",
    "\n",
    "1. **Filter by Number of Individuals**\n",
    "   Select rows where the `individuals` column is greater than 10,000.\n",
    "   Save this subset as `ind_gt_10k`.\n",
    "\n",
    "2. **Filter by Region: Mountain**\n",
    "   Select rows where the `region` column equals `\"Mountain\"`.\n",
    "   Save this as `mountain_reg`.\n",
    "\n",
    "3. **Filter by Multiple Conditions**\n",
    "   Select rows where `family_members` is less than 1,000 **and** the `region` is `\"Pacific\"`.\n",
    "   Store the result in `fam_lt_1k_pac`."
   ]
  },
  {
   "cell_type": "code",
   "execution_count": 31,
   "id": "d8bfa39f",
   "metadata": {},
   "outputs": [
    {
     "name": "stdout",
     "output_type": "stream",
     "text": [
      "                region       state  individuals  family_members  state_pop\n",
      "4              Pacific  California     109008.0         20964.0   39461588\n",
      "9       South Atlantic     Florida      21443.0          9587.0   21244317\n",
      "32        Mid-Atlantic    New York      39827.0         52070.0   19530351\n",
      "37             Pacific      Oregon      11139.0          3337.0    4181886\n",
      "43  West South Central       Texas      19199.0          6111.0   28628666\n",
      "47             Pacific  Washington      16424.0          5880.0    7523869\n"
     ]
    }
   ],
   "source": [
    "# 1. Individuals greater than 10,000\n",
    "ind_gt_10k = homelessness[homelessness['individuals'] > 10000]\n",
    "\n",
    "# View the result\n",
    "print(ind_gt_10k)"
   ]
  },
  {
   "cell_type": "code",
   "execution_count": 30,
   "id": "635ad405",
   "metadata": {},
   "outputs": [
    {
     "name": "stdout",
     "output_type": "stream",
     "text": [
      "      region       state  individuals  family_members  state_pop\n",
      "2   Mountain     Arizona       7259.0          2606.0    7158024\n",
      "5   Mountain    Colorado       7607.0          3250.0    5691287\n",
      "12  Mountain       Idaho       1297.0           715.0    1750536\n",
      "26  Mountain     Montana        983.0           422.0    1060665\n",
      "28  Mountain      Nevada       7058.0           486.0    3027341\n",
      "31  Mountain  New Mexico       1949.0           602.0    2092741\n",
      "44  Mountain        Utah       1904.0           972.0    3153550\n",
      "50  Mountain     Wyoming        434.0           205.0     577601\n"
     ]
    }
   ],
   "source": [
    "# 2. Region is \"Mountain\"\n",
    "mountain_reg = homelessness[homelessness['region'] == 'Mountain']\n",
    "\n",
    "# View the result\n",
    "print(mountain_reg)"
   ]
  },
  {
   "cell_type": "code",
   "execution_count": 28,
   "id": "54703ad4",
   "metadata": {},
   "outputs": [
    {
     "name": "stdout",
     "output_type": "stream",
     "text": [
      "    region   state  individuals  family_members  state_pop\n",
      "1  Pacific  Alaska       1434.0           582.0     735139\n"
     ]
    }
   ],
   "source": [
    "# 3. Family members < 1,000 AND region is \"Pacific\"\n",
    "fam_lt_1k_pac = homelessness[(homelessness[\"family_members\"] < 1000) & (homelessness[\"region\"] == \"Pacific\")]\n",
    "\n",
    "# View the result\n",
    "print(fam_lt_1k_pac)"
   ]
  },
  {
   "cell_type": "markdown",
   "id": "874e4fa7",
   "metadata": {},
   "source": [
    "## 📘 Exercise: Filtering Rows Using Categorical Values\n",
    "\n",
    "When working with categorical data, you may want to filter your DataFrame for **multiple category values**. While you could use the `or` (`|`) operator multiple times, it can quickly become messy and repetitive.\n",
    "\n",
    "### A Better Approach: `.isin()`\n",
    "\n",
    "The `.isin()` method provides a cleaner, more efficient way to check if a value belongs to a list of specified categories.\n",
    "\n",
    "Example:\n",
    "```python\n",
    "# Define a list of target colors\n",
    "colors = [\"brown\", \"black\", \"tan\"]\n",
    "\n",
    "# Create a condition that checks if each row's color is in the list\n",
    "condition = dogs[\"color\"].isin(colors)\n",
    "\n",
    "# Subset the DataFrame based on the condition\n",
    "filtered_dogs = dogs[condition]\n",
    "```\n",
    "\n",
    "This is especially useful when subsetting for multiple values of a categorical column like `region`, `state`, or `breed`.\n",
    "\n",
    "### Instructions:\n",
    "\n",
    "You are provided with a DataFrame called `homelessness` and `pandas` is already imported as `pd`.\n",
    "\n",
    "1. Filter `homelessness` to include only rows where the `state` is in a given list of Mojave-region states:\n",
    "\n",
    "   ```python\n",
    "   canu = [\"California\", \"Arizona\", \"Nevada\", \"Utah\"]\n",
    "   ```\n",
    "2. Use `.isin()` to perform the filter in a clean and readable way.\n",
    "3. Assign the filtered result to `mojave_homelessness` and print it."
   ]
  },
  {
   "cell_type": "code",
   "execution_count": 26,
   "id": "6c480879",
   "metadata": {},
   "outputs": [
    {
     "name": "stdout",
     "output_type": "stream",
     "text": [
      "      region       state  individuals  family_members  state_pop\n",
      "2   Mountain     Arizona       7259.0          2606.0    7158024\n",
      "4    Pacific  California     109008.0         20964.0   39461588\n",
      "28  Mountain      Nevada       7058.0           486.0    3027341\n",
      "44  Mountain        Utah       1904.0           972.0    3153550\n"
     ]
    }
   ],
   "source": [
    "# Define the list of Mojave-region states\n",
    "canu = [\"California\", \"Arizona\", \"Nevada\", \"Utah\"]\n",
    "\n",
    "# Filter using .isin()\n",
    "mojave_homelessness = homelessness[homelessness[\"state\"].isin(canu)]\n",
    "\n",
    "# View the result\n",
    "print(mojave_homelessness)"
   ]
  }
 ],
 "metadata": {
  "kernelspec": {
   "display_name": "Python 3",
   "language": "python",
   "name": "python3"
  },
  "language_info": {
   "codemirror_mode": {
    "name": "ipython",
    "version": 3
   },
   "file_extension": ".py",
   "mimetype": "text/x-python",
   "name": "python",
   "nbconvert_exporter": "python",
   "pygments_lexer": "ipython3",
   "version": "3.12.5"
  }
 },
 "nbformat": 4,
 "nbformat_minor": 5
}

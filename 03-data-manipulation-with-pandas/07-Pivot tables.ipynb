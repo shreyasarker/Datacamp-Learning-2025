{
 "cells": [
  {
   "cell_type": "markdown",
   "id": "3a1ff25d",
   "metadata": {},
   "source": [
    "# Pivot Tables"
   ]
  },
  {
   "cell_type": "markdown",
   "id": "f3803e92",
   "metadata": {},
   "source": [
    "A **pivot table** is a powerful tool for summarizing and analyzing data. It allows you to quickly reorganize and condense large datasets by grouping data and applying aggregation functions such as **sum, mean, median, min, max, or count**.\n",
    "\n",
    "When you aggregate data with a pivot table, you are essentially:\n",
    "\n",
    "1. **Choosing rows and columns** → deciding how to categorize the data (e.g., by store type, product category, or date).\n",
    "2. **Selecting values to summarize** → picking a numeric column (like sales, revenue, or quantities).\n",
    "3. **Applying an aggregation function** → determining how the values should be combined (e.g., summing sales, averaging prices, finding the maximum revenue).\n",
    "\n",
    "Pivot tables are especially useful because they:\n",
    "\n",
    "* Allow multi-level grouping (e.g., by store type *and* by holiday status).\n",
    "* Provide flexibility to compare across categories.\n",
    "* Make it easier to spot patterns and trends in the data.\n",
    "\n",
    "In short, a pivot table **aggregates raw data into a compact summary table**, giving you insights at a glance without manually filtering or grouping."
   ]
  },
  {
   "cell_type": "markdown",
   "id": "1f3e0a31",
   "metadata": {},
   "source": [
    "## Preparing Data"
   ]
  },
  {
   "cell_type": "code",
   "execution_count": 1,
   "id": "46caa1ea",
   "metadata": {},
   "outputs": [],
   "source": [
    "import pandas as pd\n",
    "sales = pd.read_csv(\"datasets/sales_subset.csv\")"
   ]
  },
  {
   "cell_type": "markdown",
   "id": "9d1055cf",
   "metadata": {},
   "source": [
    "## Exercise: Pivoting on one variable\n",
    "\n",
    "In spreadsheets, pivot tables are the go-to method for summarizing data.\n",
    "\n",
    "In pandas, the `.pivot_table()` function serves a similar purpose. It works much like `.groupby()`, but offers a more spreadsheet-like approach to aggregating data. In this exercise, you’ll practice creating pivot tables to reproduce the same calculations you previously did with `.groupby()`.\n",
    "\n",
    "### Instructions\n",
    "\n",
    "1. Create a pivot table that calculates the **mean** of `weekly_sales` for each store type, and save it as `mean_sales_by_type`.\n",
    "2. Build another pivot table to compute both the **mean** and **median** of `weekly_sales` for each store type, storing it in `mean_med_sales_by_type`.\n",
    "3. Make a pivot table that calculates the **mean** of `weekly_sales` grouped by both store type and holiday indicator. Save this as `mean_sales_by_type_holiday`."
   ]
  },
  {
   "cell_type": "code",
   "execution_count": 2,
   "id": "c7ce5107",
   "metadata": {},
   "outputs": [
    {
     "name": "stdout",
     "output_type": "stream",
     "text": [
      "      weekly_sales\n",
      "type              \n",
      "A     23674.667242\n",
      "B     25696.678370\n"
     ]
    }
   ],
   "source": [
    "# Step 1: Mean weekly sales by store type\n",
    "mean_sales_by_type = sales.pivot_table(values=\"weekly_sales\", index=\"type\")\n",
    "print(mean_sales_by_type)"
   ]
  },
  {
   "cell_type": "code",
   "execution_count": 4,
   "id": "341c303d",
   "metadata": {},
   "outputs": [
    {
     "name": "stdout",
     "output_type": "stream",
     "text": [
      "              mean       median\n",
      "      weekly_sales weekly_sales\n",
      "type                           \n",
      "A     23674.667242     11943.92\n",
      "B     25696.678370     13336.08\n"
     ]
    }
   ],
   "source": [
    "# Step 2: Mean and median weekly sales by store type\n",
    "mean_med_sales_by_type = sales.pivot_table(values=\"weekly_sales\", index=\"type\", aggfunc=[\"mean\", \"median\"])\n",
    "print(mean_med_sales_by_type)"
   ]
  },
  {
   "cell_type": "code",
   "execution_count": 5,
   "id": "ab693334",
   "metadata": {},
   "outputs": [
    {
     "name": "stdout",
     "output_type": "stream",
     "text": [
      "is_holiday         False      True \n",
      "type                               \n",
      "A           23768.583523  590.04525\n",
      "B           25751.980533  810.70500\n"
     ]
    }
   ],
   "source": [
    "# Step 3: Mean weekly sales by store type and holiday flag\n",
    "mean_sales_by_type_holiday = sales.pivot_table(values=\"weekly_sales\", index=\"type\", columns=\"is_holiday\")\n",
    "print(mean_sales_by_type_holiday)"
   ]
  },
  {
   "cell_type": "markdown",
   "id": "cb176dd8",
   "metadata": {},
   "source": [
    "## Exercise: Fill in missing values and sum values with pivot tables\n",
    "\n",
    "The `.pivot_table()` method comes with extra options that make it even more powerful. Two of the most useful are:\n",
    "\n",
    "* **`fill_value`** → lets you replace missing values with a placeholder (like `0`). This process is called *imputation*. While choosing the right replacement can be complex, a simple approach is to fill gaps with `0` when working with numeric data.\n",
    "* **`margins`** → automatically adds totals for rows and columns, saving you from doing extra calculations.\n",
    "\n",
    "In this task, you’ll practice using both arguments to make pivot tables more complete and insightful.\n",
    "\n",
    "### Instructions\n",
    "\n",
    "1. Create a pivot table showing the **mean** of `weekly_sales` by department and store type. Replace any missing values with `0`.\n",
    "2. Make the same pivot table, but this time also display the **row and column totals** using the `margins` option."
   ]
  },
  {
   "cell_type": "code",
   "execution_count": 6,
   "id": "6a6bb645",
   "metadata": {},
   "outputs": [
    {
     "name": "stdout",
     "output_type": "stream",
     "text": [
      "type                    A              B\n",
      "department                              \n",
      "1            30961.725379   44050.626667\n",
      "2            67600.158788  112958.526667\n",
      "3            17160.002955   30580.655000\n",
      "4            44285.399091   51219.654167\n",
      "5            34821.011364   63236.875000\n",
      "...                   ...            ...\n",
      "95          123933.787121   77082.102500\n",
      "96           21367.042857    9528.538333\n",
      "97           28471.266970    5828.873333\n",
      "98           12875.423182     217.428333\n",
      "99             379.123659       0.000000\n",
      "\n",
      "[80 rows x 2 columns]\n"
     ]
    }
   ],
   "source": [
    "# Step 1: Mean weekly sales by department and type; replace missing values with 0\n",
    "print(sales.pivot_table(values=\"weekly_sales\", index=\"department\", columns=\"type\", fill_value=0))"
   ]
  },
  {
   "cell_type": "code",
   "execution_count": 7,
   "id": "ec4e812f",
   "metadata": {},
   "outputs": [
    {
     "name": "stdout",
     "output_type": "stream",
     "text": [
      "type                   A              B           All\n",
      "department                                           \n",
      "1           30961.725379   44050.626667  32052.467153\n",
      "2           67600.158788  112958.526667  71380.022778\n",
      "3           17160.002955   30580.655000  18278.390625\n",
      "4           44285.399091   51219.654167  44863.253681\n",
      "5           34821.011364   63236.875000  37189.000000\n",
      "...                  ...            ...           ...\n",
      "96          21367.042857    9528.538333  20337.607681\n",
      "97          28471.266970    5828.873333  26584.400833\n",
      "98          12875.423182     217.428333  11820.590278\n",
      "99            379.123659       0.000000    379.123659\n",
      "All         23674.667242   25696.678370  23843.950149\n",
      "\n",
      "[81 rows x 3 columns]\n"
     ]
    }
   ],
   "source": [
    "# Step 2: Same pivot, but also include row and column totals\n",
    "print(sales.pivot_table(values=\"weekly_sales\", index=\"department\", columns=\"type\", fill_value=0, margins=True))"
   ]
  }
 ],
 "metadata": {
  "kernelspec": {
   "display_name": "Python 3",
   "language": "python",
   "name": "python3"
  },
  "language_info": {
   "codemirror_mode": {
    "name": "ipython",
    "version": 3
   },
   "file_extension": ".py",
   "mimetype": "text/x-python",
   "name": "python",
   "nbconvert_exporter": "python",
   "pygments_lexer": "ipython3",
   "version": "3.12.5"
  }
 },
 "nbformat": 4,
 "nbformat_minor": 5
}

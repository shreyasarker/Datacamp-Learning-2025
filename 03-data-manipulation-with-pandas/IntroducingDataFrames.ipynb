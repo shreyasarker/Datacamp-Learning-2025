{
 "cells": [
  {
   "cell_type": "markdown",
   "id": "48d1e433",
   "metadata": {},
   "source": [
    "## What is Pandas?\n",
    "\n",
    "**Pandas** is an open-source data analysis and data manipulation library built on top of Python. It is widely used by data scientists, analysts, and developers for working with structured data easily and efficiently.\n",
    "\n",
    "### Why Use Pandas?\n",
    "\n",
    "Pandas simplifies the process of analyzing, cleaning, and visualizing data. It provides flexible and powerful tools to:\n",
    "\n",
    "* Load and save data from various file formats (like CSV, Excel, JSON, etc.)\n",
    "* Clean and preprocess data\n",
    "* Handle missing data\n",
    "* Filter, sort, and group data\n",
    "* Work with time series data\n",
    "* Merge and join datasets\n",
    "\n",
    "### Core Data Structures\n",
    "\n",
    "Pandas has two primary data structures:\n",
    "\n",
    "* **Series**: A one-dimensional labeled array, similar to a single column in a table.\n",
    "* **DataFrame**: A two-dimensional, tabular data structure with labeled rows and columns, similar to a spreadsheet or SQL table.\n",
    "\n",
    "These structures make it easy to explore, clean, and transform data.\n",
    "\n",
    "### Common Use Cases\n",
    "\n",
    "* Analyzing survey data or reports\n",
    "* Cleaning messy datasets\n",
    "* Performing statistical analysis\n",
    "* Building dashboards and visual reports\n",
    "* Preparing data for machine learning\n",
    "\n",
    "### ✅ Benefits of Pandas\n",
    "\n",
    "* Easy-to-use syntax for beginners and professionals\n",
    "* Fast and efficient performance, even on large datasets\n",
    "* Seamless integration with other libraries like NumPy, Matplotlib, and Scikit-learn\n",
    "* Well-documented and supported by a strong community\n",
    "\n",
    "### 📚 Learn More\n",
    "\n",
    "You can explore more through the [official Pandas documentation](https://pandas.pydata.org/docs/)."
   ]
  },
  {
   "cell_type": "markdown",
   "id": "cfb9337e",
   "metadata": {},
   "source": [
    "## Exercise: Inspecting a DataFrame\n",
    "\n",
    "When working with a new DataFrame, your first task is to **understand its structure and contents**. Here are some helpful methods and attributes to get started:\n",
    "\n",
    "- `.head()` – Displays the first few rows of the DataFrame.\n",
    "- `.info()` – Gives a summary of the columns, including data types and counts of missing values.\n",
    "- `.shape` – Returns a tuple with the number of rows and columns.\n",
    "- `.describe()` – Provides summary statistics for each numeric column.\n",
    "\n",
    "The DataFrame `homelessness` contains **estimates of homelessness across U.S. states in 2018**:\n",
    "- `individuals`: Number of homeless people not in families.\n",
    "- `family_members`: Number of homeless people in families with children.\n",
    "- `state_pop`: Total population of each state.\n",
    "\n",
    "### Instructions:\n",
    "\n",
    "1. **View the First Rows**  \n",
    "   Use the `.head()` method to look at the first few entries in the dataset. This helps you get an initial sense of the data.\n",
    "\n",
    "2. **Check Column Details**  \n",
    "   Use `.info()` to examine each column’s data type and find out if there are any missing values.\n",
    "\n",
    "3. **Check Dimensions**  \n",
    "   Use the `.shape` attribute to find out how many rows and columns the dataset has.\n",
    "\n",
    "4. **View Summary Statistics**  \n",
    "   Use `.describe()` to see basic statistical summaries (like mean, min, max) for each numeric column."
   ]
  },
  {
   "cell_type": "code",
   "execution_count": 8,
   "id": "99848722",
   "metadata": {},
   "outputs": [],
   "source": [
    "import pandas as pd\n",
    "\n",
    "data = {\n",
    "    \"region\": [\n",
    "        \"East South Central\", \"Pacific\", \"Mountain\", \"West South Central\", \"Pacific\", \"Mountain\", \"New England\",\n",
    "        \"South Atlantic\", \"South Atlantic\", \"South Atlantic\", \"South Atlantic\", \"Pacific\", \"Mountain\",\n",
    "        \"East North Central\", \"East North Central\", \"West North Central\", \"West North Central\", \"East South Central\",\n",
    "        \"West South Central\", \"New England\", \"South Atlantic\", \"New England\", \"East North Central\",\n",
    "        \"West North Central\", \"East South Central\", \"West North Central\", \"Mountain\", \"West North Central\",\n",
    "        \"Mountain\", \"New England\", \"Mid-Atlantic\", \"Mountain\", \"Mid-Atlantic\", \"South Atlantic\",\n",
    "        \"West North Central\", \"East North Central\", \"West South Central\", \"Pacific\", \"Mid-Atlantic\",\n",
    "        \"New England\", \"South Atlantic\", \"West North Central\", \"East South Central\", \"West South Central\",\n",
    "        \"Mountain\", \"New England\", \"South Atlantic\", \"Pacific\", \"South Atlantic\", \"East North Central\", \"Mountain\"\n",
    "    ],\n",
    "    \"state\": [\n",
    "        \"Alabama\", \"Alaska\", \"Arizona\", \"Arkansas\", \"California\", \"Colorado\", \"Connecticut\",\n",
    "        \"Delaware\", \"District of Columbia\", \"Florida\", \"Georgia\", \"Hawaii\", \"Idaho\",\n",
    "        \"Illinois\", \"Indiana\", \"Iowa\", \"Kansas\", \"Kentucky\",\n",
    "        \"Louisiana\", \"Maine\", \"Maryland\", \"Massachusetts\", \"Michigan\",\n",
    "        \"Minnesota\", \"Mississippi\", \"Missouri\", \"Montana\", \"Nebraska\",\n",
    "        \"Nevada\", \"New Hampshire\", \"New Jersey\", \"New Mexico\", \"New York\",\n",
    "        \"North Carolina\", \"North Dakota\", \"Ohio\", \"Oklahoma\", \"Oregon\",\n",
    "        \"Pennsylvania\", \"Rhode Island\", \"South Carolina\", \"South Dakota\", \"Tennessee\",\n",
    "        \"Texas\", \"Utah\", \"Vermont\", \"Virginia\", \"Washington\", \"West Virginia\", \"Wisconsin\", \"Wyoming\"\n",
    "    ],\n",
    "    \"individuals\": [\n",
    "        2570.0, 1434.0, 7259.0, 2280.0, 109008.0, 7607.0, 2280.0,\n",
    "        708.0, 3770.0, 21443.0, 6943.0, 4131.0, 1297.0,\n",
    "        6752.0, 3776.0, 1711.0, 1443.0, 2735.0,\n",
    "        2540.0, 1450.0, 4914.0, 6811.0, 5209.0,\n",
    "        3993.0, 1024.0, 3776.0, 983.0, 1745.0,\n",
    "        7058.0, 835.0, 6048.0, 1949.0, 39827.0,\n",
    "        6451.0, 467.0, 6929.0, 2823.0, 11139.0,\n",
    "        8163.0, 747.0, 3082.0, 836.0, 6139.0,\n",
    "        19199.0, 1904.0, 780.0, 3928.0, 16424.0, 1021.0, 2740.0, 434.0\n",
    "    ],\n",
    "    \"family_members\": [\n",
    "        864.0, 582.0, 2606.0, 432.0, 20964.0, 3250.0, 1696.0,\n",
    "        374.0, 3134.0, 9587.0, 2556.0, 2399.0, 715.0,\n",
    "        3891.0, 1482.0, 1038.0, 773.0, 953.0,\n",
    "        519.0, 1066.0, 2230.0, 13257.0, 3142.0,\n",
    "        3250.0, 328.0, 2107.0, 422.0, 676.0,\n",
    "        486.0, 615.0, 3350.0, 602.0, 52070.0,\n",
    "        2817.0, 75.0, 3320.0, 1048.0, 3337.0,\n",
    "        5349.0, 354.0, 851.0, 323.0, 1744.0,\n",
    "        6111.0, 972.0, 511.0, 2047.0, 5880.0, 222.0, 2167.0, 205.0\n",
    "    ],\n",
    "    \"state_pop\": [\n",
    "        4887681, 735139, 7158024, 3009733, 39461588, 5691287, 3571520,\n",
    "        965479, 701547, 21244317, 10511131, 1420593, 1750536,\n",
    "        12723071, 6695497, 3148618, 2911359, 4461153,\n",
    "        4659690, 1339057, 6035802, 6882635, 9984072,\n",
    "        5606249, 2981020, 6121623, 1060665, 1925614,\n",
    "        3027341, 1353465, 8886025, 2092741, 19530351,\n",
    "        10381615, 758080, 11676341, 3940235, 4181886,\n",
    "        12800922, 1058287, 5084156, 878698, 6771631,\n",
    "        28628666, 3153550, 624358, 8501286, 7523869, 1804291, 5807406, 577601\n",
    "    ]\n",
    "}\n",
    "\n",
    "homelessness = pd.DataFrame(data)"
   ]
  },
  {
   "cell_type": "code",
   "execution_count": 9,
   "id": "0fefe460",
   "metadata": {},
   "outputs": [
    {
     "name": "stdout",
     "output_type": "stream",
     "text": [
      "               region       state  individuals  family_members  state_pop\n",
      "0  East South Central     Alabama       2570.0           864.0    4887681\n",
      "1             Pacific      Alaska       1434.0           582.0     735139\n",
      "2            Mountain     Arizona       7259.0          2606.0    7158024\n",
      "3  West South Central    Arkansas       2280.0           432.0    3009733\n",
      "4             Pacific  California     109008.0         20964.0   39461588\n"
     ]
    }
   ],
   "source": [
    "# Print the head of the homelessness data\n",
    "print(homelessness.head())"
   ]
  },
  {
   "cell_type": "code",
   "execution_count": 10,
   "id": "1c50a6b3",
   "metadata": {},
   "outputs": [
    {
     "name": "stdout",
     "output_type": "stream",
     "text": [
      "<class 'pandas.core.frame.DataFrame'>\n",
      "RangeIndex: 51 entries, 0 to 50\n",
      "Data columns (total 5 columns):\n",
      " #   Column          Non-Null Count  Dtype  \n",
      "---  ------          --------------  -----  \n",
      " 0   region          51 non-null     object \n",
      " 1   state           51 non-null     object \n",
      " 2   individuals     51 non-null     float64\n",
      " 3   family_members  51 non-null     float64\n",
      " 4   state_pop       51 non-null     int64  \n",
      "dtypes: float64(2), int64(1), object(2)\n",
      "memory usage: 2.1+ KB\n",
      "None\n"
     ]
    }
   ],
   "source": [
    "# Print information about homelessness\n",
    "print(homelessness.info())"
   ]
  },
  {
   "cell_type": "code",
   "execution_count": 11,
   "id": "306efd4d",
   "metadata": {},
   "outputs": [
    {
     "name": "stdout",
     "output_type": "stream",
     "text": [
      "(51, 5)\n"
     ]
    }
   ],
   "source": [
    "# Print the shape of homelessness\n",
    "print(homelessness.shape)"
   ]
  },
  {
   "cell_type": "code",
   "execution_count": 12,
   "id": "2c6b9976",
   "metadata": {},
   "outputs": [
    {
     "name": "stdout",
     "output_type": "stream",
     "text": [
      "         individuals  family_members     state_pop\n",
      "count      51.000000       51.000000  5.100000e+01\n",
      "mean     7225.784314     3504.882353  6.405637e+06\n",
      "std     15991.025083     7805.411811  7.327258e+06\n",
      "min       434.000000       75.000000  5.776010e+05\n",
      "25%      1446.500000      592.000000  1.777414e+06\n",
      "50%      3082.000000     1482.000000  4.461153e+06\n",
      "75%      6781.500000     3196.000000  7.340946e+06\n",
      "max    109008.000000    52070.000000  3.946159e+07\n"
     ]
    }
   ],
   "source": [
    "# Print a description of homelessness\n",
    "print(homelessness.describe())"
   ]
  },
  {
   "cell_type": "markdown",
   "id": "b15ed7b8",
   "metadata": {},
   "source": [
    "## Exercise: Parts of a DataFrame\n",
    "\n",
    "To work effectively with DataFrames in pandas, it's important to understand their internal structure. A DataFrame is composed of three main components, accessible as attributes:\n",
    "\n",
    "- `.values`: A two-dimensional NumPy array that contains the actual data.\n",
    "- `.columns`: An index object that holds the names of the columns.\n",
    "- `.index`: An index object that identifies the rows, which can be numeric or labeled.\n",
    "\n",
    "You can typically think of these indexes as lists of strings or numbers, although the `Index` object in pandas supports more advanced features (which you'll learn later in the course).\n",
    "\n",
    "### Instructions:\n",
    "\n",
    "1. Display the raw 2D NumPy array containing the data from `homelessness`.\n",
    "2. Display the column names of the `homelessness` DataFrame.\n",
    "3. Display the index (row labels) of the `homelessness` DataFrame.\n"
   ]
  },
  {
   "cell_type": "code",
   "execution_count": 14,
   "id": "84ad0634",
   "metadata": {},
   "outputs": [
    {
     "name": "stdout",
     "output_type": "stream",
     "text": [
      "[['East South Central' 'Alabama' 2570.0 864.0 4887681]\n",
      " ['Pacific' 'Alaska' 1434.0 582.0 735139]\n",
      " ['Mountain' 'Arizona' 7259.0 2606.0 7158024]\n",
      " ['West South Central' 'Arkansas' 2280.0 432.0 3009733]\n",
      " ['Pacific' 'California' 109008.0 20964.0 39461588]\n",
      " ['Mountain' 'Colorado' 7607.0 3250.0 5691287]\n",
      " ['New England' 'Connecticut' 2280.0 1696.0 3571520]\n",
      " ['South Atlantic' 'Delaware' 708.0 374.0 965479]\n",
      " ['South Atlantic' 'District of Columbia' 3770.0 3134.0 701547]\n",
      " ['South Atlantic' 'Florida' 21443.0 9587.0 21244317]\n",
      " ['South Atlantic' 'Georgia' 6943.0 2556.0 10511131]\n",
      " ['Pacific' 'Hawaii' 4131.0 2399.0 1420593]\n",
      " ['Mountain' 'Idaho' 1297.0 715.0 1750536]\n",
      " ['East North Central' 'Illinois' 6752.0 3891.0 12723071]\n",
      " ['East North Central' 'Indiana' 3776.0 1482.0 6695497]\n",
      " ['West North Central' 'Iowa' 1711.0 1038.0 3148618]\n",
      " ['West North Central' 'Kansas' 1443.0 773.0 2911359]\n",
      " ['East South Central' 'Kentucky' 2735.0 953.0 4461153]\n",
      " ['West South Central' 'Louisiana' 2540.0 519.0 4659690]\n",
      " ['New England' 'Maine' 1450.0 1066.0 1339057]\n",
      " ['South Atlantic' 'Maryland' 4914.0 2230.0 6035802]\n",
      " ['New England' 'Massachusetts' 6811.0 13257.0 6882635]\n",
      " ['East North Central' 'Michigan' 5209.0 3142.0 9984072]\n",
      " ['West North Central' 'Minnesota' 3993.0 3250.0 5606249]\n",
      " ['East South Central' 'Mississippi' 1024.0 328.0 2981020]\n",
      " ['West North Central' 'Missouri' 3776.0 2107.0 6121623]\n",
      " ['Mountain' 'Montana' 983.0 422.0 1060665]\n",
      " ['West North Central' 'Nebraska' 1745.0 676.0 1925614]\n",
      " ['Mountain' 'Nevada' 7058.0 486.0 3027341]\n",
      " ['New England' 'New Hampshire' 835.0 615.0 1353465]\n",
      " ['Mid-Atlantic' 'New Jersey' 6048.0 3350.0 8886025]\n",
      " ['Mountain' 'New Mexico' 1949.0 602.0 2092741]\n",
      " ['Mid-Atlantic' 'New York' 39827.0 52070.0 19530351]\n",
      " ['South Atlantic' 'North Carolina' 6451.0 2817.0 10381615]\n",
      " ['West North Central' 'North Dakota' 467.0 75.0 758080]\n",
      " ['East North Central' 'Ohio' 6929.0 3320.0 11676341]\n",
      " ['West South Central' 'Oklahoma' 2823.0 1048.0 3940235]\n",
      " ['Pacific' 'Oregon' 11139.0 3337.0 4181886]\n",
      " ['Mid-Atlantic' 'Pennsylvania' 8163.0 5349.0 12800922]\n",
      " ['New England' 'Rhode Island' 747.0 354.0 1058287]\n",
      " ['South Atlantic' 'South Carolina' 3082.0 851.0 5084156]\n",
      " ['West North Central' 'South Dakota' 836.0 323.0 878698]\n",
      " ['East South Central' 'Tennessee' 6139.0 1744.0 6771631]\n",
      " ['West South Central' 'Texas' 19199.0 6111.0 28628666]\n",
      " ['Mountain' 'Utah' 1904.0 972.0 3153550]\n",
      " ['New England' 'Vermont' 780.0 511.0 624358]\n",
      " ['South Atlantic' 'Virginia' 3928.0 2047.0 8501286]\n",
      " ['Pacific' 'Washington' 16424.0 5880.0 7523869]\n",
      " ['South Atlantic' 'West Virginia' 1021.0 222.0 1804291]\n",
      " ['East North Central' 'Wisconsin' 2740.0 2167.0 5807406]\n",
      " ['Mountain' 'Wyoming' 434.0 205.0 577601]]\n"
     ]
    }
   ],
   "source": [
    "# Print the values of homelessness\n",
    "print(homelessness.values)"
   ]
  },
  {
   "cell_type": "code",
   "execution_count": 15,
   "id": "b8353196",
   "metadata": {},
   "outputs": [
    {
     "name": "stdout",
     "output_type": "stream",
     "text": [
      "Index(['region', 'state', 'individuals', 'family_members', 'state_pop'], dtype='object')\n"
     ]
    }
   ],
   "source": [
    "# Print the column index of homelessness\n",
    "print(homelessness.columns)"
   ]
  },
  {
   "cell_type": "code",
   "execution_count": 38,
   "id": "e1df0483",
   "metadata": {},
   "outputs": [
    {
     "name": "stdout",
     "output_type": "stream",
     "text": [
      "RangeIndex(start=0, stop=51, step=1)\n"
     ]
    }
   ],
   "source": [
    "# Print the row index of homelessness\n",
    "print(homelessness.index)"
   ]
  },
  {
   "cell_type": "markdown",
   "id": "bdce0f57",
   "metadata": {},
   "source": [
    "## Exercise: Sorting rows\n",
    "\n",
    "When working with a DataFrame, reorganizing the rows can help you discover patterns or highlight specific data points. The `.sort_values()` method lets you sort the DataFrame based on one or more columns.\n",
    "\n",
    "### Syntax Overview\n",
    "- **Sort by a single column**:\n",
    "  ```python\n",
    "  df.sort_values(\"column_name\")\n",
    "   ````\n",
    "\n",
    "- **Sort by multiple columns** (helps break ties):\n",
    "\n",
    "  ```python\n",
    "  df.sort_values([\"col1\", \"col2\"])\n",
    "  ```\n",
    "\n",
    "By combining `.sort_values()` with `.head()`, you can answer questions like “What are the top entries where...?”\n",
    "\n",
    "### Instructions:\n",
    "\n",
    "1. **Sort by Individual Homeless Counts (Ascending)**\n",
    "   Arrange the `homelessness` DataFrame based on the `individuals` column from lowest to highest.\n",
    "   Store the result in a new variable called `homelessness_ind` and display the first few rows.\n",
    "\n",
    "2. **Sort by Family Member Counts (Descending)**\n",
    "   Reorder the DataFrame by the `family_members` column in descending order.\n",
    "   Save the result as `homelessness_fam`.\n",
    "\n",
    "3. **Sort by Region and Family Members**\n",
    "   First sort by `region` (A–Z), and then within each region, sort by `family_members` in descending order.\n",
    "   Store the final DataFrame in `homelessness_reg_fam`."
   ]
  },
  {
   "cell_type": "code",
   "execution_count": 37,
   "id": "953329e3",
   "metadata": {},
   "outputs": [
    {
     "name": "stdout",
     "output_type": "stream",
     "text": [
      "                region         state  individuals  family_members  state_pop\n",
      "50            Mountain       Wyoming        434.0           205.0     577601\n",
      "34  West North Central  North Dakota        467.0            75.0     758080\n",
      "7       South Atlantic      Delaware        708.0           374.0     965479\n",
      "39         New England  Rhode Island        747.0           354.0    1058287\n",
      "45         New England       Vermont        780.0           511.0     624358\n"
     ]
    }
   ],
   "source": [
    "# 1. Sort by 'individuals' in ascending order\n",
    "homelessness_ind = homelessness.sort_values('individuals')\n",
    "\n",
    "# Print the top few rows\n",
    "print(homelessness_ind.head())"
   ]
  },
  {
   "cell_type": "code",
   "execution_count": 36,
   "id": "e1186ae4",
   "metadata": {},
   "outputs": [
    {
     "name": "stdout",
     "output_type": "stream",
     "text": [
      "                region          state  individuals  family_members  state_pop\n",
      "32        Mid-Atlantic       New York      39827.0         52070.0   19530351\n",
      "4              Pacific     California     109008.0         20964.0   39461588\n",
      "21         New England  Massachusetts       6811.0         13257.0    6882635\n",
      "9       South Atlantic        Florida      21443.0          9587.0   21244317\n",
      "43  West South Central          Texas      19199.0          6111.0   28628666\n"
     ]
    }
   ],
   "source": [
    "# 2. Sort by 'family_members' in descending order\n",
    "homelessness_fam = homelessness.sort_values('family_members', ascending=False)\n",
    "\n",
    "print(homelessness_fam.head())"
   ]
  },
  {
   "cell_type": "code",
   "execution_count": 35,
   "id": "739566e6",
   "metadata": {},
   "outputs": [
    {
     "name": "stdout",
     "output_type": "stream",
     "text": [
      "                region      state  individuals  family_members  state_pop\n",
      "13  East North Central   Illinois       6752.0          3891.0   12723071\n",
      "35  East North Central       Ohio       6929.0          3320.0   11676341\n",
      "22  East North Central   Michigan       5209.0          3142.0    9984072\n",
      "49  East North Central  Wisconsin       2740.0          2167.0    5807406\n",
      "14  East North Central    Indiana       3776.0          1482.0    6695497\n"
     ]
    }
   ],
   "source": [
    "# 3. Sort by 'region' (asc), then by 'family_members' (desc)\n",
    "homelessness_reg_fam = homelessness.sort_values(['region', 'family_members'], ascending=[True, False])\n",
    "\n",
    "# Print the top few rows\n",
    "print(homelessness_reg_fam.head())"
   ]
  },
  {
   "cell_type": "markdown",
   "id": "3251920c",
   "metadata": {},
   "source": [
    "## Exercise: Subsetting columns\n",
    "\n",
    "Often, you won’t need all the columns from a dataset. Instead, you can focus on just the ones that are relevant to your analysis. In pandas, square brackets `[]` let you extract specific columns from a DataFrame.\n",
    "\n",
    "### Column Selection Syntax\n",
    "- **Select a single column** (returns a Series):\n",
    "   ```python\n",
    "  df[\"col_a\"]\n",
    "   ````\n",
    "\n",
    "- **Select multiple columns** (returns a DataFrame):\n",
    "\n",
    "  ```python\n",
    "  df[[\"col_a\", \"col_b\"]]\n",
    "  ```\n",
    "\n",
    "### Instructions:\n",
    "\n",
    "1. **Select One Column as a Series**\n",
    "   Create a variable called `individuals` that stores just the `individuals` column from `homelessness`.\n",
    "\n",
    "2. **Select Two Columns as a DataFrame**\n",
    "   Extract the `state` and `family_members` columns (in that order), and save the result in a DataFrame named `state_fam`.\n",
    "\n",
    "3. **Reorder and Select Columns**\n",
    "   Create a new DataFrame called `ind_state` that includes the `individuals` and `state` columns from `homelessness`, in that order."
   ]
  },
  {
   "cell_type": "code",
   "execution_count": 34,
   "id": "ff24f682",
   "metadata": {},
   "outputs": [
    {
     "name": "stdout",
     "output_type": "stream",
     "text": [
      "0      2570.0\n",
      "1      1434.0\n",
      "2      7259.0\n",
      "3      2280.0\n",
      "4    109008.0\n",
      "Name: individuals, dtype: float64\n"
     ]
    }
   ],
   "source": [
    "# 1. Select the 'individuals' column\n",
    "individuals = homelessness['individuals']\n",
    "\n",
    "print(individuals.head())"
   ]
  },
  {
   "cell_type": "code",
   "execution_count": 33,
   "id": "f00ce9c4",
   "metadata": {},
   "outputs": [
    {
     "name": "stdout",
     "output_type": "stream",
     "text": [
      "        state  family_members\n",
      "0     Alabama           864.0\n",
      "1      Alaska           582.0\n",
      "2     Arizona          2606.0\n",
      "3    Arkansas           432.0\n",
      "4  California         20964.0\n"
     ]
    }
   ],
   "source": [
    "# 2. Select 'state' and 'family_members' columns\n",
    "state_fam = homelessness[['state', 'family_members']]\n",
    "\n",
    "print(state_fam.head())"
   ]
  },
  {
   "cell_type": "code",
   "execution_count": 32,
   "id": "15111b88",
   "metadata": {},
   "outputs": [
    {
     "name": "stdout",
     "output_type": "stream",
     "text": [
      "   individuals       state\n",
      "0       2570.0     Alabama\n",
      "1       1434.0      Alaska\n",
      "2       7259.0     Arizona\n",
      "3       2280.0    Arkansas\n",
      "4     109008.0  California\n"
     ]
    }
   ],
   "source": [
    "# 3. Select 'individuals' and 'state' columns in custom order\n",
    "ind_state = homelessness[['individuals', 'state']]\n",
    "\n",
    "print(ind_state.head())"
   ]
  },
  {
   "cell_type": "markdown",
   "id": "bd51340f",
   "metadata": {},
   "source": [
    "## Exercise: Subsetting rows\n",
    "\n",
    "One of the most powerful tools in data analysis is identifying specific rows that match certain criteria. This process is often called *filtering* or *subsetting* rows.\n",
    "\n",
    "### Basic Row Filtering\n",
    "\n",
    "You can use **relational operators** (like `>`, `<`, `==`) to filter rows. These expressions return a Series of `True` or `False`, which you can then use to extract just the rows you care about.\n",
    "\n",
    "Examples:\n",
    "```python\n",
    "# Dogs taller than 60 cm\n",
    "dogs[dogs[\"height_cm\"] > 60]\n",
    "\n",
    "# Dogs that are tan in color\n",
    "dogs[dogs[\"color\"] == \"tan\"]\n",
    "```\n",
    "\n",
    "### Combining Conditions\n",
    "\n",
    "To filter using more than one condition, use the **bitwise AND** operator `&` inside parentheses:\n",
    "\n",
    "```python\n",
    "# Tall, tan dogs\n",
    "dogs[(dogs[\"height_cm\"] > 60) & (dogs[\"color\"] == \"tan\")]\n",
    "```\n",
    "\n",
    "### Instructions:\n",
    "\n",
    "1. **Filter by Number of Individuals**\n",
    "   Select rows where the `individuals` column is greater than 10,000.\n",
    "   Save this subset as `ind_gt_10k`.\n",
    "\n",
    "2. **Filter by Region: Mountain**\n",
    "   Select rows where the `region` column equals `\"Mountain\"`.\n",
    "   Save this as `mountain_reg`.\n",
    "\n",
    "3. **Filter by Multiple Conditions**\n",
    "   Select rows where `family_members` is less than 1,000 **and** the `region` is `\"Pacific\"`.\n",
    "   Store the result in `fam_lt_1k_pac`."
   ]
  },
  {
   "cell_type": "code",
   "execution_count": 31,
   "id": "d8bfa39f",
   "metadata": {},
   "outputs": [
    {
     "name": "stdout",
     "output_type": "stream",
     "text": [
      "                region       state  individuals  family_members  state_pop\n",
      "4              Pacific  California     109008.0         20964.0   39461588\n",
      "9       South Atlantic     Florida      21443.0          9587.0   21244317\n",
      "32        Mid-Atlantic    New York      39827.0         52070.0   19530351\n",
      "37             Pacific      Oregon      11139.0          3337.0    4181886\n",
      "43  West South Central       Texas      19199.0          6111.0   28628666\n",
      "47             Pacific  Washington      16424.0          5880.0    7523869\n"
     ]
    }
   ],
   "source": [
    "# 1. Individuals greater than 10,000\n",
    "ind_gt_10k = homelessness[homelessness['individuals'] > 10000]\n",
    "\n",
    "# View the result\n",
    "print(ind_gt_10k)"
   ]
  },
  {
   "cell_type": "code",
   "execution_count": 30,
   "id": "635ad405",
   "metadata": {},
   "outputs": [
    {
     "name": "stdout",
     "output_type": "stream",
     "text": [
      "      region       state  individuals  family_members  state_pop\n",
      "2   Mountain     Arizona       7259.0          2606.0    7158024\n",
      "5   Mountain    Colorado       7607.0          3250.0    5691287\n",
      "12  Mountain       Idaho       1297.0           715.0    1750536\n",
      "26  Mountain     Montana        983.0           422.0    1060665\n",
      "28  Mountain      Nevada       7058.0           486.0    3027341\n",
      "31  Mountain  New Mexico       1949.0           602.0    2092741\n",
      "44  Mountain        Utah       1904.0           972.0    3153550\n",
      "50  Mountain     Wyoming        434.0           205.0     577601\n"
     ]
    }
   ],
   "source": [
    "# 2. Region is \"Mountain\"\n",
    "mountain_reg = homelessness[homelessness['region'] == 'Mountain']\n",
    "\n",
    "# View the result\n",
    "print(mountain_reg)"
   ]
  },
  {
   "cell_type": "code",
   "execution_count": 28,
   "id": "54703ad4",
   "metadata": {},
   "outputs": [
    {
     "name": "stdout",
     "output_type": "stream",
     "text": [
      "    region   state  individuals  family_members  state_pop\n",
      "1  Pacific  Alaska       1434.0           582.0     735139\n"
     ]
    }
   ],
   "source": [
    "# 3. Family members < 1,000 AND region is \"Pacific\"\n",
    "fam_lt_1k_pac = homelessness[(homelessness[\"family_members\"] < 1000) & (homelessness[\"region\"] == \"Pacific\")]\n",
    "\n",
    "# View the result\n",
    "print(fam_lt_1k_pac)"
   ]
  },
  {
   "cell_type": "markdown",
   "id": "874e4fa7",
   "metadata": {},
   "source": [
    "## 📘 Exercise: Filtering Rows Using Categorical Values\n",
    "\n",
    "When working with categorical data, you may want to filter your DataFrame for **multiple category values**. While you could use the `or` (`|`) operator multiple times, it can quickly become messy and repetitive.\n",
    "\n",
    "### A Better Approach: `.isin()`\n",
    "\n",
    "The `.isin()` method provides a cleaner, more efficient way to check if a value belongs to a list of specified categories.\n",
    "\n",
    "Example:\n",
    "```python\n",
    "# Define a list of target colors\n",
    "colors = [\"brown\", \"black\", \"tan\"]\n",
    "\n",
    "# Create a condition that checks if each row's color is in the list\n",
    "condition = dogs[\"color\"].isin(colors)\n",
    "\n",
    "# Subset the DataFrame based on the condition\n",
    "filtered_dogs = dogs[condition]\n",
    "```\n",
    "\n",
    "This is especially useful when subsetting for multiple values of a categorical column like `region`, `state`, or `breed`.\n",
    "\n",
    "### Instructions:\n",
    "\n",
    "You are provided with a DataFrame called `homelessness` and `pandas` is already imported as `pd`.\n",
    "\n",
    "1. Filter `homelessness` to include only rows where the `state` is in a given list of Mojave-region states:\n",
    "\n",
    "   ```python\n",
    "   canu = [\"California\", \"Arizona\", \"Nevada\", \"Utah\"]\n",
    "   ```\n",
    "2. Use `.isin()` to perform the filter in a clean and readable way.\n",
    "3. Assign the filtered result to `mojave_homelessness` and print it."
   ]
  },
  {
   "cell_type": "code",
   "execution_count": 26,
   "id": "6c480879",
   "metadata": {},
   "outputs": [
    {
     "name": "stdout",
     "output_type": "stream",
     "text": [
      "      region       state  individuals  family_members  state_pop\n",
      "2   Mountain     Arizona       7259.0          2606.0    7158024\n",
      "4    Pacific  California     109008.0         20964.0   39461588\n",
      "28  Mountain      Nevada       7058.0           486.0    3027341\n",
      "44  Mountain        Utah       1904.0           972.0    3153550\n"
     ]
    }
   ],
   "source": [
    "# Define the list of Mojave-region states\n",
    "canu = [\"California\", \"Arizona\", \"Nevada\", \"Utah\"]\n",
    "\n",
    "# Filter using .isin()\n",
    "mojave_homelessness = homelessness[homelessness[\"state\"].isin(canu)]\n",
    "\n",
    "# View the result\n",
    "print(mojave_homelessness)"
   ]
  }
 ],
 "metadata": {
  "kernelspec": {
   "display_name": "Python 3",
   "language": "python",
   "name": "python3"
  },
  "language_info": {
   "codemirror_mode": {
    "name": "ipython",
    "version": 3
   },
   "file_extension": ".py",
   "mimetype": "text/x-python",
   "name": "python",
   "nbconvert_exporter": "python",
   "pygments_lexer": "ipython3",
   "version": "3.12.5"
  }
 },
 "nbformat": 4,
 "nbformat_minor": 5
}

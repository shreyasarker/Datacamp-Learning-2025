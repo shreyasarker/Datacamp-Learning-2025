{
 "cells": [
  {
   "cell_type": "markdown",
   "id": "84763189",
   "metadata": {},
   "source": [
    "# Explicit Indexes"
   ]
  },
  {
   "cell_type": "markdown",
   "id": "846d107d",
   "metadata": {},
   "source": [
    "In pandas, an **explicit index** means the rows of a DataFrame (or Series) are labeled with meaningful values instead of just the default integer range. These labels make it easier to navigate, organize, and analyze data.\n",
    "\n",
    "### How indexes are created and managed\n",
    "\n",
    "* By default, pandas assigns a numeric index (0, 1, 2, …).\n",
    "* You can make an index explicit using methods like **`.set_index()`**.\n",
    "* If you want to return to the default numbering, you can use **`.reset_index()`**.\n",
    "* To throw away the old index completely, you can do **`.reset_index(drop=True)`**.\n",
    "* You can always check which labels are being used with **`.index`**.\n",
    "\n",
    "### Why indexes are useful\n",
    "\n",
    "Indexes simplify subsetting and filtering:\n",
    "\n",
    "* With **`.loc[]`**, you can select rows directly by their label.\n",
    "* With **`.isin()`**, you can check membership against index labels.\n",
    "* Sorting data by labels is easy with **`.sort_index()`**.\n",
    "\n",
    "### Characteristics of indexes\n",
    "\n",
    "* Index values **don’t have to be unique** (though unique indexes are often easier to work with).\n",
    "* Indexes can be **multi-level** (also called hierarchical). This means rows can be labeled by more than one category.\n",
    "\n",
    "  * You can subset the *outer level* with a simple list of labels.\n",
    "  * You can subset *inner levels* using a list of tuples.\n",
    "\n",
    "### Challenges with indexes\n",
    "\n",
    "Indexes are powerful, but they come with some downsides:\n",
    "\n",
    "1. **Index values are still data** – sometimes they hold information that might be better kept as a normal column.\n",
    "2. **They can break the \"tidy data\" principle** – tidy data says each variable should have its own column, but putting a variable into the index hides it from being a regular column.\n",
    "\n",
    "✨ In short: explicit indexes make your DataFrame more descriptive and flexible to query, but you need to be mindful that they can hide important data and sometimes complicate the structure."
   ]
  },
  {
   "cell_type": "markdown",
   "id": "1658658f",
   "metadata": {},
   "source": [
    "## Preparing Data"
   ]
  },
  {
   "cell_type": "code",
   "execution_count": 2,
   "id": "9cdcdf37",
   "metadata": {},
   "outputs": [],
   "source": [
    "import pandas as pd\n",
    "temperatures = pd.read_csv(\"datasets/temperatures.csv\")"
   ]
  },
  {
   "cell_type": "markdown",
   "id": "6874b460",
   "metadata": {},
   "source": [
    "## Exercise: Setting and removing indexes\n",
    "\n",
    "In pandas, you can promote a column to become the index of a DataFrame. This often makes subsetting cleaner and can improve lookup speed.\n",
    "\n",
    "In this activity, you’ll work with `temperatures`, a DataFrame containing average temperatures from cities around the world.\n",
    "\n",
    "### Instructions\n",
    "\n",
    "1. Display the original `temperatures` DataFrame.\n",
    "2. Create a new DataFrame `temps_by_city` where the column `\"city\"` is set as the index.\n",
    "3. Print `temps_by_city` and compare it with the original version.\n",
    "4. Reset the index of `temps_by_city`, keeping the index values as a column.\n",
    "5. Reset the index again, this time removing the index values completely."
   ]
  },
  {
   "cell_type": "code",
   "execution_count": 3,
   "id": "6d0afe4c",
   "metadata": {},
   "outputs": [
    {
     "name": "stdout",
     "output_type": "stream",
     "text": [
      "       Unnamed: 0        date     city        country  avg_temp_c\n",
      "0               0  2000-01-01  Abidjan  Côte D'Ivoire      27.293\n",
      "1               1  2000-02-01  Abidjan  Côte D'Ivoire      27.685\n",
      "2               2  2000-03-01  Abidjan  Côte D'Ivoire      29.061\n",
      "3               3  2000-04-01  Abidjan  Côte D'Ivoire      28.162\n",
      "4               4  2000-05-01  Abidjan  Côte D'Ivoire      27.547\n",
      "...           ...         ...      ...            ...         ...\n",
      "16495       16495  2013-05-01     Xian          China      18.979\n",
      "16496       16496  2013-06-01     Xian          China      23.522\n",
      "16497       16497  2013-07-01     Xian          China      25.251\n",
      "16498       16498  2013-08-01     Xian          China      24.528\n",
      "16499       16499  2013-09-01     Xian          China         NaN\n",
      "\n",
      "[16500 rows x 5 columns]\n",
      "         Unnamed: 0        date        country  avg_temp_c\n",
      "city                                                      \n",
      "Abidjan           0  2000-01-01  Côte D'Ivoire      27.293\n",
      "Abidjan           1  2000-02-01  Côte D'Ivoire      27.685\n",
      "Abidjan           2  2000-03-01  Côte D'Ivoire      29.061\n",
      "Abidjan           3  2000-04-01  Côte D'Ivoire      28.162\n",
      "Abidjan           4  2000-05-01  Côte D'Ivoire      27.547\n",
      "...             ...         ...            ...         ...\n",
      "Xian          16495  2013-05-01          China      18.979\n",
      "Xian          16496  2013-06-01          China      23.522\n",
      "Xian          16497  2013-07-01          China      25.251\n",
      "Xian          16498  2013-08-01          China      24.528\n",
      "Xian          16499  2013-09-01          China         NaN\n",
      "\n",
      "[16500 rows x 4 columns]\n",
      "          city  Unnamed: 0        date        country  avg_temp_c\n",
      "0      Abidjan           0  2000-01-01  Côte D'Ivoire      27.293\n",
      "1      Abidjan           1  2000-02-01  Côte D'Ivoire      27.685\n",
      "2      Abidjan           2  2000-03-01  Côte D'Ivoire      29.061\n",
      "3      Abidjan           3  2000-04-01  Côte D'Ivoire      28.162\n",
      "4      Abidjan           4  2000-05-01  Côte D'Ivoire      27.547\n",
      "...        ...         ...         ...            ...         ...\n",
      "16495     Xian       16495  2013-05-01          China      18.979\n",
      "16496     Xian       16496  2013-06-01          China      23.522\n",
      "16497     Xian       16497  2013-07-01          China      25.251\n",
      "16498     Xian       16498  2013-08-01          China      24.528\n",
      "16499     Xian       16499  2013-09-01          China         NaN\n",
      "\n",
      "[16500 rows x 5 columns]\n",
      "       Unnamed: 0        date        country  avg_temp_c\n",
      "0               0  2000-01-01  Côte D'Ivoire      27.293\n",
      "1               1  2000-02-01  Côte D'Ivoire      27.685\n",
      "2               2  2000-03-01  Côte D'Ivoire      29.061\n",
      "3               3  2000-04-01  Côte D'Ivoire      28.162\n",
      "4               4  2000-05-01  Côte D'Ivoire      27.547\n",
      "...           ...         ...            ...         ...\n",
      "16495       16495  2013-05-01          China      18.979\n",
      "16496       16496  2013-06-01          China      23.522\n",
      "16497       16497  2013-07-01          China      25.251\n",
      "16498       16498  2013-08-01          China      24.528\n",
      "16499       16499  2013-09-01          China         NaN\n",
      "\n",
      "[16500 rows x 4 columns]\n"
     ]
    }
   ],
   "source": [
    "# Step 1: Inspect the original data\n",
    "print(temperatures)\n",
    "\n",
    "# Step 2: Assign \"city\" as the index\n",
    "temps_by_city = temperatures.set_index(\"city\")\n",
    "\n",
    "# Step 3: View the new DataFrame with \"city\" as index\n",
    "print(temps_by_city)\n",
    "\n",
    "# Step 4: Reset index but keep the \"city\" values as a column\n",
    "print(temps_by_city.reset_index())\n",
    "\n",
    "# Step 5: Reset index and drop the \"city\" values\n",
    "print(temps_by_city.reset_index(drop=True))"
   ]
  },
  {
   "cell_type": "markdown",
   "id": "fb7ea3c2",
   "metadata": {},
   "source": [
    "## Exercise: Subsetting with .loc[]\n",
    "\n",
    "One of the most powerful features of using indexes in pandas is the `.loc[]` method, which lets you subset rows directly by their index values. Unlike standard square-bracket filtering, `.loc[]` makes your code shorter and easier to follow.\n",
    "\n",
    "In this task, you’ll practice filtering rows in two different ways: using regular column-based subsetting, and using `.loc[]` with an index.\n",
    "\n",
    "### Instructions\n",
    "\n",
    "1. Create a list named `cities` containing `\"London\"` and `\"Paris\"`.\n",
    "2. Use regular column filtering with `.isin()` to extract rows from `temperatures` where `\"city\"` is in `cities`.\n",
    "3. Use `.loc[]` on `temperatures_ind` to directly pull rows for those same cities."
   ]
  },
  {
   "cell_type": "code",
   "execution_count": 4,
   "id": "344801b6",
   "metadata": {},
   "outputs": [
    {
     "name": "stdout",
     "output_type": "stream",
     "text": [
      "       Unnamed: 0        date    city         country  avg_temp_c\n",
      "8910         8910  2000-01-01  London  United Kingdom       4.693\n",
      "8911         8911  2000-02-01  London  United Kingdom       6.115\n",
      "8912         8912  2000-03-01  London  United Kingdom       7.422\n",
      "8913         8913  2000-04-01  London  United Kingdom       8.246\n",
      "8914         8914  2000-05-01  London  United Kingdom      12.491\n",
      "...           ...         ...     ...             ...         ...\n",
      "12040       12040  2013-05-01   Paris          France      11.703\n",
      "12041       12041  2013-06-01   Paris          France      16.340\n",
      "12042       12042  2013-07-01   Paris          France      21.186\n",
      "12043       12043  2013-08-01   Paris          France      19.235\n",
      "12044       12044  2013-09-01   Paris          France         NaN\n",
      "\n",
      "[330 rows x 5 columns]\n",
      "        Unnamed: 0        date         country  avg_temp_c\n",
      "city                                                      \n",
      "London        8910  2000-01-01  United Kingdom       4.693\n",
      "London        8911  2000-02-01  United Kingdom       6.115\n",
      "London        8912  2000-03-01  United Kingdom       7.422\n",
      "London        8913  2000-04-01  United Kingdom       8.246\n",
      "London        8914  2000-05-01  United Kingdom      12.491\n",
      "...            ...         ...             ...         ...\n",
      "Paris        12040  2013-05-01          France      11.703\n",
      "Paris        12041  2013-06-01          France      16.340\n",
      "Paris        12042  2013-07-01          France      21.186\n",
      "Paris        12043  2013-08-01          France      19.235\n",
      "Paris        12044  2013-09-01          France         NaN\n",
      "\n",
      "[330 rows x 4 columns]\n"
     ]
    }
   ],
   "source": [
    "# Step 1: Define a list of cities to filter on\n",
    "cities = [\"London\", \"Paris\"]\n",
    "\n",
    "# Step 2: Filter using column-based subsetting\n",
    "subset_col = temperatures[temperatures[\"city\"].isin(cities)]\n",
    "print(subset_col)\n",
    "\n",
    "# Step 3: Filter using index labels with .loc[]\n",
    "temperatures_ind = temperatures.set_index(\"city\")\n",
    "subset_loc = temperatures_ind.loc[cities]\n",
    "print(subset_loc)"
   ]
  },
  {
   "cell_type": "markdown",
   "id": "6e2f179e",
   "metadata": {},
   "source": [
    "## Exercise: Setting multi-level indexes\n",
    "\n",
    "In pandas, you can build indexes from more than one column, creating what’s called a **multi-level index** (or hierarchical index).\n",
    "\n",
    "* **Advantage:** It allows you to organize data in a nested way that reflects real-world relationships. For example, cities naturally belong to countries, so it makes sense to nest `\"city\"` inside `\"country\"`.\n",
    "* **Disadvantage:** The syntax for working with multi-level indexes is a bit different from working with regular columns, so you need to keep track of both approaches.\n",
    "\n",
    "### Instructions\n",
    "\n",
    "1. Convert the `\"country\"` and `\"city\"` columns into a multi-level index and store the result as `temperatures_ind`.\n",
    "2. Create a list of two index pairs to keep:\n",
    "\n",
    "   * `\"Brazil\"`, `\"Rio De Janeiro\"`\n",
    "   * `\"Pakistan\"`, `\"Lahore\"`\n",
    "3. Use `.loc[]` to select these rows from `temperatures_ind` and print the result."
   ]
  },
  {
   "cell_type": "code",
   "execution_count": 5,
   "id": "5e9805e6",
   "metadata": {},
   "outputs": [
    {
     "name": "stdout",
     "output_type": "stream",
     "text": [
      "                         Unnamed: 0        date  avg_temp_c\n",
      "country  city                                              \n",
      "Brazil   Rio De Janeiro       12540  2000-01-01      25.974\n",
      "         Rio De Janeiro       12541  2000-02-01      26.699\n",
      "         Rio De Janeiro       12542  2000-03-01      26.270\n",
      "         Rio De Janeiro       12543  2000-04-01      25.750\n",
      "         Rio De Janeiro       12544  2000-05-01      24.356\n",
      "...                             ...         ...         ...\n",
      "Pakistan Lahore                8575  2013-05-01      33.457\n",
      "         Lahore                8576  2013-06-01      34.456\n",
      "         Lahore                8577  2013-07-01      33.279\n",
      "         Lahore                8578  2013-08-01      31.511\n",
      "         Lahore                8579  2013-09-01         NaN\n",
      "\n",
      "[330 rows x 3 columns]\n"
     ]
    }
   ],
   "source": [
    "# Step 1: Create a multi-level index with country and city\n",
    "temperatures_ind = temperatures.set_index([\"country\", \"city\"])\n",
    "\n",
    "# Step 2: Define the rows we want to keep\n",
    "rows_to_keep = [(\"Brazil\", \"Rio De Janeiro\"), \n",
    "                (\"Pakistan\", \"Lahore\")]\n",
    "\n",
    "# Step 3: Subset using .loc[]\n",
    "subset = temperatures_ind.loc[rows_to_keep]\n",
    "print(subset)"
   ]
  },
  {
   "cell_type": "markdown",
   "id": "a7379e79",
   "metadata": {},
   "source": [
    "## Exercise: Sorting by index values\n",
    "\n",
    "So far, you’ve sorted rows in a DataFrame using **`.sort_values()`**. But when your DataFrame has an index that carries important meaning, you can also sort directly by index values using **`.sort_index()`**.\n",
    "\n",
    "This is especially powerful with **multi-level indexes**, since you can control the sorting order for each level.\n",
    "\n",
    "The DataFrame `temperatures_ind` (with a multi-level index of `country` and `city`) is available.\n",
    "\n",
    "\n",
    "### Instructions\n",
    "\n",
    "1. Sort `temperatures_ind` by all index levels.\n",
    "2. Sort `temperatures_ind` by the `\"city\"` level of the index.\n",
    "3. Sort `temperatures_ind` by `country` in ascending order, and then `city` in descending order."
   ]
  },
  {
   "cell_type": "code",
   "execution_count": 7,
   "id": "48ae3cc2",
   "metadata": {},
   "outputs": [
    {
     "name": "stdout",
     "output_type": "stream",
     "text": [
      "                    Unnamed: 0        date  avg_temp_c\n",
      "country     city                                      \n",
      "Afghanistan Kabul         7260  2000-01-01       3.326\n",
      "            Kabul         7261  2000-02-01       3.454\n",
      "            Kabul         7262  2000-03-01       9.612\n",
      "            Kabul         7263  2000-04-01      17.925\n",
      "            Kabul         7264  2000-05-01      24.658\n",
      "...                        ...         ...         ...\n",
      "Zimbabwe    Harare        5605  2013-05-01      18.298\n",
      "            Harare        5606  2013-06-01      17.020\n",
      "            Harare        5607  2013-07-01      16.299\n",
      "            Harare        5608  2013-08-01      19.232\n",
      "            Harare        5609  2013-09-01         NaN\n",
      "\n",
      "[16500 rows x 3 columns]\n"
     ]
    }
   ],
   "source": [
    "# Step 1: Sort by all index values\n",
    "print(temperatures_ind.sort_index())"
   ]
  },
  {
   "cell_type": "code",
   "execution_count": 8,
   "id": "27a54265",
   "metadata": {},
   "outputs": [
    {
     "name": "stdout",
     "output_type": "stream",
     "text": [
      "                       Unnamed: 0        date  avg_temp_c\n",
      "country       city                                       \n",
      "Côte D'Ivoire Abidjan           0  2000-01-01      27.293\n",
      "              Abidjan           1  2000-02-01      27.685\n",
      "              Abidjan           2  2000-03-01      29.061\n",
      "              Abidjan           3  2000-04-01      28.162\n",
      "              Abidjan           4  2000-05-01      27.547\n",
      "...                           ...         ...         ...\n",
      "China         Xian          16495  2013-05-01      18.979\n",
      "              Xian          16496  2013-06-01      23.522\n",
      "              Xian          16497  2013-07-01      25.251\n",
      "              Xian          16498  2013-08-01      24.528\n",
      "              Xian          16499  2013-09-01         NaN\n",
      "\n",
      "[16500 rows x 3 columns]\n"
     ]
    }
   ],
   "source": [
    "# Step 2: Sort by city-level index values\n",
    "print(temperatures_ind.sort_index(level=\"city\"))"
   ]
  },
  {
   "cell_type": "code",
   "execution_count": 9,
   "id": "ebe9dca7",
   "metadata": {},
   "outputs": [
    {
     "name": "stdout",
     "output_type": "stream",
     "text": [
      "                    Unnamed: 0        date  avg_temp_c\n",
      "country     city                                      \n",
      "Afghanistan Kabul         7260  2000-01-01       3.326\n",
      "            Kabul         7261  2000-02-01       3.454\n",
      "            Kabul         7262  2000-03-01       9.612\n",
      "            Kabul         7263  2000-04-01      17.925\n",
      "            Kabul         7264  2000-05-01      24.658\n",
      "...                        ...         ...         ...\n",
      "Zimbabwe    Harare        5605  2013-05-01      18.298\n",
      "            Harare        5606  2013-06-01      17.020\n",
      "            Harare        5607  2013-07-01      16.299\n",
      "            Harare        5608  2013-08-01      19.232\n",
      "            Harare        5609  2013-09-01         NaN\n",
      "\n",
      "[16500 rows x 3 columns]\n"
     ]
    }
   ],
   "source": [
    "# Step 3: Sort by country (asc) and city (desc)\n",
    "print(\n",
    "    temperatures_ind.sort_index(\n",
    "        level=[\"country\", \"city\"], \n",
    "        ascending=[True, False]\n",
    "    )\n",
    ")"
   ]
  }
 ],
 "metadata": {
  "kernelspec": {
   "display_name": "Python 3",
   "language": "python",
   "name": "python3"
  },
  "language_info": {
   "codemirror_mode": {
    "name": "ipython",
    "version": 3
   },
   "file_extension": ".py",
   "mimetype": "text/x-python",
   "name": "python",
   "nbconvert_exporter": "python",
   "pygments_lexer": "ipython3",
   "version": "3.12.5"
  }
 },
 "nbformat": 4,
 "nbformat_minor": 5
}

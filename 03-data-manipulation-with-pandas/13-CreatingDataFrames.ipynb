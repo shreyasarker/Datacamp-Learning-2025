{
 "cells": [
  {
   "cell_type": "markdown",
   "id": "a8a3461f",
   "metadata": {},
   "source": [
    "# Creating DataFrames\n",
    "\n",
    "To start working with pandas, it’s important to know how to actually load or build a DataFrame.\n",
    "\n",
    "### Dictionaries\n",
    "\n",
    "Before jumping into DataFrames, let’s revisit dictionaries in Python. A dictionary stores information as **key–value pairs**. Keys act as identifiers, while values hold the data. You can use keys inside square brackets to retrieve their corresponding values.\n",
    "\n",
    "### Creating DataFrames\n",
    "\n",
    "There are multiple ways to create DataFrames from scratch, but two common ones are:\n",
    "\n",
    "* Using a **list of dictionaries** (row by row).\n",
    "* Using a **dictionary of lists** (column by column).\n",
    "\n",
    "### List of dictionaries – row-wise\n",
    "\n",
    "In this method, each row of data is represented as a dictionary, where keys are the column names and values are the data for that row. A list of such dictionaries can then be created, with each dictionary representing one row.\n",
    "\n",
    "### Converting list of dictionaries\n",
    "\n",
    "Once the list of dictionaries is ready, it can be passed into `pd.DataFrame()` to create a DataFrame.\n",
    "\n",
    "### Dictionary of lists – column-wise\n",
    "\n",
    "In this method, data is organized column by column. Each key in the dictionary represents a column name, and the value is a list containing all entries for that column. Once the dictionary is defined, it can be converted into a DataFrame using `pd.DataFrame()`.\n"
   ]
  },
  {
   "cell_type": "markdown",
   "id": "450ff86c",
   "metadata": {},
   "source": [
    "## Exercise: List of dictionaries\n",
    "\n",
    "You’ve received avocado sales data from 2019 and want to organize it into a pandas DataFrame using the **list of dictionaries** approach. This method involves entering the data **row by row**.\n",
    "\n",
    "| date       | small\\_sold | large\\_sold |\n",
    "| ---------- | ----------- | ----------- |\n",
    "| 2019-11-03 | 10,376,832  | 7,835,071   |\n",
    "| 2019-11-10 | 10,717,154  | 8,561,348   |\n",
    "\n",
    "### Instructions\n",
    "\n",
    "1. Create a list of dictionaries containing the new avocado data.\n",
    "2. Convert the list into a pandas DataFrame.\n",
    "3. Display the resulting DataFrame."
   ]
  },
  {
   "cell_type": "code",
   "execution_count": 1,
   "id": "8fddf8f8",
   "metadata": {},
   "outputs": [
    {
     "name": "stdout",
     "output_type": "stream",
     "text": [
      "         date  small_sold  large_sold\n",
      "0  2019-11-03    10376832     7835071\n",
      "1  2019-11-10    10717154     8561348\n"
     ]
    }
   ],
   "source": [
    "# Import pandas\n",
    "import pandas as pd \n",
    "\n",
    "# Create a list of dictionaries representing the avocado data\n",
    "avocados_2019_list = [\n",
    "    {\"date\": \"2019-11-03\", \"small_sold\": 10376832, \"large_sold\": 7835071},\n",
    "    {\"date\": \"2019-11-10\", \"small_sold\": 10717154, \"large_sold\": 8561348}\n",
    "]\n",
    "\n",
    "# Convert the list into a DataFrame\n",
    "avocados_2019 = pd.DataFrame(avocados_2019_list)\n",
    "\n",
    "# Display the DataFrame\n",
    "print(avocados_2019)"
   ]
  },
  {
   "cell_type": "markdown",
   "id": "5b88dc34",
   "metadata": {},
   "source": [
    "## Exercise: Dictionary of lists\n",
    "\n",
    "You have received new avocado sales data and will now create a pandas DataFrame using the **dictionary-of-lists** method, entering data column by column.\n",
    "\n",
    "| date       | small\\_sold | large\\_sold |\n",
    "| ---------- | ----------- | ----------- |\n",
    "| 2019-11-17 | 10,859,987  | 7,674,135   |\n",
    "| 2019-12-01 | 9,291,631   | 6,238,096   |\n",
    "\n",
    "### Instructions\n",
    "\n",
    "1. Construct a dictionary where each key represents a column and its value is a list of column entries.\n",
    "2. Convert this dictionary into a pandas DataFrame.\n",
    "3. Display the DataFrame."
   ]
  },
  {
   "cell_type": "code",
   "execution_count": 2,
   "id": "c67b0f84",
   "metadata": {},
   "outputs": [
    {
     "name": "stdout",
     "output_type": "stream",
     "text": [
      "         date  small_sold  large_sold\n",
      "0  2019-11-17    10859987     7674135\n",
      "1  2019-12-01     9291631     6238096\n"
     ]
    }
   ],
   "source": [
    "# Create a dictionary of lists with the new avocado data\n",
    "avocados_dict = {\n",
    "    \"date\": [\"2019-11-17\", \"2019-12-01\"],\n",
    "    \"small_sold\": [10859987, 9291631],\n",
    "    \"large_sold\": [7674135, 6238096]\n",
    "}\n",
    "\n",
    "# Convert the dictionary into a DataFrame\n",
    "avocados_2019 = pd.DataFrame(avocados_dict)\n",
    "\n",
    "# Display the resulting DataFrame\n",
    "print(avocados_2019)"
   ]
  }
 ],
 "metadata": {
  "kernelspec": {
   "display_name": "Python 3",
   "language": "python",
   "name": "python3"
  },
  "language_info": {
   "codemirror_mode": {
    "name": "ipython",
    "version": 3
   },
   "file_extension": ".py",
   "mimetype": "text/x-python",
   "name": "python",
   "nbconvert_exporter": "python",
   "pygments_lexer": "ipython3",
   "version": "3.12.5"
  }
 },
 "nbformat": 4,
 "nbformat_minor": 5
}

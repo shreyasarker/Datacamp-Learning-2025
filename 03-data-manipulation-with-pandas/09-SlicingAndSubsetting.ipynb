{
 "cells": [
  {
   "cell_type": "markdown",
   "id": "624e9746",
   "metadata": {},
   "source": [
    "# Slicing and Subsetting with `.loc[]` and `.iloc[]`\n",
    "\n",
    "### 1. What is Slicing?\n",
    "\n",
    "Slicing is a way to select **consecutive elements** from a collection (lists, Series, or DataFrames). It lets you extract a range of values without writing them one by one.\n",
    "\n",
    "### 2. Slicing Lists\n",
    "\n",
    "* Lists can be sliced using square brackets `[]` with a start and stop position separated by a colon.\n",
    "* Python uses **zero-based indexing**, so position `2` means the **third element**.\n",
    "* The **stop value is exclusive**, meaning it won’t be included in the slice.\n",
    "* You can leave out the start (`:3` → first three elements) or both (`:` → entire list).\n",
    "\n",
    "### 3. Sorting Indexes Before Slicing\n",
    "\n",
    "When slicing DataFrames, the **index must be sorted first**.\n",
    "\n",
    "* Example: A dataset of dogs with a multi-level index (`breed`, `color`) must be sorted using `.sort_index()` before slicing works properly.\n",
    "\n",
    "### 4. Slicing the Outer Index Level\n",
    "\n",
    "* Use `.loc[]` with the **first and last index values**, separated by a colon.\n",
    "* Unlike lists, the **end value is included** in the result.\n",
    "* Example: slicing from `Beagle` to `Poodle` includes both.\n",
    "\n",
    "### 5. Pitfall: Inner Index Slicing Gone Wrong\n",
    "\n",
    "* Slicing directly on **inner index levels** doesn’t work as expected.\n",
    "* Example: slicing `Tan:Grey` returns an **empty DataFrame** instead of the dogs you expect.\n",
    "* pandas doesn’t raise an error—so be careful.\n",
    "\n",
    "### 6. Correct Way: Inner Index Slicing\n",
    "\n",
    "* For inner levels, you must use **tuples**.\n",
    "* Example: to slice from a brown Labrador to a black Poodle, pass tuples like `(\"Labrador\", \"Brown\") : (\"Poodle\", \"Black\")`.\n",
    "\n",
    "### 7. Slicing Columns\n",
    "\n",
    "* DataFrames are **two-dimensional**, so you can slice rows and columns.\n",
    "* With `.loc[]`, provide two arguments:\n",
    "\n",
    "  * First → row slice (`:` for all rows)\n",
    "  * Second → column slice (`\"col1\":\"col3\"`)\n",
    "\n",
    "### 8. Slicing Rows and Columns Together\n",
    "\n",
    "* You can slice both dimensions in one step.\n",
    "* Example:\n",
    "\n",
    "  * First argument → row range\n",
    "  * Second argument → column range\n",
    "\n",
    "### 9. Slicing by Dates\n",
    "\n",
    "* Date indexes are a common use case.\n",
    "* Set a `date` column as the index and sort it.\n",
    "* Then slice by start and end dates using strings.\n",
    "\n",
    "### 10. Partial Date Slicing\n",
    "\n",
    "* You don’t need full dates; **partial dates work too**.\n",
    "* Example: slicing from `\"2014\"` to `\"2016\"` includes all dates in 2014, 2015, and 2016.\n",
    "\n",
    "### 11. Subsetting with `.iloc[]`\n",
    "\n",
    "* `.iloc[]` slices by **row and column numbers** instead of labels.\n",
    "* Syntax: `.iloc[row_start:row_stop, col_start:col_stop]`\n",
    "* Works like list slicing: the **final position is excluded**.\n",
    "* Example: `0:5` rows returns only rows `0–4`.\n",
    "\n",
    "✅ **Key Difference:**\n",
    "\n",
    "* `.loc[]` → uses **labels** (inclusive of end).\n",
    "* `.iloc[]` → uses **numbers** (exclusive of end)."
   ]
  },
  {
   "cell_type": "markdown",
   "id": "a9b67682",
   "metadata": {},
   "source": [
    "## Preparing Data"
   ]
  },
  {
   "cell_type": "code",
   "execution_count": 1,
   "id": "b59d2a32",
   "metadata": {},
   "outputs": [],
   "source": [
    "import pandas as pd\n",
    "temperatures = pd.read_csv(\"datasets/temperatures.csv\")"
   ]
  },
  {
   "cell_type": "markdown",
   "id": "746a8220",
   "metadata": {},
   "source": [
    "## Exercise: Slicing Index Values\n",
    "\n",
    "Slicing allows you to select consecutive elements of an object using the `first:last` syntax. In DataFrames, this can be done with **index values** or by **row/column numbers**.\n",
    "Here, we’ll focus on slicing by index values using the `.loc[]` method.\n",
    "\n",
    "### Important Notes:\n",
    "\n",
    "* You can only slice an index if it has been **sorted** using `.sort_index()`.\n",
    "* To slice at the **outer index level**, provide the first and last values as strings.\n",
    "* To slice at the **inner index levels**, you need to pass the values as **tuples**.\n",
    "* Passing a single slice to `.loc[]` means you’re slicing **rows**.\n",
    "\n",
    "💡 In this exercise, the DataFrame `temperatures_ind` has a **multi-level index** of `country` and `city`.\n",
    "\n",
    "### Instructions\n",
    "\n",
    "1. Sort the index of `temperatures_ind`.\n",
    "2. Use slicing with `.loc[]` to get these subsets:\n",
    "\n",
    "   * Rows from **Pakistan** to **Philippines**.\n",
    "   * Rows from **Lahore** to **Manila** (⚠️ will return nonsense because it’s not aligned to index levels).\n",
    "   * Rows from **Pakistan, Lahore** to **Philippines, Manila**."
   ]
  },
  {
   "cell_type": "code",
   "execution_count": 5,
   "id": "b75dc0b3",
   "metadata": {},
   "outputs": [
    {
     "name": "stdout",
     "output_type": "stream",
     "text": [
      "                        Unnamed: 0        date  avg_temp_c\n",
      "country     city                                          \n",
      "Pakistan    Faisalabad        4785  2000-01-01      12.792\n",
      "            Faisalabad        4786  2000-02-01      14.339\n",
      "            Faisalabad        4787  2000-03-01      20.309\n",
      "            Faisalabad        4788  2000-04-01      29.072\n",
      "            Faisalabad        4789  2000-05-01      34.845\n",
      "...                            ...         ...         ...\n",
      "Philippines Manila            9895  2013-05-01      29.552\n",
      "            Manila            9896  2013-06-01      28.572\n",
      "            Manila            9897  2013-07-01      27.266\n",
      "            Manila            9898  2013-08-01      26.754\n",
      "            Manila            9899  2013-09-01         NaN\n",
      "\n",
      "[825 rows x 3 columns]\n"
     ]
    }
   ],
   "source": [
    "# Create a multi-level index with country and city\n",
    "temperatures_ind = temperatures.set_index([\"country\", \"city\"])\n",
    "\n",
    "# Sort the index of temperatures_ind\n",
    "temperatures_srt = temperatures_ind.sort_index()\n",
    "\n",
    "# Subset rows from Pakistan to Philippines\n",
    "print(temperatures_srt.loc[\"Pakistan\" : \"Philippines\"])"
   ]
  },
  {
   "cell_type": "code",
   "execution_count": 6,
   "id": "31d4e5f7",
   "metadata": {},
   "outputs": [
    {
     "name": "stdout",
     "output_type": "stream",
     "text": [
      "Empty DataFrame\n",
      "Columns: [Unnamed: 0, date, avg_temp_c]\n",
      "Index: []\n"
     ]
    }
   ],
   "source": [
    "# Try to subset rows from Lahore to Manila (nonsense result)\n",
    "print(temperatures_srt.loc[\"Lahore\" : \"Manila\"])"
   ]
  },
  {
   "cell_type": "code",
   "execution_count": 7,
   "id": "f8e156e0",
   "metadata": {},
   "outputs": [
    {
     "name": "stdout",
     "output_type": "stream",
     "text": [
      "                    Unnamed: 0        date  avg_temp_c\n",
      "country     city                                      \n",
      "Pakistan    Lahore        8415  2000-01-01      12.792\n",
      "            Lahore        8416  2000-02-01      14.339\n",
      "            Lahore        8417  2000-03-01      20.309\n",
      "            Lahore        8418  2000-04-01      29.072\n",
      "            Lahore        8419  2000-05-01      34.845\n",
      "...                        ...         ...         ...\n",
      "Philippines Manila        9895  2013-05-01      29.552\n",
      "            Manila        9896  2013-06-01      28.572\n",
      "            Manila        9897  2013-07-01      27.266\n",
      "            Manila        9898  2013-08-01      26.754\n",
      "            Manila        9899  2013-09-01         NaN\n",
      "\n",
      "[495 rows x 3 columns]\n"
     ]
    }
   ],
   "source": [
    "# Subset rows from Pakistan, Lahore to Philippines, Manila\n",
    "print(temperatures_srt.loc[(\"Pakistan\", \"Lahore\") : (\"Philippines\", \"Manila\")])"
   ]
  },
  {
   "cell_type": "markdown",
   "id": "9f85db3b",
   "metadata": {},
   "source": [
    "## Exercise: Slicing in both directions\n",
    "\n",
    "DataFrames are two-dimensional, which means you can slice them **by rows and columns at the same time**. Using `.loc[]`, you simply provide two arguments: the first for rows and the second for columns.\n",
    "\n",
    "The DataFrame `temperatures_srt` is already indexed by `country` and `city`, sorted, and available for use.\n",
    "\n",
    "\n",
    "### Instructions\n",
    "\n",
    "1. Select all rows from **India, Hyderabad** through **Iraq, Baghdad**.\n",
    "2. Select all columns from **date** through **avg\\_temp\\_c**.\n",
    "3. Perform slicing in **both directions at once**, combining the above row and column slices.\n"
   ]
  },
  {
   "cell_type": "code",
   "execution_count": 8,
   "id": "a660a45b",
   "metadata": {},
   "outputs": [
    {
     "name": "stdout",
     "output_type": "stream",
     "text": [
      "                   Unnamed: 0        date  avg_temp_c\n",
      "country city                                         \n",
      "India   Hyderabad        5940  2000-01-01      23.779\n",
      "        Hyderabad        5941  2000-02-01      25.826\n",
      "        Hyderabad        5942  2000-03-01      28.821\n",
      "        Hyderabad        5943  2000-04-01      32.698\n",
      "        Hyderabad        5944  2000-05-01      32.438\n",
      "...                       ...         ...         ...\n",
      "Iraq    Baghdad          1150  2013-05-01      28.673\n",
      "        Baghdad          1151  2013-06-01      33.803\n",
      "        Baghdad          1152  2013-07-01      36.392\n",
      "        Baghdad          1153  2013-08-01      35.463\n",
      "        Baghdad          1154  2013-09-01         NaN\n",
      "\n",
      "[2145 rows x 3 columns]\n"
     ]
    }
   ],
   "source": [
    "# Step 1: Slice rows from India-Hyderabad to Iraq-Baghdad\n",
    "rows_slice = temperatures_srt.loc[(\"India\", \"Hyderabad\") : (\"Iraq\", \"Baghdad\")]\n",
    "print(rows_slice)"
   ]
  },
  {
   "cell_type": "code",
   "execution_count": 9,
   "id": "306a8751",
   "metadata": {},
   "outputs": [
    {
     "name": "stdout",
     "output_type": "stream",
     "text": [
      "                          date  avg_temp_c\n",
      "country     city                          \n",
      "Afghanistan Kabul   2000-01-01       3.326\n",
      "            Kabul   2000-02-01       3.454\n",
      "            Kabul   2000-03-01       9.612\n",
      "            Kabul   2000-04-01      17.925\n",
      "            Kabul   2000-05-01      24.658\n",
      "...                        ...         ...\n",
      "Zimbabwe    Harare  2013-05-01      18.298\n",
      "            Harare  2013-06-01      17.020\n",
      "            Harare  2013-07-01      16.299\n",
      "            Harare  2013-08-01      19.232\n",
      "            Harare  2013-09-01         NaN\n",
      "\n",
      "[16500 rows x 2 columns]\n"
     ]
    }
   ],
   "source": [
    "# Step 2: Slice columns from 'date' to 'avg_temp_c'\n",
    "cols_slice = temperatures_srt.loc[:, \"date\":\"avg_temp_c\"]\n",
    "print(cols_slice)"
   ]
  },
  {
   "cell_type": "code",
   "execution_count": 10,
   "id": "4d36153e",
   "metadata": {},
   "outputs": [
    {
     "name": "stdout",
     "output_type": "stream",
     "text": [
      "                         date  avg_temp_c\n",
      "country city                             \n",
      "India   Hyderabad  2000-01-01      23.779\n",
      "        Hyderabad  2000-02-01      25.826\n",
      "        Hyderabad  2000-03-01      28.821\n",
      "        Hyderabad  2000-04-01      32.698\n",
      "        Hyderabad  2000-05-01      32.438\n",
      "...                       ...         ...\n",
      "Iraq    Baghdad    2013-05-01      28.673\n",
      "        Baghdad    2013-06-01      33.803\n",
      "        Baghdad    2013-07-01      36.392\n",
      "        Baghdad    2013-08-01      35.463\n",
      "        Baghdad    2013-09-01         NaN\n",
      "\n",
      "[2145 rows x 2 columns]\n"
     ]
    }
   ],
   "source": [
    "# Step 3: Slice rows and columns together\n",
    "both_slice = temperatures_srt.loc[\n",
    "    (\"India\", \"Hyderabad\") : (\"Iraq\", \"Baghdad\"),\n",
    "    \"date\":\"avg_temp_c\"\n",
    "]\n",
    "print(both_slice)"
   ]
  },
  {
   "cell_type": "markdown",
   "id": "834336c8",
   "metadata": {},
   "source": [
    "## Exercise: Slicing time series\n",
    "\n",
    "Time series data often requires selecting rows within specific **date ranges**. To do this efficiently:\n",
    "\n",
    "1. Set the date column as the **index**.\n",
    "2. Use `.loc[]` to perform slicing.\n",
    "\n",
    "Remember to keep dates in **ISO 8601 format**:\n",
    "\n",
    "* `\"yyyy-mm-dd\"` → full date\n",
    "* `\"yyyy-mm\"` → year and month\n",
    "* `\"yyyy\"` → year only\n",
    "\n",
    "You can also filter using **Boolean conditions** with logical operators like `&`. When combining multiple conditions, wrap each in parentheses `()`.\n",
    "\n",
    "The DataFrame `temperatures` is available with no index, and pandas is loaded as `pd`.\n",
    "\n",
    "### Instructions\n",
    "\n",
    "1. Use **Boolean conditions** (not `.isin()` or `.loc[]`) to select rows from 2010 and 2011.\n",
    "2. Set the `date` column as the index and sort it.\n",
    "3. Use `.loc[]` to select rows from 2010 to 2011.\n",
    "4. Use `.loc[]` to select rows from **August 2010** through **February 2011**."
   ]
  },
  {
   "cell_type": "code",
   "execution_count": 11,
   "id": "c4ecbc03",
   "metadata": {},
   "outputs": [
    {
     "name": "stdout",
     "output_type": "stream",
     "text": [
      "       Unnamed: 0        date     city        country  avg_temp_c\n",
      "120           120  2010-01-01  Abidjan  Côte D'Ivoire      28.270\n",
      "121           121  2010-02-01  Abidjan  Côte D'Ivoire      29.262\n",
      "122           122  2010-03-01  Abidjan  Côte D'Ivoire      29.596\n",
      "123           123  2010-04-01  Abidjan  Côte D'Ivoire      29.068\n",
      "124           124  2010-05-01  Abidjan  Côte D'Ivoire      28.258\n",
      "...           ...         ...      ...            ...         ...\n",
      "16474       16474  2011-08-01     Xian          China      23.069\n",
      "16475       16475  2011-09-01     Xian          China      16.775\n",
      "16476       16476  2011-10-01     Xian          China      12.587\n",
      "16477       16477  2011-11-01     Xian          China       7.543\n",
      "16478       16478  2011-12-01     Xian          China      -0.490\n",
      "\n",
      "[2400 rows x 5 columns]\n"
     ]
    }
   ],
   "source": [
    "# Step 1: Filter using Boolean conditions for 2010 and 2011\n",
    "temps_2010_2011 = temperatures[\n",
    "    (temperatures[\"date\"] >= \"2010-01-01\") & \n",
    "    (temperatures[\"date\"] <= \"2011-12-31\")\n",
    "]\n",
    "print(temps_2010_2011)"
   ]
  },
  {
   "cell_type": "code",
   "execution_count": 13,
   "id": "bfec8ef1",
   "metadata": {},
   "outputs": [
    {
     "name": "stdout",
     "output_type": "stream",
     "text": [
      "            Unnamed: 0        city    country  avg_temp_c\n",
      "date                                                     \n",
      "2010-01-01        4905  Faisalabad   Pakistan      11.810\n",
      "2010-01-01       10185   Melbourne  Australia      20.016\n",
      "2010-01-01        3750   Chongqing      China       7.921\n",
      "2010-01-01       13155   São Paulo     Brazil      23.738\n",
      "2010-01-01        5400   Guangzhou      China      14.136\n",
      "...                ...         ...        ...         ...\n",
      "2010-12-01        6896     Jakarta  Indonesia      26.602\n",
      "2010-12-01        5246       Gizeh      Egypt      16.530\n",
      "2010-12-01       11186      Nagpur      India      19.120\n",
      "2010-12-01       14981      Sydney  Australia      19.559\n",
      "2010-12-01       13496    Salvador     Brazil      26.265\n",
      "\n",
      "[1200 rows x 4 columns]\n"
     ]
    }
   ],
   "source": [
    "# Step 2: Set date as index and sort\n",
    "temps_indexed = temperatures.set_index(\"date\").sort_index()\n",
    "\n",
    "# Step 3: Slice using .loc[] for full years\n",
    "print(temps_indexed.loc[\"2010\":\"2011\"])"
   ]
  },
  {
   "cell_type": "code",
   "execution_count": 14,
   "id": "4c384820",
   "metadata": {},
   "outputs": [
    {
     "name": "stdout",
     "output_type": "stream",
     "text": [
      "            Unnamed: 0           city        country  avg_temp_c\n",
      "date                                                            \n",
      "2010-08-01        2602       Calcutta          India      30.226\n",
      "2010-08-01       12337           Pune          India      24.941\n",
      "2010-08-01        6562          Izmir         Turkey      28.352\n",
      "2010-08-01       15637        Tianjin          China      25.543\n",
      "2010-08-01        9862         Manila    Philippines      27.101\n",
      "...                ...            ...            ...         ...\n",
      "2011-01-01        4257  Dar Es Salaam       Tanzania      28.541\n",
      "2011-01-01       11352        Nairobi          Kenya      17.768\n",
      "2011-01-01         297    Addis Abeba       Ethiopia      17.708\n",
      "2011-01-01       11517        Nanjing          China       0.144\n",
      "2011-01-01       11847       New York  United States      -4.463\n",
      "\n",
      "[600 rows x 4 columns]\n"
     ]
    }
   ],
   "source": [
    "# Step 4: Slice using .loc[] for specific months across years\n",
    "print(temps_indexed.loc[\"2010-08\":\"2011-02\"])"
   ]
  },
  {
   "cell_type": "markdown",
   "id": "d003b328",
   "metadata": {},
   "source": [
    "## Exercise: Subsetting by row/column number\n",
    "\n",
    "While we often subset rows using **Boolean conditions** or **index labels**, sometimes it's useful to select rows or columns by **their integer positions**.\n",
    "\n",
    "The `.iloc[]` method allows you to do this. Like `.loc[]`, it can take two arguments:\n",
    "\n",
    "* First for rows\n",
    "* Second for columns\n",
    "\n",
    "The DataFrame `temperatures` (without a special index) is available and pandas is loaded as `pd`.\n",
    "\n",
    "### Instructions\n",
    "\n",
    "1. Select the **23rd row, 2nd column** (remember, Python is 0-indexed).\n",
    "2. Select the **first 5 rows**.\n",
    "3. Select **all rows**, but only **columns 3 and 4**.\n",
    "4. Select the **first 5 rows** and **columns 3 and 4** simultaneously."
   ]
  },
  {
   "cell_type": "code",
   "execution_count": 15,
   "id": "67cfca66",
   "metadata": {},
   "outputs": [
    {
     "name": "stdout",
     "output_type": "stream",
     "text": [
      "2001-11-01\n"
     ]
    }
   ],
   "source": [
    "# Step 1: 23rd row, 2nd column (index 22,1)\n",
    "print(temperatures.iloc[22, 1])"
   ]
  },
  {
   "cell_type": "code",
   "execution_count": 16,
   "id": "e06aae8a",
   "metadata": {},
   "outputs": [
    {
     "name": "stdout",
     "output_type": "stream",
     "text": [
      "   Unnamed: 0        date     city        country  avg_temp_c\n",
      "0           0  2000-01-01  Abidjan  Côte D'Ivoire      27.293\n",
      "1           1  2000-02-01  Abidjan  Côte D'Ivoire      27.685\n",
      "2           2  2000-03-01  Abidjan  Côte D'Ivoire      29.061\n",
      "3           3  2000-04-01  Abidjan  Côte D'Ivoire      28.162\n",
      "4           4  2000-05-01  Abidjan  Côte D'Ivoire      27.547\n"
     ]
    }
   ],
   "source": [
    "# Step 2: First 5 rows\n",
    "print(temperatures.iloc[:5])"
   ]
  },
  {
   "cell_type": "code",
   "execution_count": 17,
   "id": "36153beb",
   "metadata": {},
   "outputs": [
    {
     "name": "stdout",
     "output_type": "stream",
     "text": [
      "          city        country\n",
      "0      Abidjan  Côte D'Ivoire\n",
      "1      Abidjan  Côte D'Ivoire\n",
      "2      Abidjan  Côte D'Ivoire\n",
      "3      Abidjan  Côte D'Ivoire\n",
      "4      Abidjan  Côte D'Ivoire\n",
      "...        ...            ...\n",
      "16495     Xian          China\n",
      "16496     Xian          China\n",
      "16497     Xian          China\n",
      "16498     Xian          China\n",
      "16499     Xian          China\n",
      "\n",
      "[16500 rows x 2 columns]\n"
     ]
    }
   ],
   "source": [
    "# Step 3: All rows, columns 3 and 4 (index 2 and 3)\n",
    "print(temperatures.iloc[:, 2:4])"
   ]
  },
  {
   "cell_type": "code",
   "execution_count": 18,
   "id": "c9f09276",
   "metadata": {},
   "outputs": [
    {
     "name": "stdout",
     "output_type": "stream",
     "text": [
      "      city        country\n",
      "0  Abidjan  Côte D'Ivoire\n",
      "1  Abidjan  Côte D'Ivoire\n",
      "2  Abidjan  Côte D'Ivoire\n",
      "3  Abidjan  Côte D'Ivoire\n",
      "4  Abidjan  Côte D'Ivoire\n"
     ]
    }
   ],
   "source": [
    "# Step 4: First 5 rows, columns 3 and 4 at once\n",
    "print(temperatures.iloc[:5, 2:4])"
   ]
  }
 ],
 "metadata": {
  "kernelspec": {
   "display_name": "Python 3",
   "language": "python",
   "name": "python3"
  },
  "language_info": {
   "codemirror_mode": {
    "name": "ipython",
    "version": 3
   },
   "file_extension": ".py",
   "mimetype": "text/x-python",
   "name": "python",
   "nbconvert_exporter": "python",
   "pygments_lexer": "ipython3",
   "version": "3.12.5"
  }
 },
 "nbformat": 4,
 "nbformat_minor": 5
}

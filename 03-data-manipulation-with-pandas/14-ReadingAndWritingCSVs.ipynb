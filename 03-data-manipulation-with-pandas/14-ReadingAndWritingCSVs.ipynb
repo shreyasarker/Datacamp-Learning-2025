{
 "cells": [
  {
   "cell_type": "markdown",
   "id": "3553da79",
   "metadata": {},
   "source": [
    "# Summary: Reading and writing CSVs\n",
    "\n",
    "### Importing Data Efficiently\n",
    "Instead of manually entering data into a DataFrame, you can efficiently load data from external files like CSVs.\n",
    "\n",
    "### Understanding CSV Files\n",
    "CSV (comma-separated values) files are a common format for storing tabular data. Each line represents a row, and each value within a row is separated by a comma. CSVs are widely supported across databases, programming languages, and data analysis tools, making them ideal for sharing data.\n",
    "\n",
    "### Loading CSVs into DataFrames\n",
    "You can easily read data from a CSV into a pandas DataFrame using a built-in function that takes the file path as input.\n",
    "\n",
    "### Manipulating Imported Data\n",
    "Once the data is in a DataFrame, you can use pandas functions to manipulate or enhance it, such as adding new calculated columns.\n",
    "\n",
    "### Exporting Data to CSV\n",
    "After modifying a DataFrame, you can save it back to a CSV file to share or store the updated data using a pandas function that writes the DataFrame to a specified file path.\n"
   ]
  },
  {
   "cell_type": "markdown",
   "id": "2bdcfd1a",
   "metadata": {},
   "source": [
    "## Exercise: LCSV to DataFrame\n",
    "\n",
    "You are analyzing airline passenger data to see how frequently travelers were involuntarily denied boarding in 2016 and 2017. The data is provided as a CSV file, and your task is to load it into a pandas DataFrame, summarize it by airline, and calculate the number of passengers bumped per 10,000 passengers.\n",
    "\n",
    "### Instructions\n",
    "\n",
    "1. Load the CSV file into a pandas DataFrame.\n",
    "2. Inspect the first few rows of the DataFrame.\n",
    "3. Group the data by airline and calculate the total number of passengers bumped and total passengers for each airline.\n",
    "4. Create a new column that shows the number of passengers bumped per 10,000 passengers for each airline.\n",
    "5. Display the summarized DataFrame.\n"
   ]
  },
  {
   "cell_type": "code",
   "execution_count": 2,
   "id": "a4e9e58d",
   "metadata": {},
   "outputs": [
    {
     "name": "stdout",
     "output_type": "stream",
     "text": [
      "             airline  year  nb_bumped  total_passengers\n",
      "0    DELTA AIR LINES  2017        679          99796155\n",
      "1     VIRGIN AMERICA  2017        165           6090029\n",
      "2    JETBLUE AIRWAYS  2017       1475          27255038\n",
      "3    UNITED AIRLINES  2017       2067          70030765\n",
      "4  HAWAIIAN AIRLINES  2017         92           8422734\n"
     ]
    }
   ],
   "source": [
    "# Import pandas (already done in your environment)\n",
    "import pandas as pd\n",
    "\n",
    "# Step 1: Load CSV into a DataFrame\n",
    "airline_bumping = pd.read_csv(\"datasets/airline_bumping.csv\")\n",
    "\n",
    "# Step 2: Inspect the first few rows\n",
    "print(airline_bumping.head())"
   ]
  },
  {
   "cell_type": "code",
   "execution_count": 3,
   "id": "2a1161d5",
   "metadata": {},
   "outputs": [
    {
     "name": "stdout",
     "output_type": "stream",
     "text": [
      "                     nb_bumped  total_passengers  bumps_per_10k\n",
      "airline                                                        \n",
      "ALASKA AIRLINES           1392          36543121       0.380920\n",
      "AMERICAN AIRLINES        11115         197365225       0.563169\n",
      "DELTA AIR LINES           1591         197033215       0.080748\n",
      "EXPRESSJET AIRLINES       3326          27858678       1.193883\n",
      "FRONTIER AIRLINES         1228          22954995       0.534960\n",
      "HAWAIIAN AIRLINES          122          16577572       0.073593\n",
      "JETBLUE AIRWAYS           3615          53245866       0.678926\n",
      "SKYWEST AIRLINES          3094          47091737       0.657015\n",
      "SOUTHWEST AIRLINES       18585         228142036       0.814624\n",
      "SPIRIT AIRLINES           2920          32304571       0.903897\n",
      "UNITED AIRLINES           4941         134468897       0.367446\n",
      "VIRGIN AMERICA             242          12017967       0.201365\n"
     ]
    }
   ],
   "source": [
    "# Step 3: Group by airline and sum the relevant columns\n",
    "airline_totals = airline_bumping.groupby(\"airline\")[[\"nb_bumped\", \"total_passengers\"]].sum()\n",
    "\n",
    "# Step 4: Calculate bumps per 10,000 passengers\n",
    "airline_totals[\"bumps_per_10k\"] = airline_totals[\"nb_bumped\"] / airline_totals[\"total_passengers\"] * 10000\n",
    "\n",
    "# Step 5: Display the results\n",
    "print(airline_totals)"
   ]
  },
  {
   "cell_type": "markdown",
   "id": "eef6b2cb",
   "metadata": {},
   "source": [
    "## Exercise: DataFrame to CSV\n",
    "\n",
    "After analyzing airline bumping data, the next step is to make your results easier to share. You’ll sort the DataFrame based on the number of passengers bumped per 10,000 passengers and save it as a CSV file for colleagues.\n",
    "\n",
    "### Instructions\n",
    "\n",
    "1. Sort the `airline_totals` DataFrame by `bumps_per_10k` in descending order and store it as `airline_totals_sorted`.\n",
    "2. Print the sorted DataFrame to inspect it.\n",
    "3. Export the sorted DataFrame to a CSV file named `\"airline_totals_sorted.csv\"`."
   ]
  },
  {
   "cell_type": "code",
   "execution_count": 4,
   "id": "b26dd221",
   "metadata": {},
   "outputs": [
    {
     "name": "stdout",
     "output_type": "stream",
     "text": [
      "                     nb_bumped  total_passengers  bumps_per_10k\n",
      "airline                                                        \n",
      "EXPRESSJET AIRLINES       3326          27858678       1.193883\n",
      "SPIRIT AIRLINES           2920          32304571       0.903897\n",
      "SOUTHWEST AIRLINES       18585         228142036       0.814624\n",
      "JETBLUE AIRWAYS           3615          53245866       0.678926\n",
      "SKYWEST AIRLINES          3094          47091737       0.657015\n",
      "AMERICAN AIRLINES        11115         197365225       0.563169\n",
      "FRONTIER AIRLINES         1228          22954995       0.534960\n",
      "ALASKA AIRLINES           1392          36543121       0.380920\n",
      "UNITED AIRLINES           4941         134468897       0.367446\n",
      "VIRGIN AMERICA             242          12017967       0.201365\n",
      "DELTA AIR LINES           1591         197033215       0.080748\n",
      "HAWAIIAN AIRLINES          122          16577572       0.073593\n"
     ]
    }
   ],
   "source": [
    "# Step 1: Sort the DataFrame by bumps_per_10k in descending order\n",
    "airline_totals_sorted = airline_totals.sort_values(\"bumps_per_10k\", ascending=False)\n",
    "\n",
    "# Step 2: Print the sorted DataFrame\n",
    "print(airline_totals_sorted)\n",
    "\n",
    "# Step 3: Export the sorted DataFrame to CSV\n",
    "airline_totals_sorted.to_csv(\"datasets/airline_totals_sorted.csv\")"
   ]
  }
 ],
 "metadata": {
  "kernelspec": {
   "display_name": "Python 3",
   "language": "python",
   "name": "python3"
  },
  "language_info": {
   "codemirror_mode": {
    "name": "ipython",
    "version": 3
   },
   "file_extension": ".py",
   "mimetype": "text/x-python",
   "name": "python",
   "nbconvert_exporter": "python",
   "pygments_lexer": "ipython3",
   "version": "3.12.5"
  }
 },
 "nbformat": 4,
 "nbformat_minor": 5
}

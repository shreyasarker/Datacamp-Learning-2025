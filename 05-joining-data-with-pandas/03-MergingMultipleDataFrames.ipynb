{
 "cells": [
  {
   "cell_type": "markdown",
   "id": "532e95b4",
   "metadata": {},
   "source": [
    "# Merging multiple DataFrames  \n",
    "\n",
    "Merging tables is an important step in combining data from different sources to answer complex questions. In earlier lessons, we looked at merging two tables with a one-to-many relationship.\n",
    "\n",
    "Sometimes, however, the analysis requires more than two tables to be merged together. This helps bring in additional information and allows for deeper insights.\n",
    "\n",
    "When working with multiple tables, it is often necessary to carefully choose the columns on which to merge. Using only one column may lead to unwanted matches, so combining multiple columns can help ensure that the data aligns correctly.\n",
    "\n",
    "The merge method in pandas allows us to specify multiple columns at once by passing a list of column names. In such cases, rows will only be matched if all specified columns have the same values in both tables.\n",
    "\n",
    "Beyond merging two tables, we can continue to add more. After performing the first merge, we can merge the result with another table, repeating the process as many times as needed. This way, information from different sources can be brought together into a single DataFrame for analysis.\n",
    "\n",
    "Finally, once all tables are merged, the combined dataset can be used to perform calculations, summaries, or visualizations. While three tables are often enough in many cases, pandas supports merging even more if the analysis requires it."
   ]
  },
  {
   "cell_type": "markdown",
   "id": "48b28ff4",
   "metadata": {},
   "source": [
    "## Prepare Data"
   ]
  },
  {
   "cell_type": "code",
   "execution_count": 5,
   "id": "1e865307",
   "metadata": {},
   "outputs": [],
   "source": [
    "# Import pandas library\n",
    "import pandas as pd\n",
    "\n",
    "# Read the file\n",
    "ridership = pd.read_pickle(\"datasets/cta_ridership.p\")\n",
    "cal = pd.read_pickle(\"datasets/cta_calendar.p\")\n",
    "stations = pd.read_pickle(\"datasets/stations.p\")\n",
    "licenses = pd.read_pickle(\"datasets/licenses.p\")\n",
    "wards = pd.read_pickle(\"datasets/ward.p\")\n",
    "zip_demo = pd.read_pickle(\"datasets/zip_demo.p\")\n",
    "census = pd.read_pickle(\"datasets/census.p\")\n",
    "land_use = pd.read_pickle(\"datasets/land_use.p\")"
   ]
  },
  {
   "cell_type": "markdown",
   "id": "859b1d10",
   "metadata": {},
   "source": [
    "## Exercise: Total riders in a month\n",
    "\n",
    "The task is to calculate the total number of passengers who traveled through the Wilson station during weekdays in the month of July. This information is available across three different tables, which need to be merged in order to answer the question.\n",
    "\n",
    "The three DataFrames provided are **cal**, **ridership**, and **stations**. The **cal** table is connected to **ridership** through the columns `year`, `month`, and `day`. Meanwhile, the **ridership** table links to **stations** through the column `station_id`.\n",
    "\n",
    "### Instructions\n",
    "\n",
    "1. Merge the **ridership** and **cal** tables first, using the common columns `year`, `month`, and `day`.\n",
    "2. Merge the resulting DataFrame with the **stations** table on `station_id`.\n",
    "3. Apply conditions to filter the data for the month of July, weekdays, and the Wilson station.\n",
    "4. Finally, compute the total number of rides that meet these conditions."
   ]
  },
  {
   "cell_type": "code",
   "execution_count": 2,
   "id": "d45a4a2f",
   "metadata": {},
   "outputs": [
    {
     "name": "stdout",
     "output_type": "stream",
     "text": [
      "140005\n"
     ]
    }
   ],
   "source": [
    "# Step 1: Merge ridership with cal on year, month, and day\n",
    "ridership_with_cal = ridership.merge(cal, on=['year', 'month', 'day'])\n",
    "\n",
    "# Step 2: Merge the result with stations on station_id\n",
    "full_data = ridership_with_cal.merge(stations, on='station_id')\n",
    "\n",
    "# Step 3: Define filtering conditions\n",
    "conditions = (\n",
    "    (full_data['month'] == 7) &\n",
    "    (full_data['day_type'] == 'Weekday') &\n",
    "    (full_data['station_name'] == 'Wilson')\n",
    ")\n",
    "\n",
    "# Step 4: Apply the filter and calculate total rides\n",
    "total_rides = full_data.loc[conditions, 'rides'].sum()\n",
    "\n",
    "# Display the result\n",
    "print(total_rides)"
   ]
  },
  {
   "cell_type": "markdown",
   "id": "4a91c1e1",
   "metadata": {},
   "source": [
    "## Exercise: Three table merge\n",
    "\n",
    "You’ll now practice combining three datasets. Along with business license data and ward information, you also have demographic data that shows median income by zip code. Your task is to combine all three datasets and then examine how income varies across aldermen.\n",
    "\n",
    "### Instructions\n",
    "\n",
    "* Merge `licenses` with `zip_demo` on the `zip` column.\n",
    "* Merge that result with `wards` on the `ward` column.\n",
    "* Save the merged DataFrame as `combined_df`.\n",
    "* Group `combined_df` by `alderman` and calculate the median income."
   ]
  },
  {
   "cell_type": "code",
   "execution_count": 4,
   "id": "361f5585",
   "metadata": {},
   "outputs": [
    {
     "name": "stdout",
     "output_type": "stream",
     "text": [
      "alderman\n",
      "Ameya Pawar                   66246.0\n",
      "Anthony A. Beale              38206.0\n",
      "Anthony V. Napolitano         82226.0\n",
      "Ariel E. Reyboras             41307.0\n",
      "Brendan Reilly               110215.0\n",
      "Brian Hopkins                 87143.0\n",
      "Carlos Ramirez-Rosa           66246.0\n",
      "Carrie M. Austin              38206.0\n",
      "Chris Taliaferro              55566.0\n",
      "Daniel \"Danny\" Solis          41226.0\n",
      "David H. Moore                33304.0\n",
      "Deborah Mell                  66246.0\n",
      "Debra L. Silverstein          50554.0\n",
      "Derrick G. Curtis             65770.0\n",
      "Edward M. Burke               42335.0\n",
      "Emma M. Mitts                 36283.0\n",
      "George Cardenas               33959.0\n",
      "Gilbert Villegas              41307.0\n",
      "Gregory I. Mitchell           24941.0\n",
      "Harry Osterman                45442.0\n",
      "Howard B. Brookins, Jr.       33304.0\n",
      "James Cappleman               79565.0\n",
      "Jason C. Ervin                41226.0\n",
      "Joe Moore                     39163.0\n",
      "John S. Arena                 70122.0\n",
      "Leslie A. Hairston            28024.0\n",
      "Margaret Laurino              70122.0\n",
      "Marty Quinn                   67045.0\n",
      "Matthew J. O'Shea             59488.0\n",
      "Michael R. Zalewski           42335.0\n",
      "Michael Scott, Jr.            31445.0\n",
      "Michelle A. Harris            32558.0\n",
      "Michelle Smith               100116.0\n",
      "Milagros \"Milly\" Santiago     41307.0\n",
      "Nicholas Sposato              62223.0\n",
      "Pat Dowell                    46340.0\n",
      "Patrick Daley Thompson        41226.0\n",
      "Patrick J. O'Connor           50554.0\n",
      "Proco \"Joe\" Moreno            87143.0\n",
      "Raymond A. Lopez              33959.0\n",
      "Ricardo Munoz                 31445.0\n",
      "Roberto Maldonado             68223.0\n",
      "Roderick T. Sawyer            32558.0\n",
      "Scott Waguespack              68223.0\n",
      "Susan Sadlowski Garza         38417.0\n",
      "Tom Tunney                    88708.0\n",
      "Toni L. Foulkes               27573.0\n",
      "Walter Burnett, Jr.           87143.0\n",
      "William D. Burns             107811.0\n",
      "Willie B. Cochran             28024.0\n",
      "Name: income, dtype: float64\n"
     ]
    }
   ],
   "source": [
    "# Step 1: Merge licenses with zip_demo on 'zip'\n",
    "licenses_zip = licenses.merge(zip_demo, on=\"zip\")\n",
    "\n",
    "# Step 2: Merge the result with wards on 'ward'\n",
    "combined_df = licenses_zip.merge(wards, on=\"ward\")\n",
    "\n",
    "# Step 3: Group by alderman and calculate median income\n",
    "median_income = combined_df.groupby(\"alderman\")[\"income\"].median()\n",
    "\n",
    "# Display the result\n",
    "print(median_income)"
   ]
  },
  {
   "cell_type": "markdown",
   "id": "bdd75c64",
   "metadata": {},
   "source": [
    "## Exercise: One-to-many merge with multiple tables\n",
    "\n",
    "**Finding the best ward for your goat business**\n",
    "Suppose you want to launch a goat lawn-mowing service in Chicago. To choose a location, you need a ward with lots of open land, but not too many people or businesses nearby. You’ll combine data on vacant land, population, and existing business licenses to figure this out.\n",
    "\n",
    "### Instructions\n",
    "\n",
    "**Step 1 (35 XP)**\n",
    "Merge the `land_use` and `census` tables on the `ward` column. Then merge this result with the `licenses` table, again on `ward`. Use suffixes `_cen` (for census) and `_lic` (for licenses). Store the merged DataFrame as `land_cen_lic`.\n",
    "\n",
    "**Step 2 (35 XP)**\n",
    "Group `land_cen_lic` by `ward`, `pop_2010`, and `vacant`. Count how many business accounts are in each group, and save the result to `pop_vac_lic`.\n",
    "\n",
    "**Step 3 (30 XP)**\n",
    "Sort `pop_vac_lic` by:\n",
    "\n",
    "* `vacant` → descending\n",
    "* `account` → ascending\n",
    "* `pop_2010` → ascending\n",
    "\n",
    "Save this sorted DataFrame as `sorted_pop_vac_lic`."
   ]
  },
  {
   "cell_type": "code",
   "execution_count": 7,
   "id": "310553fe",
   "metadata": {},
   "outputs": [
    {
     "name": "stdout",
     "output_type": "stream",
     "text": [
      "   ward  pop_2010  vacant  account\n",
      "47    7     51581      19       80\n",
      "12   20     52372      15      123\n",
      "1    10     51535      14      130\n",
      "16   24     54909      13       98\n",
      "7    16     51954      13      156\n"
     ]
    }
   ],
   "source": [
    "# Step 1: Merge land_use, census, and licenses on ward\n",
    "land_cen_lic = (\n",
    "    land_use.merge(census, on=\"ward\")\n",
    "            .merge(licenses, on=\"ward\", suffixes=(\"_cen\", \"_lic\"))\n",
    ")\n",
    "\n",
    "# Step 2: Group by ward, population, and vacant land; count business accounts\n",
    "pop_vac_lic = (\n",
    "    land_cen_lic.groupby([\"ward\", \"pop_2010\", \"vacant\"], as_index=False)\n",
    "                .agg({\"account\": \"count\"})\n",
    ")\n",
    "\n",
    "# Step 3: Sort by vacant (desc), account (asc), and population (asc)\n",
    "sorted_pop_vac_lic = pop_vac_lic.sort_values(\n",
    "    [\"vacant\", \"account\", \"pop_2010\"],\n",
    "    ascending=[False, True, True]\n",
    ")\n",
    "\n",
    "# Display the top results\n",
    "print(sorted_pop_vac_lic.head())"
   ]
  }
 ],
 "metadata": {
  "kernelspec": {
   "display_name": "Python 3",
   "language": "python",
   "name": "python3"
  },
  "language_info": {
   "codemirror_mode": {
    "name": "ipython",
    "version": 3
   },
   "file_extension": ".py",
   "mimetype": "text/x-python",
   "name": "python",
   "nbconvert_exporter": "python",
   "pygments_lexer": "ipython3",
   "version": "3.12.5"
  }
 },
 "nbformat": 4,
 "nbformat_minor": 5
}

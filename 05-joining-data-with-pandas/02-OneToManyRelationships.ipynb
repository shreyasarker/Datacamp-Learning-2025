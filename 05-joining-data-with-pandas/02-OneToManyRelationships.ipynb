{
 "cells": [
  {
   "cell_type": "markdown",
   "id": "23427030",
   "metadata": {},
   "source": [
    "# One-to-many relationships\n",
    "\n",
    "In the previous lesson, we explored how to merge DataFrames using the `merge` method. Now, we will move on to understanding different kinds of relationships between tables, with a focus on the concept of a **one-to-many relationship**. Before diving into that, let’s briefly revisit the idea of a **one-to-one relationship**.\n",
    "\n",
    "A **one-to-one relationship** occurs when each row in one table corresponds to exactly one row in another table. In other words, there is a direct match between entries across both tables, and no row is linked to multiple rows on the other side.\n",
    "\n",
    "On the other hand, a **one-to-many relationship** happens when each row in the first table can be linked to one or multiple rows in the second table. This type of relationship naturally leads to the repetition of values from the first table in the merged output, since one entry connects to several records on the other side.\n",
    "\n",
    "When performing a merge in a one-to-many scenario, pandas handles this relationship without requiring special instructions. However, an important point to note is that the number of rows in the resulting DataFrame will usually be greater than the number of rows in the original table used for merging.\n"
   ]
  },
  {
   "cell_type": "markdown",
   "id": "b3d83108",
   "metadata": {},
   "source": [
    "## Prepare Data"
   ]
  },
  {
   "cell_type": "code",
   "execution_count": 2,
   "id": "9002efd4",
   "metadata": {},
   "outputs": [],
   "source": [
    "# Import pandas library\n",
    "import pandas as pd\n",
    "\n",
    "# Read the file\n",
    "licenses = pd.read_pickle(\"datasets/licenses.p\")\n",
    "biz_owners = pd.read_pickle(\"datasets/business_owners.p\")"
   ]
  },
  {
   "cell_type": "markdown",
   "id": "7778badd",
   "metadata": {},
   "source": [
    "## Exercise: One-to-many merge\n",
    "\n",
    "In this task, you’ll practice working with one-to-many relationships by combining the `licenses` table with the `biz_owners` table. Since a single business can have multiple owners, merging these tables will show how rows from the left table may be repeated when connected to multiple matches in the right table. After merging, you will identify the most frequent owner titles, such as CEO, secretary, or vice president.\n",
    "\n",
    "Both the `licenses` and `biz_owners` DataFrames have already been provided.\n",
    "\n",
    "### Instructions\n",
    "\n",
    "1. Merge the `licenses` table (left) with the `biz_owners` table (right) using the `account` column, and store the result as `licenses_owners`.\n",
    "2. Group the merged DataFrame by the `title` column and count how many accounts fall under each title. Save this as `counted_df`.\n",
    "3. Sort `counted_df` by the account counts in descending order, and assign the result to `sorted_df`.\n",
    "4. Display the first few rows of `sorted_df` using `.head()`."
   ]
  },
  {
   "cell_type": "code",
   "execution_count": 3,
   "id": "2de251ea",
   "metadata": {},
   "outputs": [
    {
     "name": "stdout",
     "output_type": "stream",
     "text": [
      "title\n",
      "PRESIDENT          6259\n",
      "SECRETARY          5205\n",
      "SOLE PROPRIETOR    1658\n",
      "OTHER              1200\n",
      "VICE PRESIDENT      970\n",
      "Name: account, dtype: int64\n"
     ]
    }
   ],
   "source": [
    "# Merge licenses with biz_owners on the 'account' column\n",
    "licenses_owners = licenses.merge(biz_owners, on=\"account\")\n",
    "\n",
    "# Count accounts by each owner title\n",
    "counted_df = licenses_owners.groupby(\"title\")[\"account\"].count()\n",
    "\n",
    "# Sort the results in descending order\n",
    "sorted_df = counted_df.sort_values(ascending=False)\n",
    "\n",
    "# View the first few rows\n",
    "print(sorted_df.head())"
   ]
  }
 ],
 "metadata": {
  "kernelspec": {
   "display_name": "Python 3",
   "language": "python",
   "name": "python3"
  },
  "language_info": {
   "codemirror_mode": {
    "name": "ipython",
    "version": 3
   },
   "file_extension": ".py",
   "mimetype": "text/x-python",
   "name": "python",
   "nbconvert_exporter": "python",
   "pygments_lexer": "ipython3",
   "version": "3.12.5"
  }
 },
 "nbformat": 4,
 "nbformat_minor": 5
}

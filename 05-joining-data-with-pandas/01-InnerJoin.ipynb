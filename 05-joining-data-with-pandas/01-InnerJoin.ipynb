{
 "cells": [
  {
   "cell_type": "markdown",
   "id": "f31091f1",
   "metadata": {},
   "source": [
    "# Inner join\n",
    "\n",
    "Pandas allows combining data from different tables using **merging or joining**. This is done with the `merge()` function.\n",
    "\n",
    "When two tables share a common column, merging aligns rows based on that column. By default, this creates an **inner join**, meaning only rows present in both tables are kept.\n",
    "\n",
    "If both tables have columns with the same name, pandas adds suffixes (`_x`, `_y`) to distinguish them. Custom suffixes can also be set for clarity."
   ]
  },
  {
   "cell_type": "markdown",
   "id": "3ad13b0e",
   "metadata": {},
   "source": [
    "## Prepare Data"
   ]
  },
  {
   "cell_type": "code",
   "execution_count": 2,
   "id": "de465755",
   "metadata": {},
   "outputs": [],
   "source": [
    "# Import pandas library\n",
    "import pandas as pd\n",
    "\n",
    "# Read the file\n",
    "taxi_owners = pd.read_pickle(\"datasets/taxi_owners.p\")\n",
    "taxi_vehicles = pd.read_pickle(\"datasets/taxi_vehicles.p\")\n",
    "wards = pd.read_pickle(\"datasets/ward.p\")\n",
    "census = pd.read_pickle(\"datasets/census.p\")\n",
    "\n",
    "wards_altered = pd.read_csv(\"datasets/wards_altered.csv\")\n",
    "census_altered = pd.read_csv(\"datasets/census_altered.csv\")"
   ]
  },
  {
   "cell_type": "markdown",
   "id": "fc2ae053",
   "metadata": {},
   "source": [
    "## Exercise: Your first inner join\n",
    "\n",
    "You need to identify the most commonly used fuel type among Chicago taxis. To do this, combine the `taxi_owners` and `taxi_veh` tables using the `vid` column as the key. Once merged, examine the `fuel_type` column to determine the most frequent values.\n",
    "\n",
    "### Instructions\n",
    "\n",
    "1. Merge the `taxi_owners` and `taxi_veh` DataFrames on the column `vid` and store the result in `combined_taxi_data`.\n",
    "2. Add suffixes `_own` and `_veh` to overlapping column names so they can be distinguished.\n",
    "3. Use `.value_counts()` on the `fuel_type` column to see which fuel types are most common."
   ]
  },
  {
   "cell_type": "code",
   "execution_count": 3,
   "id": "99101f9e",
   "metadata": {},
   "outputs": [
    {
     "name": "stdout",
     "output_type": "stream",
     "text": [
      "Index(['rid', 'vid', 'owner_own', 'address', 'zip', 'make', 'model', 'year',\n",
      "       'fuel_type', 'owner_veh'],\n",
      "      dtype='object')\n",
      "fuel_type\n",
      "HYBRID                    2792\n",
      "GASOLINE                   611\n",
      "FLEX FUEL                   89\n",
      "COMPRESSED NATURAL GAS      27\n",
      "Name: count, dtype: int64\n"
     ]
    }
   ],
   "source": [
    "# Merge the DataFrames on vid with custom suffixes\n",
    "combined_taxi_data = pd.merge(taxi_owners, taxi_vehicles, on=\"vid\", suffixes=(\"_own\", \"_veh\"))\n",
    "\n",
    "# Check the available columns\n",
    "print(combined_taxi_data.columns)\n",
    "\n",
    "# Find the most common fuel type\n",
    "fuel_counts = combined_taxi_data[\"fuel_type\"].value_counts()\n",
    "print(fuel_counts)"
   ]
  },
  {
   "cell_type": "markdown",
   "id": "bfaf9327",
   "metadata": {},
   "source": [
    "## Exercise: Inner joins and number of rows returned\n",
    "\n",
    "So far, all the merges you’ve worked with are **inner joins**. An inner join returns only the rows where the key values exist in both tables. In this exercise, you’ll see how altering the data affects the number of rows returned.\n",
    "\n",
    "You’ll first merge the original `wards` and `census` tables. Then, you’ll compare the results when merging with slightly modified versions of these tables (`wards_altered` and `census_altered`), where the first row in the `ward` column has been changed.\n",
    "\n",
    "Note: Both `wards` and `census` originally contain 50 rows.\n",
    "\n",
    "### Instructions\n",
    "\n",
    "1. Merge the original `wards` and `census` tables on the `ward` column and check the size of the resulting DataFrame.\n",
    "2. Merge `wards_altered` with `census` on the `ward` column and observe the change in number of rows.\n",
    "3. Merge `wards` with `census_altered` on the `ward` column and compare the result."
   ]
  },
  {
   "cell_type": "code",
   "execution_count": 4,
   "id": "8e38f237",
   "metadata": {},
   "outputs": [
    {
     "name": "stdout",
     "output_type": "stream",
     "text": [
      "Shape of wards_census: (50, 9)\n"
     ]
    }
   ],
   "source": [
    "# Merge original wards and census tables\n",
    "\n",
    "wards_census = pd.merge(wards, census, on=\"ward\")\n",
    "print(\"Shape of wards_census:\", wards_census.shape)"
   ]
  },
  {
   "cell_type": "code",
   "execution_count": 5,
   "id": "5404e23a",
   "metadata": {},
   "outputs": [
    {
     "name": "stdout",
     "output_type": "stream",
     "text": [
      "\n",
      "First few ward values in wards_altered:\n",
      "0    61\n",
      "1     2\n",
      "2     3\n",
      "3     4\n",
      "4     5\n",
      "Name: ward, dtype: int64\n"
     ]
    }
   ],
   "source": [
    "# Preview the change in wards_altered\n",
    "print(\"\\nFirst few ward values in wards_altered:\")\n",
    "print(wards_altered[\"ward\"].head())"
   ]
  },
  {
   "cell_type": "code",
   "execution_count": 6,
   "id": "04789ea9",
   "metadata": {},
   "outputs": [
    {
     "name": "stdout",
     "output_type": "stream",
     "text": [
      "Shape of wards_altered_census: (49, 9)\n"
     ]
    }
   ],
   "source": [
    "# Merge wards_altered with census after aligning 'ward' column types\n",
    "wards_altered[\"ward\"] = wards_altered[\"ward\"].astype(str)\n",
    "census[\"ward\"] = census[\"ward\"].astype(str)\n",
    "wards_altered_census = pd.merge(wards_altered, census, on=\"ward\")\n",
    "print(\"Shape of wards_altered_census:\", wards_altered_census.shape)"
   ]
  },
  {
   "cell_type": "code",
   "execution_count": 7,
   "id": "f2012830",
   "metadata": {},
   "outputs": [
    {
     "name": "stdout",
     "output_type": "stream",
     "text": [
      "\n",
      "First few ward values in census_altered:\n",
      "0    NaN\n",
      "1    2.0\n",
      "2    3.0\n",
      "3    4.0\n",
      "4    5.0\n",
      "Name: ward, dtype: float64\n"
     ]
    }
   ],
   "source": [
    "# Preview the change in census_altered\n",
    "print(\"\\nFirst few ward values in census_altered:\")\n",
    "print(census_altered[\"ward\"].head())"
   ]
  },
  {
   "cell_type": "code",
   "execution_count": 8,
   "id": "671a9bec",
   "metadata": {},
   "outputs": [
    {
     "name": "stdout",
     "output_type": "stream",
     "text": [
      "Shape of wards_census_altered: (0, 9)\n"
     ]
    }
   ],
   "source": [
    "# Merge wards with census_altered\n",
    "census_altered[\"ward\"] = census_altered[\"ward\"].astype(str)\n",
    "wards_census_altered = pd.merge(wards, census_altered, on=\"ward\")\n",
    "print(\"Shape of wards_census_altered:\", wards_census_altered.shape)"
   ]
  }
 ],
 "metadata": {
  "kernelspec": {
   "display_name": "Python 3",
   "language": "python",
   "name": "python3"
  },
  "language_info": {
   "codemirror_mode": {
    "name": "ipython",
    "version": 3
   },
   "file_extension": ".py",
   "mimetype": "text/x-python",
   "name": "python",
   "nbconvert_exporter": "python",
   "pygments_lexer": "ipython3",
   "version": "3.12.5"
  }
 },
 "nbformat": 4,
 "nbformat_minor": 5
}

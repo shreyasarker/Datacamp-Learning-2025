{
 "cells": [
  {
   "cell_type": "markdown",
   "id": "359c2eaa",
   "metadata": {},
   "source": [
    "# Merging a table to itself\n",
    "\n",
    "Merging a table to itself, also called a **self join**, is a useful technique when you need to connect rows within the same dataset based on related information.\n",
    "\n",
    "Sometimes, a single table contains references that point back to itself — for example, a column that lists a related record’s ID. To combine such related information into one view, you can merge the table with itself just like you would merge two different tables.\n",
    "\n",
    "In this process, both the left and right tables are copies of the same dataset. You can match rows by using the `left_on` and `right_on` parameters to specify which columns should be compared. The `suffixes` parameter helps label columns clearly so that you can distinguish between those coming from the original entries and those from the related ones.\n",
    "\n",
    "Once merged, the result can display related information side by side — for instance, linking an original record with its associated or next-level record in the same table. You can further refine the results by selecting only the most relevant columns to display.\n",
    "\n",
    "Just like regular merges, a self join can be performed using different join types. Using an inner join will only include rows that have matches, while a left join will include all rows from the original side and fill missing matches with null values.\n",
    "\n",
    "In practice, self joins are especially valuable when dealing with **hierarchical data**, such as employee-manager relationships, **sequential records**, like progress stages or movements, or **network data**, such as social connections."
   ]
  }
 ],
 "metadata": {
  "language_info": {
   "name": "python"
  }
 },
 "nbformat": 4,
 "nbformat_minor": 5
}

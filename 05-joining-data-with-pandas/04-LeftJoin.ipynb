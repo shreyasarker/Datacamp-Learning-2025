{
 "cells": [
  {
   "cell_type": "markdown",
   "id": "023bb3ae",
   "metadata": {},
   "source": [
    "# Left Join\n",
    "\n",
    "In this lesson, we focus on the concept of a **left join**, another method of combining two tables. Before diving in, let’s recall what we already know.\n",
    "\n",
    "Previously, we learned about the `merge` method in pandas, which combines two tables using one or more key columns. By default, this method performs an **inner join**, meaning it only returns rows where the key values are present in both tables.\n",
    "\n",
    "A **left join** works differently. It returns **all the rows from the left table**, and only the matching rows from the right table based on the key columns. If a value in the left table does not have a corresponding match in the right table, the left table’s data is still included, but the missing fields from the right table are filled with null values.\n",
    "\n",
    "This is an important distinction because a left join ensures that no data from the left table is excluded, even when no match exists in the right table. This feature makes left joins particularly useful when the left dataset is the main source of information and you want to enrich it with details from another table without losing any original rows.\n",
    "\n",
    "When performing a left join, pandas requires the `how='left'` argument in the merge function. The default setting is `how='inner'`, which is why it wasn’t necessary to specify this earlier when we worked only with inner joins.\n",
    "\n",
    "After completing a left join, the number of rows in the resulting table will always be equal to the number of rows in the left table, assuming a one-to-one relationship. This consistency ensures that the left table’s data remains fully intact while supplementing it with additional information where available.\n"
   ]
  },
  {
   "cell_type": "markdown",
   "id": "3c752303",
   "metadata": {},
   "source": [
    "## Prepare Data"
   ]
  },
  {
   "cell_type": "code",
   "execution_count": 3,
   "id": "e5ea2ac2",
   "metadata": {},
   "outputs": [],
   "source": [
    "# Import pandas library\n",
    "import pandas as pd\n",
    "\n",
    "# Read the file\n",
    "movies = pd.read_pickle(\"datasets/movies.p\")\n",
    "financials = pd.read_pickle(\"datasets/financials.p\")\n",
    "toy_story = pd.read_csv(\"datasets/toy_story.csv\")\n",
    "taglines = pd.read_pickle(\"datasets/taglines.p\")"
   ]
  },
  {
   "cell_type": "markdown",
   "id": "c4c216e0",
   "metadata": {},
   "source": [
    "## Exercise: Counting missing rows with left join\n",
    "\n",
    "The Movie Database is a collaborative project where volunteers gather and input various types of information, including details about movie budgets and revenues. To check which movies lack financial data, we can apply a **left join** between the movies table and the financials table. This allows us to preserve all movie records while spotting the ones with missing financial details.\n",
    "\n",
    "The `movies` and `financials` DataFrames are already available for use.\n",
    "\n",
    "### Instructions\n",
    "\n",
    "1. Perform a left join between the `movies` table and the `financials` table, keeping `movies` as the left table, and store the result in `movies_financials`.\n",
    "2. Find out how many rows in `movies_financials` do not have a value in the `budget` column.\n"
   ]
  },
  {
   "cell_type": "code",
   "execution_count": 3,
   "id": "314964e3",
   "metadata": {},
   "outputs": [
    {
     "name": "stdout",
     "output_type": "stream",
     "text": [
      "1574\n"
     ]
    }
   ],
   "source": [
    "# Perform a left join between movies and financials\n",
    "movies_financials = movies.merge(financials, how='left', on='id')\n",
    "\n",
    "# Calculate how many rows have missing budget values\n",
    "missing_budget_count = movies_financials['budget'].isna().sum()\n",
    "\n",
    "# Display the result\n",
    "print(missing_budget_count)"
   ]
  },
  {
   "cell_type": "markdown",
   "id": "92107ff6",
   "metadata": {},
   "source": [
    "## Exercise: Enriching a dataset\n",
    "\n",
    "Using `how='left'` in the `.merge()` method is a practical way to add more context to an existing dataset. In this task, you will work with a small set of Toy Story movies and add their marketing tag lines. The exercise also demonstrates the difference in results between a **left join** and an **inner join**.\n",
    "\n",
    "The `toy_story` DataFrame contains Toy Story movie data, and the `taglines` DataFrame contains marketing tag lines. Both have been preloaded.\n",
    "\n",
    "### Instructions\n",
    "\n",
    "1. Merge `toy_story` with `taglines` on the `id` column using a **left join** and store the result in `toystory_left`.\n",
    "2. Merge `toy_story` with `taglines` on the `id` column using an **inner join** and store the result in `toystory_inner`."
   ]
  },
  {
   "cell_type": "code",
   "execution_count": 4,
   "id": "5fad4666",
   "metadata": {},
   "outputs": [
    {
     "name": "stdout",
     "output_type": "stream",
     "text": [
      "      id        title  popularity release_date                   tagline\n",
      "0  10193  Toy Story 3      59.995   2010-06-16  No toy gets left behind.\n",
      "1    863  Toy Story 2      73.575   1999-10-30        The toys are back!\n",
      "2    862    Toy Story      73.640   1995-10-30                       NaN\n",
      "(3, 5)\n"
     ]
    }
   ],
   "source": [
    "# Left join: keep all rows from toy_story and add taglines when available\n",
    "toystory_left = toy_story.merge(taglines, on='id', how='left')\n",
    "\n",
    "# Display the merged table and its dimensions\n",
    "print(toystory_left)\n",
    "print(toystory_left.shape)"
   ]
  },
  {
   "cell_type": "code",
   "execution_count": 5,
   "id": "85175082",
   "metadata": {},
   "outputs": [
    {
     "name": "stdout",
     "output_type": "stream",
     "text": [
      "      id        title  popularity release_date                   tagline\n",
      "0  10193  Toy Story 3      59.995   2010-06-16  No toy gets left behind.\n",
      "1    863  Toy Story 2      73.575   1999-10-30        The toys are back!\n",
      "(2, 5)\n"
     ]
    }
   ],
   "source": [
    "# Inner join: keep only rows that have matches in both tables\n",
    "toystory_inner = toy_story.merge(taglines, on='id', how='inner')\n",
    "\n",
    "# Display the merged table and its dimensions\n",
    "print(toystory_inner)\n",
    "print(toystory_inner.shape)"
   ]
  }
 ],
 "metadata": {
  "kernelspec": {
   "display_name": "Python 3",
   "language": "python",
   "name": "python3"
  },
  "language_info": {
   "codemirror_mode": {
    "name": "ipython",
    "version": 3
   },
   "file_extension": ".py",
   "mimetype": "text/x-python",
   "name": "python",
   "nbconvert_exporter": "python",
   "pygments_lexer": "ipython3",
   "version": "3.12.5"
  }
 },
 "nbformat": 4,
 "nbformat_minor": 5
}

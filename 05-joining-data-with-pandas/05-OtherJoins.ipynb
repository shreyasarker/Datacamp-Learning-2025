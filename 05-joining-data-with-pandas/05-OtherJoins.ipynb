{
 "cells": [
  {
   "cell_type": "markdown",
   "id": "3c64d133",
   "metadata": {},
   "source": [
    "# Other joins\n",
    "\n",
    "The `merge()` method in pandas allows not only inner and left joins but also supports two additional types of joins: **right joins** and **outer joins**.\n",
    "\n",
    "A right join works as the counterpart of a left join. It keeps all rows from the right table and includes only the matching rows from the left table. Where no match exists, the left table’s columns will display missing values in the result.\n",
    "\n",
    "When performing a right join, sometimes the key column used to connect the two tables may have different names. In such cases, the `left_on` and `right_on` arguments of the `merge()` method allow us to specify which columns from each table should be matched. This ensures flexibility in handling tables with inconsistent naming conventions while still merging correctly.\n",
    "\n",
    "The last type of join is the outer join. An outer join returns all rows from both tables, regardless of whether a match is present. If there is no corresponding value between the two tables, the unmatched columns are filled with null values.\n",
    "\n",
    "In practice, an outer join is particularly useful when combining datasets where complete overlap between key columns cannot be guaranteed. By including all rows from both tables, it provides a more comprehensive view, though it often results in some missing values in the merged output."
   ]
  },
  {
   "cell_type": "markdown",
   "id": "89cc01a0",
   "metadata": {},
   "source": [
    "## Prepare Data"
   ]
  },
  {
   "cell_type": "code",
   "execution_count": 10,
   "id": "7656e5e2",
   "metadata": {},
   "outputs": [],
   "source": [
    "# Import pandas library\n",
    "import pandas as pd\n",
    "\n",
    "# Read the file\n",
    "movies = pd.read_pickle(\"datasets/movies.p\")\n",
    "movies_genres = pd.read_pickle(\"datasets/movie_to_genres.p\")\n",
    "action_movies = movies_genres[movies_genres[\"genre\"] == \"Action\"]\n",
    "scifi_movies = movies_genres[movies_genres[\"genre\"] == \"Science Fiction\"]\n",
    "\n",
    "pop_movies = pd.read_csv(\"datasets/pop_movies.csv\")\n",
    "\n",
    "iron_1_actors = pd.read_csv(\"datasets/iron_1_actors.csv\")\n",
    "iron_2_actors = pd.read_csv(\"datasets/iron_2_actors.csv\")"
   ]
  },
  {
   "cell_type": "markdown",
   "id": "f0dd9af3",
   "metadata": {},
   "source": [
    "## Exercise: Right join to find unique movies\n",
    "\n",
    "You have two datasets: `action_movies` and `scifi_movies`. Since many science fiction films are also categorized as action movies, your goal is to find the movies that belong *only* to the sci-fi genre. To achieve this, you’ll perform a right join and then merge the result with the main `movies` table to get their details.\n",
    "\n",
    "### Instructions\n",
    "\n",
    "1. Merge the `action_movies` and `scifi_movies` tables using a **right join** on the column `movie_id`.\n",
    "2. Add suffixes `'_act'` and `'_sci'` to differentiate columns from the two tables.\n",
    "3. From the merged table, filter only the rows where `genre_act` is **null** — these represent sci-fi-only movies.\n",
    "4. Merge this filtered table with the `movies` table using an **inner join**, matching `id` from `movies` with `movie_id` from the sci-fi-only dataset.\n",
    "5. Display the first few rows and the shape of the final table."
   ]
  },
  {
   "cell_type": "code",
   "execution_count": 7,
   "id": "a220abf0",
   "metadata": {},
   "outputs": [
    {
     "name": "stdout",
     "output_type": "stream",
     "text": [
      "      id                         title  popularity release_date  movie_id  \\\n",
      "0  18841  The Lost Skeleton of Cadavra    1.680525   2001-09-12     18841   \n",
      "1  26672     The Thief and the Cobbler    2.439184   1993-09-23     26672   \n",
      "2  15301      Twilight Zone: The Movie   12.902975   1983-06-24     15301   \n",
      "3   8452                   The 6th Day   18.447479   2000-11-17      8452   \n",
      "4   1649    Bill & Ted's Bogus Journey   11.349664   1991-07-19      1649   \n",
      "\n",
      "  genre_act        genre_sci  \n",
      "0       NaN  Science Fiction  \n",
      "1       NaN  Science Fiction  \n",
      "2       NaN  Science Fiction  \n",
      "3       NaN  Science Fiction  \n",
      "4       NaN  Science Fiction  \n",
      "(258, 7)\n"
     ]
    }
   ],
   "source": [
    "# Step 1: Merge action_movies and scifi_movies with a right join\n",
    "action_scifi = action_movies.merge(\n",
    "    scifi_movies,\n",
    "    on='movie_id',\n",
    "    how='right',\n",
    "    suffixes=('_act', '_sci')\n",
    ")\n",
    "\n",
    "# Step 2: Filter rows where genre_act is null (sci-fi only)\n",
    "scifi_only = action_scifi[action_scifi['genre_act'].isnull()]\n",
    "\n",
    "# Step 3: Merge the sci-fi-only movies with the main movies table\n",
    "sci_fi_movies = movies.merge(\n",
    "    scifi_only,\n",
    "    left_on='id',\n",
    "    right_on='movie_id',\n",
    "    how='inner'\n",
    ")\n",
    "\n",
    "# Step 4: View results\n",
    "print(sci_fi_movies.head())\n",
    "print(sci_fi_movies.shape)"
   ]
  },
  {
   "cell_type": "markdown",
   "id": "30a70f23",
   "metadata": {},
   "source": [
    "## Exercise: Popular genres with right join\n",
    "\n",
    "You are given two datasets — one named `pop_movies`, containing the **top 10 most popular movies**, and another called `movies_genres`, which lists each movie’s genres.\n",
    "\n",
    "Your task is to find out which genres appear most often among the most popular movies. To make sure no popular movie is missed, you will perform a **right join** between these two tables. Note that the joining columns have different names: `id` in `pop_movies` and `movie_id` in `movies_genres`.\n",
    "\n",
    "Once merged, you’ll count how many movies belong to each genre and display the result using a bar chart.\n",
    "\n",
    "### Instructions\n",
    "\n",
    "1. Merge `movies_genres` and `pop_movies` using a **right join**, matching `movie_id` from the first table with `id` from the second.\n",
    "2. Save the merged table as `genre_popular`.\n",
    "3. Group the data by `genre` and count the number of movies for each.\n",
    "4. Display the results in a **bar chart** to visualize genre popularity."
   ]
  },
  {
   "cell_type": "code",
   "execution_count": 9,
   "id": "ac99a55e",
   "metadata": {},
   "outputs": [
    {
     "data": {
      "image/png": "[encoded data removed]",
      "text/plain": [
       "<Figure size 640x480 with 1 Axes>"
      ]
     },
     "metadata": {},
     "output_type": "display_data"
    }
   ],
   "source": [
    "import matplotlib.pyplot as plt\n",
    "\n",
    "# Step 1: Merge the two tables using a right join\n",
    "genre_popular = movies_genres.merge(\n",
    "    pop_movies,\n",
    "    how='right',\n",
    "    left_on='movie_id',\n",
    "    right_on='id'\n",
    ")\n",
    "\n",
    "# Step 2: Count the number of movies in each genre\n",
    "genre_summary = genre_popular.groupby('genre')['id'].count()\n",
    "\n",
    "# Step 3: Display the genre counts as a bar chart\n",
    "genre_summary.plot(kind='bar')\n",
    "plt.title('Genres of Top 10 Popular Movies')\n",
    "plt.xlabel('Genre')\n",
    "plt.ylabel('Number of Movies')\n",
    "plt.show()"
   ]
  },
  {
   "cell_type": "markdown",
   "id": "3f70e854",
   "metadata": {},
   "source": [
    "## Exercise: Using outer join to select actors\n",
    "\n",
    "An **outer join** is a great way to find items that don’t appear in both datasets. It includes **all records** from both tables and fills in **missing values** with nulls when a match is not found.\n",
    "\n",
    "In this task, you’ll work with two datasets:\n",
    "\n",
    "* `iron_1_actors` → actors from *Iron Man 1*\n",
    "* `iron_2_actors` → actors from *Iron Man 2*\n",
    "\n",
    "Many actors appeared in both movies, but your goal is to identify those who acted in **only one** of them.\n",
    "\n",
    "### Instructions\n",
    "\n",
    "1. Merge the `iron_1_actors` and `iron_2_actors` tables using an **outer join** on the `id` column.\n",
    "2. Use suffixes `('_1', '_2')` to distinguish actor names from each movie.\n",
    "3. Create a condition to identify rows where `name_1` or `name_2` is missing — these represent actors who appeared in **only one movie**.\n",
    "4. Display those specific rows."
   ]
  },
  {
   "cell_type": "code",
   "execution_count": 11,
   "id": "26b54893",
   "metadata": {},
   "outputs": [
    {
     "name": "stdout",
     "output_type": "stream",
     "text": [
      "                   character_1    id        name_1  \\\n",
      "0  Obadiah Stane / Iron Monger  1229  Jeff Bridges   \n",
      "1                          NaN  1245           NaN   \n",
      "2                          NaN  1896           NaN   \n",
      "4                          NaN  2295           NaN   \n",
      "7                          NaN  6807           NaN   \n",
      "\n",
      "                                        character_2              name_2  \n",
      "0                                               NaN                 NaN  \n",
      "1  Natalie Rushman / Natasha Romanoff / Black Widow  Scarlett Johansson  \n",
      "2      Lt. Col. James \"Rhodey\" Rhodes / War Machine         Don Cheadle  \n",
      "4                             Ivan Vanko / Whiplash       Mickey Rourke  \n",
      "7                                     Justin Hammer        Sam Rockwell  \n"
     ]
    }
   ],
   "source": [
    "# Step 1: Merge both actor tables using an outer join\n",
    "iron_1_and_2 = iron_1_actors.merge(\n",
    "    iron_2_actors,\n",
    "    on='id',\n",
    "    how='outer',\n",
    "    suffixes=('_1', '_2')\n",
    ")\n",
    "\n",
    "# Step 2: Identify actors who acted in only one movie\n",
    "unique_actors = (iron_1_and_2['name_1'].isnull()) | (iron_1_and_2['name_2'].isnull())\n",
    "\n",
    "# Step 3: Display the unique actors\n",
    "print(iron_1_and_2[unique_actors].head())"
   ]
  }
 ],
 "metadata": {
  "kernelspec": {
   "display_name": "Python 3",
   "language": "python",
   "name": "python3"
  },
  "language_info": {
   "codemirror_mode": {
    "name": "ipython",
    "version": 3
   },
   "file_extension": ".py",
   "mimetype": "text/x-python",
   "name": "python",
   "nbconvert_exporter": "python",
   "pygments_lexer": "ipython3",
   "version": "3.12.5"
  }
 },
 "nbformat": 4,
 "nbformat_minor": 5
}
